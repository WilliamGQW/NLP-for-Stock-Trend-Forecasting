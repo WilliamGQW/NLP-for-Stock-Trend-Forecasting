{
  "cells": [
    {
      "cell_type": "code",
      "execution_count": 2,
      "metadata": {
        "colab": {
          "base_uri": "https://localhost:8080/"
        },
        "id": "8Gw8_Z-TJ87K",
        "outputId": "a9d498bf-dd3b-4ba9-dcf1-d590305960b4"
      },
      "outputs": [
        {
          "name": "stdout",
          "output_type": "stream",
          "text": [
            "Drive already mounted at /content/drive; to attempt to forcibly remount, call drive.mount(\"/content/drive\", force_remount=True).\n"
          ]
        }
      ],
      "source": [
        "# from google.colab import drive\n",
        "# drive.mount('/content/drive')"
      ]
    },
    {
      "cell_type": "code",
      "execution_count": 3,
      "metadata": {
        "colab": {
          "base_uri": "https://localhost:8080/"
        },
        "id": "LRuMAlOOKGDF",
        "outputId": "f8ca1b1c-3278-493d-c28f-12b69a65126c"
      },
      "outputs": [
        {
          "name": "stdout",
          "output_type": "stream",
          "text": [
            "/content/drive/MyDrive/csci544-project/a-novel-ensemble-deep-learning-model-for-stock-prediction-based-on-stock-prices-and-news\n"
          ]
        }
      ],
      "source": [
        "# %cd '/content/drive/MyDrive/csci544-project/a-novel-ensemble-deep-learning-model-for-stock-prediction-based-on-stock-prices-and-news'"
      ]
    },
    {
      "cell_type": "code",
      "execution_count": 5,
      "metadata": {
        "colab": {
          "base_uri": "https://localhost:8080/"
        },
        "id": "4K5bT3MnT4to",
        "outputId": "0e62a497-ad2a-4c29-a426-7ef3c113ff1d"
      },
      "outputs": [
        {
          "name": "stdout",
          "output_type": "stream",
          "text": [
            "Colab only includes TensorFlow 2.x; %tensorflow_version has no effect.\n"
          ]
        }
      ],
      "source": [
        "# import necessary packages\n",
        "%tensorflow_version 2.x\n",
        "import json\n",
        "import time\n",
        "import math\n",
        "import matplotlib.pyplot as plt\n",
        "import numpy as np\n",
        "import pandas as pd\n",
        "import datetime as dt\n",
        "from numpy import newaxis\n",
        "from keras.layers import Dense, Activation, Dropout, LSTM, GRU\n",
        "from keras.models import Sequential, load_model\n",
        "from keras.callbacks import EarlyStopping, ModelCheckpoint\n",
        "from sklearn.linear_model import LinearRegression\n",
        "from sklearn.ensemble import RandomForestRegressor\n",
        "from sklearn.linear_model import Ridge\n",
        "\n",
        "from math import pi,sqrt,exp,pow,log\n",
        "from numpy.linalg import det, inv\n",
        "from abc import ABCMeta, abstractmethod\n",
        "from sklearn import cluster\n",
        "\n",
        "import statsmodels.api as sm \n",
        "import scipy.stats as scs\n",
        "import scipy.optimize as sco\n",
        "import scipy.interpolate as sci\n",
        "from scipy import stats\n",
        "\n",
        "from sklearn.model_selection import train_test_split\n",
        "from sklearn.preprocessing import MinMaxScaler\n",
        "from sklearn.metrics import roc_curve, auc\n",
        "from sklearn import metrics"
      ]
    },
    {
      "cell_type": "markdown",
      "metadata": {
        "id": "Li4Rosf9yaOU"
      },
      "source": [
        "# Level 0 - Second Model"
      ]
    },
    {
      "cell_type": "code",
      "execution_count": 6,
      "metadata": {
        "colab": {
          "base_uri": "https://localhost:8080/",
          "height": 206
        },
        "id": "_kZo37XWl-j-",
        "outputId": "4a4c42a7-6560-4378-8e76-0fd2cf75148c"
      },
      "outputs": [
        {
          "data": {
            "text/html": [
              "\n",
              "  <div id=\"df-edee7114-ec6f-4ddf-b753-8ec9d1e8f3f4\">\n",
              "    <div class=\"colab-df-container\">\n",
              "      <div>\n",
              "<style scoped>\n",
              "    .dataframe tbody tr th:only-of-type {\n",
              "        vertical-align: middle;\n",
              "    }\n",
              "\n",
              "    .dataframe tbody tr th {\n",
              "        vertical-align: top;\n",
              "    }\n",
              "\n",
              "    .dataframe thead th {\n",
              "        text-align: right;\n",
              "    }\n",
              "</style>\n",
              "<table border=\"1\" class=\"dataframe\">\n",
              "  <thead>\n",
              "    <tr style=\"text-align: right;\">\n",
              "      <th></th>\n",
              "      <th>date</th>\n",
              "      <th>wsj_mean_compound</th>\n",
              "      <th>cnbc_mean_compound</th>\n",
              "      <th>fortune_mean_compound</th>\n",
              "      <th>reuters_mean_compound</th>\n",
              "      <th>Adj Close</th>\n",
              "    </tr>\n",
              "  </thead>\n",
              "  <tbody>\n",
              "    <tr>\n",
              "      <th>116</th>\n",
              "      <td>2018/5/25</td>\n",
              "      <td>0.030290</td>\n",
              "      <td>0.047433</td>\n",
              "      <td>0.011550</td>\n",
              "      <td>-0.025190</td>\n",
              "      <td>2721.330078</td>\n",
              "    </tr>\n",
              "    <tr>\n",
              "      <th>117</th>\n",
              "      <td>2018/5/29</td>\n",
              "      <td>-0.052796</td>\n",
              "      <td>0.070442</td>\n",
              "      <td>-0.025721</td>\n",
              "      <td>-0.035568</td>\n",
              "      <td>2689.860107</td>\n",
              "    </tr>\n",
              "    <tr>\n",
              "      <th>118</th>\n",
              "      <td>2018/5/30</td>\n",
              "      <td>-0.017367</td>\n",
              "      <td>0.038119</td>\n",
              "      <td>-0.076965</td>\n",
              "      <td>-0.063177</td>\n",
              "      <td>2724.010010</td>\n",
              "    </tr>\n",
              "    <tr>\n",
              "      <th>119</th>\n",
              "      <td>2018/5/31</td>\n",
              "      <td>-0.018636</td>\n",
              "      <td>0.057371</td>\n",
              "      <td>-0.064138</td>\n",
              "      <td>-0.025489</td>\n",
              "      <td>2705.270020</td>\n",
              "    </tr>\n",
              "    <tr>\n",
              "      <th>120</th>\n",
              "      <td>2018/6/1</td>\n",
              "      <td>0.000000</td>\n",
              "      <td>-0.061150</td>\n",
              "      <td>0.361200</td>\n",
              "      <td>-0.004489</td>\n",
              "      <td>2734.620117</td>\n",
              "    </tr>\n",
              "  </tbody>\n",
              "</table>\n",
              "</div>\n",
              "      <button class=\"colab-df-convert\" onclick=\"convertToInteractive('df-edee7114-ec6f-4ddf-b753-8ec9d1e8f3f4')\"\n",
              "              title=\"Convert this dataframe to an interactive table.\"\n",
              "              style=\"display:none;\">\n",
              "        \n",
              "  <svg xmlns=\"http://www.w3.org/2000/svg\" height=\"24px\"viewBox=\"0 0 24 24\"\n",
              "       width=\"24px\">\n",
              "    <path d=\"M0 0h24v24H0V0z\" fill=\"none\"/>\n",
              "    <path d=\"M18.56 5.44l.94 2.06.94-2.06 2.06-.94-2.06-.94-.94-2.06-.94 2.06-2.06.94zm-11 1L8.5 8.5l.94-2.06 2.06-.94-2.06-.94L8.5 2.5l-.94 2.06-2.06.94zm10 10l.94 2.06.94-2.06 2.06-.94-2.06-.94-.94-2.06-.94 2.06-2.06.94z\"/><path d=\"M17.41 7.96l-1.37-1.37c-.4-.4-.92-.59-1.43-.59-.52 0-1.04.2-1.43.59L10.3 9.45l-7.72 7.72c-.78.78-.78 2.05 0 2.83L4 21.41c.39.39.9.59 1.41.59.51 0 1.02-.2 1.41-.59l7.78-7.78 2.81-2.81c.8-.78.8-2.07 0-2.86zM5.41 20L4 18.59l7.72-7.72 1.47 1.35L5.41 20z\"/>\n",
              "  </svg>\n",
              "      </button>\n",
              "      \n",
              "  <style>\n",
              "    .colab-df-container {\n",
              "      display:flex;\n",
              "      flex-wrap:wrap;\n",
              "      gap: 12px;\n",
              "    }\n",
              "\n",
              "    .colab-df-convert {\n",
              "      background-color: #E8F0FE;\n",
              "      border: none;\n",
              "      border-radius: 50%;\n",
              "      cursor: pointer;\n",
              "      display: none;\n",
              "      fill: #1967D2;\n",
              "      height: 32px;\n",
              "      padding: 0 0 0 0;\n",
              "      width: 32px;\n",
              "    }\n",
              "\n",
              "    .colab-df-convert:hover {\n",
              "      background-color: #E2EBFA;\n",
              "      box-shadow: 0px 1px 2px rgba(60, 64, 67, 0.3), 0px 1px 3px 1px rgba(60, 64, 67, 0.15);\n",
              "      fill: #174EA6;\n",
              "    }\n",
              "\n",
              "    [theme=dark] .colab-df-convert {\n",
              "      background-color: #3B4455;\n",
              "      fill: #D2E3FC;\n",
              "    }\n",
              "\n",
              "    [theme=dark] .colab-df-convert:hover {\n",
              "      background-color: #434B5C;\n",
              "      box-shadow: 0px 1px 3px 1px rgba(0, 0, 0, 0.15);\n",
              "      filter: drop-shadow(0px 1px 2px rgba(0, 0, 0, 0.3));\n",
              "      fill: #FFFFFF;\n",
              "    }\n",
              "  </style>\n",
              "\n",
              "      <script>\n",
              "        const buttonEl =\n",
              "          document.querySelector('#df-edee7114-ec6f-4ddf-b753-8ec9d1e8f3f4 button.colab-df-convert');\n",
              "        buttonEl.style.display =\n",
              "          google.colab.kernel.accessAllowed ? 'block' : 'none';\n",
              "\n",
              "        async function convertToInteractive(key) {\n",
              "          const element = document.querySelector('#df-edee7114-ec6f-4ddf-b753-8ec9d1e8f3f4');\n",
              "          const dataTable =\n",
              "            await google.colab.kernel.invokeFunction('convertToInteractive',\n",
              "                                                     [key], {});\n",
              "          if (!dataTable) return;\n",
              "\n",
              "          const docLinkHtml = 'Like what you see? Visit the ' +\n",
              "            '<a target=\"_blank\" href=https://colab.research.google.com/notebooks/data_table.ipynb>data table notebook</a>'\n",
              "            + ' to learn more about interactive tables.';\n",
              "          element.innerHTML = '';\n",
              "          dataTable['output_type'] = 'display_data';\n",
              "          await google.colab.output.renderOutput(dataTable, element);\n",
              "          const docLink = document.createElement('div');\n",
              "          docLink.innerHTML = docLinkHtml;\n",
              "          element.appendChild(docLink);\n",
              "        }\n",
              "      </script>\n",
              "    </div>\n",
              "  </div>\n",
              "  "
            ],
            "text/plain": [
              "          date  wsj_mean_compound  cnbc_mean_compound  fortune_mean_compound  \\\n",
              "116  2018/5/25           0.030290            0.047433               0.011550   \n",
              "117  2018/5/29          -0.052796            0.070442              -0.025721   \n",
              "118  2018/5/30          -0.017367            0.038119              -0.076965   \n",
              "119  2018/5/31          -0.018636            0.057371              -0.064138   \n",
              "120   2018/6/1           0.000000           -0.061150               0.361200   \n",
              "\n",
              "     reuters_mean_compound    Adj Close  \n",
              "116              -0.025190  2721.330078  \n",
              "117              -0.035568  2689.860107  \n",
              "118              -0.063177  2724.010010  \n",
              "119              -0.025489  2705.270020  \n",
              "120              -0.004489  2734.620117  "
            ]
          },
          "execution_count": 6,
          "metadata": {},
          "output_type": "execute_result"
        }
      ],
      "source": [
        "# read data - local and colab\n",
        "#df1 = pd.read_csv(\"/Users/nathanli/masterProject/env/data/DP-LSTM_DATA/source_price.csv\")\n",
        "url = 'https://raw.githubusercontent.com/YangLi-Nathan/stock_prediction/master/source_price.csv'\n",
        "df2= pd.read_csv(url)\n",
        "df2.tail()"
      ]
    },
    {
      "cell_type": "code",
      "execution_count": 7,
      "metadata": {
        "id": "dCX0Tbuzl-eU"
      },
      "outputs": [],
      "source": [
        "# set index to date\n",
        "df2.index = df2.date\n",
        "df2.drop('date', axis=1, inplace=True)"
      ]
    },
    {
      "cell_type": "code",
      "execution_count": 9,
      "metadata": {
        "colab": {
          "base_uri": "https://localhost:8080/"
        },
        "id": "MVnJG5oEl-ZM",
        "outputId": "27da6767-266c-42cf-ace1-4fab975d06e7"
      },
      "outputs": [
        {
          "data": {
            "text/plain": [
              "(121,)"
            ]
          },
          "execution_count": 9,
          "metadata": {},
          "output_type": "execute_result"
        }
      ],
      "source": [
        "adjust_close=df2.iloc[:,-1].values\n",
        "adjust_close.shape"
      ]
    },
    {
      "cell_type": "code",
      "execution_count": 10,
      "metadata": {
        "id": "b1jm2L7Ll-UX"
      },
      "outputs": [],
      "source": [
        "# nomalize adjust close stock price\n",
        "scaler = MinMaxScaler()\n",
        "scaled_adjust_close=scaler.fit_transform(adjust_close.reshape(-1,1))"
      ]
    },
    {
      "cell_type": "code",
      "execution_count": 11,
      "metadata": {
        "colab": {
          "base_uri": "https://localhost:8080/"
        },
        "id": "_-A0RHdel-Sj",
        "outputId": "51f0f57e-6564-46f0-9d6b-c3f8b2ff0b58"
      },
      "outputs": [
        {
          "data": {
            "text/plain": [
              "array([[0.19179757],\n",
              "       [0.2415458 ],\n",
              "       [0.27063404],\n",
              "       [0.28475031],\n",
              "       [0.28043329],\n",
              "       [0.24329318],\n",
              "       [0.32483647],\n",
              "       [0.37400167],\n",
              "       [0.34422836],\n",
              "       [0.33662233],\n",
              "       [0.35484985],\n",
              "       [0.35063572],\n",
              "       [0.34090506],\n",
              "       [0.34816897],\n",
              "       [0.36502551],\n",
              "       [0.31729904],\n",
              "       [0.3933601 ],\n",
              "       [0.45246173],\n",
              "       [0.48990966],\n",
              "       [0.555555  ],\n",
              "       [0.57117859],\n",
              "       [0.58344458],\n",
              "       [0.57296027],\n",
              "       [0.63918863],\n",
              "       [0.70318946],\n",
              "       [0.66954412],\n",
              "       [0.75910498],\n",
              "       [0.74358427],\n",
              "       [0.78562359],\n",
              "       [0.86329486],\n",
              "       [0.88439983],\n",
              "       [0.87895274],\n",
              "       [0.88481138],\n",
              "       [1.        ],\n",
              "       [0.93373735],\n",
              "       [0.82718277],\n",
              "       [0.83191134],\n",
              "       [0.82564115],\n",
              "       [0.62058386],\n",
              "       [0.23277457],\n",
              "       [0.39106399],\n",
              "       [0.34487913],\n",
              "       [0.        ],\n",
              "       [0.13207947],\n",
              "       [0.25696361],\n",
              "       [0.28074111],\n",
              "       [0.40302133],\n",
              "       [0.5146123 ],\n",
              "       [0.51810707],\n",
              "       [0.46342535],\n",
              "       [0.41227269],\n",
              "       [0.42128315],\n",
              "       [0.56977415],\n",
              "       [0.68043998],\n",
              "       [0.55942702],\n",
              "       [0.45509996],\n",
              "       [0.3312087 ],\n",
              "       [0.37773651],\n",
              "       [0.47945964],\n",
              "       [0.50406023],\n",
              "       [0.49953743],\n",
              "       [0.54123379],\n",
              "       [0.70432037],\n",
              "       [0.69215726],\n",
              "       [0.63147972],\n",
              "       [0.57724299],\n",
              "       [0.56987704],\n",
              "       [0.58591134],\n",
              "       [0.4519816 ],\n",
              "       [0.46575491],\n",
              "       [0.44858971],\n",
              "       [0.21478712],\n",
              "       [0.02487411],\n",
              "       [0.26570054],\n",
              "       [0.10833626],\n",
              "       [0.08222836],\n",
              "       [0.20512589],\n",
              "       [0.00301464],\n",
              "       [0.1146056 ],\n",
              "       [0.2182133 ],\n",
              "       [0.280399  ],\n",
              "       [0.08041238],\n",
              "       [0.1101857 ],\n",
              "       [0.25994479],\n",
              "       [0.20964784],\n",
              "       [0.28433877],\n",
              "       [0.25799164],\n",
              "       [0.33179172],\n",
              "       [0.42960853],\n",
              "       [0.43731744],\n",
              "       [0.38417733],\n",
              "       [0.30540945],\n",
              "       [0.30592388],\n",
              "       [0.18350648],\n",
              "       [0.20008866],\n",
              "       [0.29444584],\n",
              "       [0.3046215 ],\n",
              "       [0.22972564],\n",
              "       [0.25285236],\n",
              "       [0.18730908],\n",
              "       [0.16695776],\n",
              "       [0.28238561],\n",
              "       [0.31394061],\n",
              "       [0.31150816],\n",
              "       [0.40014387],\n",
              "       [0.48675784],\n",
              "       [0.50268925],\n",
              "       [0.51094605],\n",
              "       [0.44694521],\n",
              "       [0.4846675 ],\n",
              "       [0.47668423],\n",
              "       [0.45215308],\n",
              "       [0.52081389],\n",
              "       [0.49145127],\n",
              "       [0.52177332],\n",
              "       [0.50282643],\n",
              "       [0.48079632],\n",
              "       [0.37297449],\n",
              "       [0.48997825],\n",
              "       [0.42577165],\n",
              "       [0.52633041]])"
            ]
          },
          "execution_count": 11,
          "metadata": {},
          "output_type": "execute_result"
        }
      ],
      "source": [
        "# check if adjust close is scaled\n",
        "scaled_adjust_close"
      ]
    },
    {
      "cell_type": "code",
      "execution_count": 12,
      "metadata": {
        "colab": {
          "base_uri": "https://localhost:8080/",
          "height": 238
        },
        "id": "VoRN3OYkl-MI",
        "outputId": "649a68bd-d847-4542-a936-8916be853249"
      },
      "outputs": [
        {
          "data": {
            "text/html": [
              "\n",
              "  <div id=\"df-32e542db-b672-48ee-a960-2a54fd4d6b9a\">\n",
              "    <div class=\"colab-df-container\">\n",
              "      <div>\n",
              "<style scoped>\n",
              "    .dataframe tbody tr th:only-of-type {\n",
              "        vertical-align: middle;\n",
              "    }\n",
              "\n",
              "    .dataframe tbody tr th {\n",
              "        vertical-align: top;\n",
              "    }\n",
              "\n",
              "    .dataframe thead th {\n",
              "        text-align: right;\n",
              "    }\n",
              "</style>\n",
              "<table border=\"1\" class=\"dataframe\">\n",
              "  <thead>\n",
              "    <tr style=\"text-align: right;\">\n",
              "      <th></th>\n",
              "      <th>wsj_mean_compound</th>\n",
              "      <th>cnbc_mean_compound</th>\n",
              "      <th>fortune_mean_compound</th>\n",
              "      <th>reuters_mean_compound</th>\n",
              "      <th>scaled_adj_close</th>\n",
              "    </tr>\n",
              "    <tr>\n",
              "      <th>date</th>\n",
              "      <th></th>\n",
              "      <th></th>\n",
              "      <th></th>\n",
              "      <th></th>\n",
              "      <th></th>\n",
              "    </tr>\n",
              "  </thead>\n",
              "  <tbody>\n",
              "    <tr>\n",
              "      <th>2018/5/25</th>\n",
              "      <td>0.030290</td>\n",
              "      <td>0.047433</td>\n",
              "      <td>0.011550</td>\n",
              "      <td>-0.025190</td>\n",
              "      <td>0.480796</td>\n",
              "    </tr>\n",
              "    <tr>\n",
              "      <th>2018/5/29</th>\n",
              "      <td>-0.052796</td>\n",
              "      <td>0.070442</td>\n",
              "      <td>-0.025721</td>\n",
              "      <td>-0.035568</td>\n",
              "      <td>0.372974</td>\n",
              "    </tr>\n",
              "    <tr>\n",
              "      <th>2018/5/30</th>\n",
              "      <td>-0.017367</td>\n",
              "      <td>0.038119</td>\n",
              "      <td>-0.076965</td>\n",
              "      <td>-0.063177</td>\n",
              "      <td>0.489978</td>\n",
              "    </tr>\n",
              "    <tr>\n",
              "      <th>2018/5/31</th>\n",
              "      <td>-0.018636</td>\n",
              "      <td>0.057371</td>\n",
              "      <td>-0.064138</td>\n",
              "      <td>-0.025489</td>\n",
              "      <td>0.425772</td>\n",
              "    </tr>\n",
              "    <tr>\n",
              "      <th>2018/6/1</th>\n",
              "      <td>0.000000</td>\n",
              "      <td>-0.061150</td>\n",
              "      <td>0.361200</td>\n",
              "      <td>-0.004489</td>\n",
              "      <td>0.526330</td>\n",
              "    </tr>\n",
              "  </tbody>\n",
              "</table>\n",
              "</div>\n",
              "      <button class=\"colab-df-convert\" onclick=\"convertToInteractive('df-32e542db-b672-48ee-a960-2a54fd4d6b9a')\"\n",
              "              title=\"Convert this dataframe to an interactive table.\"\n",
              "              style=\"display:none;\">\n",
              "        \n",
              "  <svg xmlns=\"http://www.w3.org/2000/svg\" height=\"24px\"viewBox=\"0 0 24 24\"\n",
              "       width=\"24px\">\n",
              "    <path d=\"M0 0h24v24H0V0z\" fill=\"none\"/>\n",
              "    <path d=\"M18.56 5.44l.94 2.06.94-2.06 2.06-.94-2.06-.94-.94-2.06-.94 2.06-2.06.94zm-11 1L8.5 8.5l.94-2.06 2.06-.94-2.06-.94L8.5 2.5l-.94 2.06-2.06.94zm10 10l.94 2.06.94-2.06 2.06-.94-2.06-.94-.94-2.06-.94 2.06-2.06.94z\"/><path d=\"M17.41 7.96l-1.37-1.37c-.4-.4-.92-.59-1.43-.59-.52 0-1.04.2-1.43.59L10.3 9.45l-7.72 7.72c-.78.78-.78 2.05 0 2.83L4 21.41c.39.39.9.59 1.41.59.51 0 1.02-.2 1.41-.59l7.78-7.78 2.81-2.81c.8-.78.8-2.07 0-2.86zM5.41 20L4 18.59l7.72-7.72 1.47 1.35L5.41 20z\"/>\n",
              "  </svg>\n",
              "      </button>\n",
              "      \n",
              "  <style>\n",
              "    .colab-df-container {\n",
              "      display:flex;\n",
              "      flex-wrap:wrap;\n",
              "      gap: 12px;\n",
              "    }\n",
              "\n",
              "    .colab-df-convert {\n",
              "      background-color: #E8F0FE;\n",
              "      border: none;\n",
              "      border-radius: 50%;\n",
              "      cursor: pointer;\n",
              "      display: none;\n",
              "      fill: #1967D2;\n",
              "      height: 32px;\n",
              "      padding: 0 0 0 0;\n",
              "      width: 32px;\n",
              "    }\n",
              "\n",
              "    .colab-df-convert:hover {\n",
              "      background-color: #E2EBFA;\n",
              "      box-shadow: 0px 1px 2px rgba(60, 64, 67, 0.3), 0px 1px 3px 1px rgba(60, 64, 67, 0.15);\n",
              "      fill: #174EA6;\n",
              "    }\n",
              "\n",
              "    [theme=dark] .colab-df-convert {\n",
              "      background-color: #3B4455;\n",
              "      fill: #D2E3FC;\n",
              "    }\n",
              "\n",
              "    [theme=dark] .colab-df-convert:hover {\n",
              "      background-color: #434B5C;\n",
              "      box-shadow: 0px 1px 3px 1px rgba(0, 0, 0, 0.15);\n",
              "      filter: drop-shadow(0px 1px 2px rgba(0, 0, 0, 0.3));\n",
              "      fill: #FFFFFF;\n",
              "    }\n",
              "  </style>\n",
              "\n",
              "      <script>\n",
              "        const buttonEl =\n",
              "          document.querySelector('#df-32e542db-b672-48ee-a960-2a54fd4d6b9a button.colab-df-convert');\n",
              "        buttonEl.style.display =\n",
              "          google.colab.kernel.accessAllowed ? 'block' : 'none';\n",
              "\n",
              "        async function convertToInteractive(key) {\n",
              "          const element = document.querySelector('#df-32e542db-b672-48ee-a960-2a54fd4d6b9a');\n",
              "          const dataTable =\n",
              "            await google.colab.kernel.invokeFunction('convertToInteractive',\n",
              "                                                     [key], {});\n",
              "          if (!dataTable) return;\n",
              "\n",
              "          const docLinkHtml = 'Like what you see? Visit the ' +\n",
              "            '<a target=\"_blank\" href=https://colab.research.google.com/notebooks/data_table.ipynb>data table notebook</a>'\n",
              "            + ' to learn more about interactive tables.';\n",
              "          element.innerHTML = '';\n",
              "          dataTable['output_type'] = 'display_data';\n",
              "          await google.colab.output.renderOutput(dataTable, element);\n",
              "          const docLink = document.createElement('div');\n",
              "          docLink.innerHTML = docLinkHtml;\n",
              "          element.appendChild(docLink);\n",
              "        }\n",
              "      </script>\n",
              "    </div>\n",
              "  </div>\n",
              "  "
            ],
            "text/plain": [
              "           wsj_mean_compound  cnbc_mean_compound  fortune_mean_compound  \\\n",
              "date                                                                      \n",
              "2018/5/25           0.030290            0.047433               0.011550   \n",
              "2018/5/29          -0.052796            0.070442              -0.025721   \n",
              "2018/5/30          -0.017367            0.038119              -0.076965   \n",
              "2018/5/31          -0.018636            0.057371              -0.064138   \n",
              "2018/6/1            0.000000           -0.061150               0.361200   \n",
              "\n",
              "           reuters_mean_compound  scaled_adj_close  \n",
              "date                                                \n",
              "2018/5/25              -0.025190          0.480796  \n",
              "2018/5/29              -0.035568          0.372974  \n",
              "2018/5/30              -0.063177          0.489978  \n",
              "2018/5/31              -0.025489          0.425772  \n",
              "2018/6/1               -0.004489          0.526330  "
            ]
          },
          "execution_count": 12,
          "metadata": {},
          "output_type": "execute_result"
        }
      ],
      "source": [
        "new_data=df2.drop(['Adj Close'],axis=1)\n",
        "\n",
        "new_data['scaled_adj_close'] = scaled_adjust_close\n",
        "\n",
        "new_data.tail()"
      ]
    },
    {
      "cell_type": "code",
      "execution_count": 13,
      "metadata": {
        "colab": {
          "base_uri": "https://localhost:8080/"
        },
        "id": "JO_UuyrIl-Jc",
        "outputId": "4026a33b-a04b-4b54-8056-93cbe2bb21aa"
      },
      "outputs": [
        {
          "data": {
            "text/plain": [
              "wsj_mean_compound        float64\n",
              "cnbc_mean_compound       float64\n",
              "fortune_mean_compound    float64\n",
              "reuters_mean_compound    float64\n",
              "scaled_adj_close         float64\n",
              "dtype: object"
            ]
          },
          "execution_count": 13,
          "metadata": {},
          "output_type": "execute_result"
        }
      ],
      "source": [
        "new_data.dtypes"
      ]
    },
    {
      "cell_type": "code",
      "execution_count": 14,
      "metadata": {
        "colab": {
          "base_uri": "https://localhost:8080/"
        },
        "id": "7xEh2WY1y_7j",
        "outputId": "5d70c812-4fd0-436b-de50-3d0946e65363"
      },
      "outputs": [
        {
          "data": {
            "text/plain": [
              "(121, 5)"
            ]
          },
          "execution_count": 14,
          "metadata": {},
          "output_type": "execute_result"
        }
      ],
      "source": [
        "new_data.shape"
      ]
    },
    {
      "cell_type": "code",
      "execution_count": 15,
      "metadata": {
        "id": "8kf1DwDPzADP"
      },
      "outputs": [],
      "source": [
        "# split data into train and test\n",
        "# train 85% and test 15%\n",
        "train_validation_data, test_data= train_test_split(new_data, train_size=0.85, test_size=0.15,shuffle=False)"
      ]
    },
    {
      "cell_type": "code",
      "execution_count": 16,
      "metadata": {
        "colab": {
          "base_uri": "https://localhost:8080/",
          "height": 238
        },
        "id": "ZtLe6CTOzAK-",
        "outputId": "803cf058-2aa5-4395-b7bf-8fdfa411f48e"
      },
      "outputs": [
        {
          "data": {
            "text/html": [
              "\n",
              "  <div id=\"df-d697c2d7-2ed0-4b36-b8e6-84214a57b194\">\n",
              "    <div class=\"colab-df-container\">\n",
              "      <div>\n",
              "<style scoped>\n",
              "    .dataframe tbody tr th:only-of-type {\n",
              "        vertical-align: middle;\n",
              "    }\n",
              "\n",
              "    .dataframe tbody tr th {\n",
              "        vertical-align: top;\n",
              "    }\n",
              "\n",
              "    .dataframe thead th {\n",
              "        text-align: right;\n",
              "    }\n",
              "</style>\n",
              "<table border=\"1\" class=\"dataframe\">\n",
              "  <thead>\n",
              "    <tr style=\"text-align: right;\">\n",
              "      <th></th>\n",
              "      <th>wsj_mean_compound</th>\n",
              "      <th>cnbc_mean_compound</th>\n",
              "      <th>fortune_mean_compound</th>\n",
              "      <th>reuters_mean_compound</th>\n",
              "      <th>scaled_adj_close</th>\n",
              "    </tr>\n",
              "    <tr>\n",
              "      <th>date</th>\n",
              "      <th></th>\n",
              "      <th></th>\n",
              "      <th></th>\n",
              "      <th></th>\n",
              "      <th></th>\n",
              "    </tr>\n",
              "  </thead>\n",
              "  <tbody>\n",
              "    <tr>\n",
              "      <th>2018/4/30</th>\n",
              "      <td>-0.009474</td>\n",
              "      <td>0.064056</td>\n",
              "      <td>0.021328</td>\n",
              "      <td>0.066076</td>\n",
              "      <td>0.229726</td>\n",
              "    </tr>\n",
              "    <tr>\n",
              "      <th>2018/5/1</th>\n",
              "      <td>-0.044864</td>\n",
              "      <td>0.084246</td>\n",
              "      <td>-0.013291</td>\n",
              "      <td>0.068956</td>\n",
              "      <td>0.252852</td>\n",
              "    </tr>\n",
              "    <tr>\n",
              "      <th>2018/5/2</th>\n",
              "      <td>0.000608</td>\n",
              "      <td>0.088057</td>\n",
              "      <td>0.043339</td>\n",
              "      <td>0.053706</td>\n",
              "      <td>0.187309</td>\n",
              "    </tr>\n",
              "    <tr>\n",
              "      <th>2018/5/3</th>\n",
              "      <td>0.017188</td>\n",
              "      <td>0.066461</td>\n",
              "      <td>0.063148</td>\n",
              "      <td>0.068072</td>\n",
              "      <td>0.166958</td>\n",
              "    </tr>\n",
              "    <tr>\n",
              "      <th>2018/5/4</th>\n",
              "      <td>-0.001986</td>\n",
              "      <td>0.073777</td>\n",
              "      <td>-0.021277</td>\n",
              "      <td>0.062085</td>\n",
              "      <td>0.282386</td>\n",
              "    </tr>\n",
              "  </tbody>\n",
              "</table>\n",
              "</div>\n",
              "      <button class=\"colab-df-convert\" onclick=\"convertToInteractive('df-d697c2d7-2ed0-4b36-b8e6-84214a57b194')\"\n",
              "              title=\"Convert this dataframe to an interactive table.\"\n",
              "              style=\"display:none;\">\n",
              "        \n",
              "  <svg xmlns=\"http://www.w3.org/2000/svg\" height=\"24px\"viewBox=\"0 0 24 24\"\n",
              "       width=\"24px\">\n",
              "    <path d=\"M0 0h24v24H0V0z\" fill=\"none\"/>\n",
              "    <path d=\"M18.56 5.44l.94 2.06.94-2.06 2.06-.94-2.06-.94-.94-2.06-.94 2.06-2.06.94zm-11 1L8.5 8.5l.94-2.06 2.06-.94-2.06-.94L8.5 2.5l-.94 2.06-2.06.94zm10 10l.94 2.06.94-2.06 2.06-.94-2.06-.94-.94-2.06-.94 2.06-2.06.94z\"/><path d=\"M17.41 7.96l-1.37-1.37c-.4-.4-.92-.59-1.43-.59-.52 0-1.04.2-1.43.59L10.3 9.45l-7.72 7.72c-.78.78-.78 2.05 0 2.83L4 21.41c.39.39.9.59 1.41.59.51 0 1.02-.2 1.41-.59l7.78-7.78 2.81-2.81c.8-.78.8-2.07 0-2.86zM5.41 20L4 18.59l7.72-7.72 1.47 1.35L5.41 20z\"/>\n",
              "  </svg>\n",
              "      </button>\n",
              "      \n",
              "  <style>\n",
              "    .colab-df-container {\n",
              "      display:flex;\n",
              "      flex-wrap:wrap;\n",
              "      gap: 12px;\n",
              "    }\n",
              "\n",
              "    .colab-df-convert {\n",
              "      background-color: #E8F0FE;\n",
              "      border: none;\n",
              "      border-radius: 50%;\n",
              "      cursor: pointer;\n",
              "      display: none;\n",
              "      fill: #1967D2;\n",
              "      height: 32px;\n",
              "      padding: 0 0 0 0;\n",
              "      width: 32px;\n",
              "    }\n",
              "\n",
              "    .colab-df-convert:hover {\n",
              "      background-color: #E2EBFA;\n",
              "      box-shadow: 0px 1px 2px rgba(60, 64, 67, 0.3), 0px 1px 3px 1px rgba(60, 64, 67, 0.15);\n",
              "      fill: #174EA6;\n",
              "    }\n",
              "\n",
              "    [theme=dark] .colab-df-convert {\n",
              "      background-color: #3B4455;\n",
              "      fill: #D2E3FC;\n",
              "    }\n",
              "\n",
              "    [theme=dark] .colab-df-convert:hover {\n",
              "      background-color: #434B5C;\n",
              "      box-shadow: 0px 1px 3px 1px rgba(0, 0, 0, 0.15);\n",
              "      filter: drop-shadow(0px 1px 2px rgba(0, 0, 0, 0.3));\n",
              "      fill: #FFFFFF;\n",
              "    }\n",
              "  </style>\n",
              "\n",
              "      <script>\n",
              "        const buttonEl =\n",
              "          document.querySelector('#df-d697c2d7-2ed0-4b36-b8e6-84214a57b194 button.colab-df-convert');\n",
              "        buttonEl.style.display =\n",
              "          google.colab.kernel.accessAllowed ? 'block' : 'none';\n",
              "\n",
              "        async function convertToInteractive(key) {\n",
              "          const element = document.querySelector('#df-d697c2d7-2ed0-4b36-b8e6-84214a57b194');\n",
              "          const dataTable =\n",
              "            await google.colab.kernel.invokeFunction('convertToInteractive',\n",
              "                                                     [key], {});\n",
              "          if (!dataTable) return;\n",
              "\n",
              "          const docLinkHtml = 'Like what you see? Visit the ' +\n",
              "            '<a target=\"_blank\" href=https://colab.research.google.com/notebooks/data_table.ipynb>data table notebook</a>'\n",
              "            + ' to learn more about interactive tables.';\n",
              "          element.innerHTML = '';\n",
              "          dataTable['output_type'] = 'display_data';\n",
              "          await google.colab.output.renderOutput(dataTable, element);\n",
              "          const docLink = document.createElement('div');\n",
              "          docLink.innerHTML = docLinkHtml;\n",
              "          element.appendChild(docLink);\n",
              "        }\n",
              "      </script>\n",
              "    </div>\n",
              "  </div>\n",
              "  "
            ],
            "text/plain": [
              "           wsj_mean_compound  cnbc_mean_compound  fortune_mean_compound  \\\n",
              "date                                                                      \n",
              "2018/4/30          -0.009474            0.064056               0.021328   \n",
              "2018/5/1           -0.044864            0.084246              -0.013291   \n",
              "2018/5/2            0.000608            0.088057               0.043339   \n",
              "2018/5/3            0.017188            0.066461               0.063148   \n",
              "2018/5/4           -0.001986            0.073777              -0.021277   \n",
              "\n",
              "           reuters_mean_compound  scaled_adj_close  \n",
              "date                                                \n",
              "2018/4/30               0.066076          0.229726  \n",
              "2018/5/1                0.068956          0.252852  \n",
              "2018/5/2                0.053706          0.187309  \n",
              "2018/5/3                0.068072          0.166958  \n",
              "2018/5/4                0.062085          0.282386  "
            ]
          },
          "execution_count": 16,
          "metadata": {},
          "output_type": "execute_result"
        }
      ],
      "source": [
        "train_validation_data.tail()"
      ]
    },
    {
      "cell_type": "code",
      "execution_count": 17,
      "metadata": {
        "colab": {
          "base_uri": "https://localhost:8080/"
        },
        "id": "z5shD0u8zARi",
        "outputId": "c9e5e4a3-469b-4f18-bb26-aed06bd894ea"
      },
      "outputs": [
        {
          "data": {
            "text/plain": [
              "(102, 5)"
            ]
          },
          "execution_count": 17,
          "metadata": {},
          "output_type": "execute_result"
        }
      ],
      "source": [
        "train_validation_data.shape"
      ]
    },
    {
      "cell_type": "code",
      "execution_count": 18,
      "metadata": {
        "colab": {
          "base_uri": "https://localhost:8080/"
        },
        "id": "n7DF00uPzAYl",
        "outputId": "79598d1b-925b-4dc9-a5b6-987b2e6d40d2"
      },
      "outputs": [
        {
          "name": "stdout",
          "output_type": "stream",
          "text": [
            "train data shape:  (83, 5)\n",
            "validation data shape:  (19, 5)\n",
            "test data shape:  (19, 5)\n"
          ]
        }
      ],
      "source": [
        "validation_data =train_validation_data[83:]\n",
        "train_data=train_validation_data[:83]\n",
        "\n",
        "print(\"train data shape: \", train_data.shape)\n",
        "print(\"validation data shape: \", validation_data.shape)\n",
        "print(\"test data shape: \", test_data.shape)"
      ]
    },
    {
      "cell_type": "code",
      "execution_count": 19,
      "metadata": {
        "id": "pUyc2PWvzgEt"
      },
      "outputs": [],
      "source": [
        "# configs\n",
        "look_back = 10\n",
        "forward_days = 1\n",
        "NUM_NEURONS=50\n",
        "EPOCHES=100\n",
        "BATCH_SIZE=32\n",
        "DROUP_OUT=0.2"
      ]
    },
    {
      "cell_type": "code",
      "execution_count": 20,
      "metadata": {
        "id": "vGNUGlwAzgKX"
      },
      "outputs": [],
      "source": [
        "#Get the data and splits in input X and output Y, by spliting in `n` past days as input X \n",
        "#and `m` coming days as Y.\n",
        "def processData(data, look_back, forward_days,jump=1):\n",
        "    A,B = [],[]\n",
        "    for i in range(0,len(data) -look_back, jump):\n",
        "        A.append(data[i:(i+look_back)])\n",
        "        B.append(data[(i+look_back):(i+look_back+forward_days)])\n",
        "    return np.array(A), np.array(B)"
      ]
    },
    {
      "cell_type": "code",
      "execution_count": 25,
      "metadata": {
        "id": "GlguqaLLzgSE"
      },
      "outputs": [],
      "source": [
        "m_training_data = train_data.to_numpy()\n",
        "m_validation_data = validation_data.to_numpy()\n",
        "m_test_data = test_data.to_numpy()\n",
        "\n",
        "X_train,Y_train = processData(m_training_data,look_back,forward_days)\n",
        "X_validation,Y_validation = processData(m_validation_data,look_back,forward_days)\n",
        "X_test,Y_test = processData(m_test_data,look_back,forward_days)"
      ]
    },
    {
      "cell_type": "code",
      "execution_count": 29,
      "metadata": {
        "colab": {
          "base_uri": "https://localhost:8080/"
        },
        "id": "cCqJlq6HzgVx",
        "outputId": "464a2a7d-e25b-41c7-c73d-e4d2a8f3d16a"
      },
      "outputs": [
        {
          "name": "stdout",
          "output_type": "stream",
          "text": [
            "This is y_train shape (73,)\n",
            "This is y_validation shape (9,)\n",
            "This is y_test shape (9,)\n"
          ]
        }
      ],
      "source": [
        "Y_train=Y_train[:,0,-1]\n",
        "Y_validation=Y_validation[:,0,-1]\n",
        "Y_test=Y_test[:,0,-1]\n",
        "\n",
        "print(\"This is y_train shape\",Y_train.shape)\n",
        "print(\"This is y_validation shape\",Y_validation.shape)\n",
        "print(\"This is y_test shape\",Y_test.shape)"
      ]
    },
    {
      "cell_type": "code",
      "execution_count": 31,
      "metadata": {
        "colab": {
          "base_uri": "https://localhost:8080/"
        },
        "id": "PcEen7hea_yL",
        "outputId": "bf76d34c-f66f-44ce-9f4d-3a60103af4a5"
      },
      "outputs": [
        {
          "name": "stdout",
          "output_type": "stream",
          "text": [
            "Epoch 1/100\n",
            "3/3 [==============================] - 8s 25ms/step - loss: 0.2705\n",
            "Epoch 2/100\n",
            "3/3 [==============================] - 0s 23ms/step - loss: 0.1980\n",
            "Epoch 3/100\n",
            "3/3 [==============================] - 0s 23ms/step - loss: 0.1133\n",
            "Epoch 4/100\n",
            "3/3 [==============================] - 0s 25ms/step - loss: 0.0633\n",
            "Epoch 5/100\n",
            "3/3 [==============================] - 0s 23ms/step - loss: 0.0825\n",
            "Epoch 6/100\n",
            "3/3 [==============================] - 0s 31ms/step - loss: 0.0554\n",
            "Epoch 7/100\n",
            "3/3 [==============================] - 0s 24ms/step - loss: 0.0583\n",
            "Epoch 8/100\n",
            "3/3 [==============================] - 0s 23ms/step - loss: 0.0632\n",
            "Epoch 9/100\n",
            "3/3 [==============================] - 0s 25ms/step - loss: 0.0647\n",
            "Epoch 10/100\n",
            "3/3 [==============================] - 0s 25ms/step - loss: 0.0579\n",
            "Epoch 11/100\n",
            "3/3 [==============================] - 0s 23ms/step - loss: 0.0579\n",
            "Epoch 12/100\n",
            "3/3 [==============================] - 0s 24ms/step - loss: 0.0611\n",
            "Epoch 13/100\n",
            "3/3 [==============================] - 0s 28ms/step - loss: 0.0603\n",
            "Epoch 14/100\n",
            "3/3 [==============================] - 0s 23ms/step - loss: 0.0568\n",
            "Epoch 15/100\n",
            "3/3 [==============================] - 0s 24ms/step - loss: 0.0565\n",
            "Epoch 16/100\n",
            "3/3 [==============================] - 0s 23ms/step - loss: 0.0562\n",
            "Epoch 17/100\n",
            "3/3 [==============================] - 0s 24ms/step - loss: 0.0561\n",
            "Epoch 18/100\n",
            "3/3 [==============================] - 0s 29ms/step - loss: 0.0564\n",
            "Epoch 19/100\n",
            "3/3 [==============================] - 0s 24ms/step - loss: 0.0520\n",
            "Epoch 20/100\n",
            "3/3 [==============================] - 0s 23ms/step - loss: 0.0540\n",
            "Epoch 21/100\n",
            "3/3 [==============================] - 0s 23ms/step - loss: 0.0558\n",
            "Epoch 22/100\n",
            "3/3 [==============================] - 0s 24ms/step - loss: 0.0523\n",
            "Epoch 23/100\n",
            "3/3 [==============================] - 0s 28ms/step - loss: 0.0533\n",
            "Epoch 24/100\n",
            "3/3 [==============================] - 0s 24ms/step - loss: 0.0518\n",
            "Epoch 25/100\n",
            "3/3 [==============================] - 0s 24ms/step - loss: 0.0573\n",
            "Epoch 26/100\n",
            "3/3 [==============================] - 0s 24ms/step - loss: 0.0526\n",
            "Epoch 27/100\n",
            "3/3 [==============================] - 0s 24ms/step - loss: 0.0557\n",
            "Epoch 28/100\n",
            "3/3 [==============================] - 0s 23ms/step - loss: 0.0557\n",
            "Epoch 29/100\n",
            "3/3 [==============================] - 0s 32ms/step - loss: 0.0551\n",
            "Epoch 30/100\n",
            "3/3 [==============================] - 0s 23ms/step - loss: 0.0521\n",
            "Epoch 31/100\n",
            "3/3 [==============================] - 0s 23ms/step - loss: 0.0468\n",
            "Epoch 32/100\n",
            "3/3 [==============================] - 0s 31ms/step - loss: 0.0546\n",
            "Epoch 33/100\n",
            "3/3 [==============================] - 0s 22ms/step - loss: 0.0531\n",
            "Epoch 34/100\n",
            "3/3 [==============================] - 0s 25ms/step - loss: 0.0533\n",
            "Epoch 35/100\n",
            "3/3 [==============================] - 0s 23ms/step - loss: 0.0470\n",
            "Epoch 36/100\n",
            "3/3 [==============================] - 0s 24ms/step - loss: 0.0477\n",
            "Epoch 37/100\n",
            "3/3 [==============================] - 0s 24ms/step - loss: 0.0501\n",
            "Epoch 38/100\n",
            "3/3 [==============================] - 0s 23ms/step - loss: 0.0474\n",
            "Epoch 39/100\n",
            "3/3 [==============================] - 0s 25ms/step - loss: 0.0488\n",
            "Epoch 40/100\n",
            "3/3 [==============================] - 0s 23ms/step - loss: 0.0489\n",
            "Epoch 41/100\n",
            "3/3 [==============================] - 0s 25ms/step - loss: 0.0437\n",
            "Epoch 42/100\n",
            "3/3 [==============================] - 0s 28ms/step - loss: 0.0421\n",
            "Epoch 43/100\n",
            "3/3 [==============================] - 0s 26ms/step - loss: 0.0417\n",
            "Epoch 44/100\n",
            "3/3 [==============================] - 0s 23ms/step - loss: 0.0434\n",
            "Epoch 45/100\n",
            "3/3 [==============================] - 0s 24ms/step - loss: 0.0368\n",
            "Epoch 46/100\n",
            "3/3 [==============================] - 0s 25ms/step - loss: 0.0441\n",
            "Epoch 47/100\n",
            "3/3 [==============================] - 0s 27ms/step - loss: 0.0510\n",
            "Epoch 48/100\n",
            "3/3 [==============================] - 0s 27ms/step - loss: 0.0465\n",
            "Epoch 49/100\n",
            "3/3 [==============================] - 0s 25ms/step - loss: 0.0392\n",
            "Epoch 50/100\n",
            "3/3 [==============================] - 0s 22ms/step - loss: 0.0430\n",
            "Epoch 51/100\n",
            "3/3 [==============================] - 0s 22ms/step - loss: 0.0361\n",
            "Epoch 52/100\n",
            "3/3 [==============================] - 0s 23ms/step - loss: 0.0429\n",
            "Epoch 53/100\n",
            "3/3 [==============================] - 0s 23ms/step - loss: 0.0377\n",
            "Epoch 54/100\n",
            "3/3 [==============================] - 0s 23ms/step - loss: 0.0367\n",
            "Epoch 55/100\n",
            "3/3 [==============================] - 0s 28ms/step - loss: 0.0419\n",
            "Epoch 56/100\n",
            "3/3 [==============================] - 0s 23ms/step - loss: 0.0371\n",
            "Epoch 57/100\n",
            "3/3 [==============================] - 0s 23ms/step - loss: 0.0413\n",
            "Epoch 58/100\n",
            "3/3 [==============================] - 0s 24ms/step - loss: 0.0371\n",
            "Epoch 59/100\n",
            "3/3 [==============================] - 0s 24ms/step - loss: 0.0350\n",
            "Epoch 60/100\n",
            "3/3 [==============================] - 0s 23ms/step - loss: 0.0347\n",
            "Epoch 61/100\n",
            "3/3 [==============================] - 0s 24ms/step - loss: 0.0341\n",
            "Epoch 62/100\n",
            "3/3 [==============================] - 0s 23ms/step - loss: 0.0292\n",
            "Epoch 63/100\n",
            "3/3 [==============================] - 0s 24ms/step - loss: 0.0309\n",
            "Epoch 64/100\n",
            "3/3 [==============================] - 0s 22ms/step - loss: 0.0305\n",
            "Epoch 65/100\n",
            "3/3 [==============================] - 0s 22ms/step - loss: 0.0264\n",
            "Epoch 66/100\n",
            "3/3 [==============================] - 0s 23ms/step - loss: 0.0271\n",
            "Epoch 67/100\n",
            "3/3 [==============================] - 0s 22ms/step - loss: 0.0192\n",
            "Epoch 68/100\n",
            "3/3 [==============================] - 0s 23ms/step - loss: 0.0295\n",
            "Epoch 69/100\n",
            "3/3 [==============================] - 0s 23ms/step - loss: 0.0238\n",
            "Epoch 70/100\n",
            "3/3 [==============================] - 0s 30ms/step - loss: 0.0244\n",
            "Epoch 71/100\n",
            "3/3 [==============================] - 0s 25ms/step - loss: 0.0196\n",
            "Epoch 72/100\n",
            "3/3 [==============================] - 0s 23ms/step - loss: 0.0246\n",
            "Epoch 73/100\n",
            "3/3 [==============================] - 0s 27ms/step - loss: 0.0226\n",
            "Epoch 74/100\n",
            "3/3 [==============================] - 0s 23ms/step - loss: 0.0185\n",
            "Epoch 75/100\n",
            "3/3 [==============================] - 0s 28ms/step - loss: 0.0197\n",
            "Epoch 76/100\n",
            "3/3 [==============================] - 0s 23ms/step - loss: 0.0239\n",
            "Epoch 77/100\n",
            "3/3 [==============================] - 0s 23ms/step - loss: 0.0170\n",
            "Epoch 78/100\n",
            "3/3 [==============================] - 0s 23ms/step - loss: 0.0210\n",
            "Epoch 79/100\n",
            "3/3 [==============================] - 0s 24ms/step - loss: 0.0222\n",
            "Epoch 80/100\n",
            "3/3 [==============================] - 0s 27ms/step - loss: 0.0207\n",
            "Epoch 81/100\n",
            "3/3 [==============================] - 0s 24ms/step - loss: 0.0204\n",
            "Epoch 82/100\n",
            "3/3 [==============================] - 0s 24ms/step - loss: 0.0193\n",
            "Epoch 83/100\n",
            "3/3 [==============================] - 0s 23ms/step - loss: 0.0171\n",
            "Epoch 84/100\n",
            "3/3 [==============================] - 0s 27ms/step - loss: 0.0172\n",
            "Epoch 85/100\n",
            "3/3 [==============================] - 0s 22ms/step - loss: 0.0167\n",
            "Epoch 86/100\n",
            "3/3 [==============================] - 0s 24ms/step - loss: 0.0174\n",
            "Epoch 87/100\n",
            "3/3 [==============================] - 0s 27ms/step - loss: 0.0195\n",
            "Epoch 88/100\n",
            "3/3 [==============================] - 0s 23ms/step - loss: 0.0167\n",
            "Epoch 89/100\n",
            "3/3 [==============================] - 0s 24ms/step - loss: 0.0220\n",
            "Epoch 90/100\n",
            "3/3 [==============================] - 0s 24ms/step - loss: 0.0196\n",
            "Epoch 91/100\n",
            "3/3 [==============================] - 0s 30ms/step - loss: 0.0211\n",
            "Epoch 92/100\n",
            "3/3 [==============================] - 0s 24ms/step - loss: 0.0156\n",
            "Epoch 93/100\n",
            "3/3 [==============================] - 0s 25ms/step - loss: 0.0180\n",
            "Epoch 94/100\n",
            "3/3 [==============================] - 0s 24ms/step - loss: 0.0200\n",
            "Epoch 95/100\n",
            "3/3 [==============================] - 0s 25ms/step - loss: 0.0162\n",
            "Epoch 96/100\n",
            "3/3 [==============================] - 0s 30ms/step - loss: 0.0202\n",
            "Epoch 97/100\n",
            "3/3 [==============================] - 0s 25ms/step - loss: 0.0170\n",
            "Epoch 98/100\n",
            "3/3 [==============================] - 0s 24ms/step - loss: 0.0175\n",
            "Epoch 99/100\n",
            "3/3 [==============================] - 0s 23ms/step - loss: 0.0240\n",
            "Epoch 100/100\n",
            "3/3 [==============================] - 0s 26ms/step - loss: 0.0175\n"
          ]
        }
      ],
      "source": [
        "# build LSTM model\n",
        "model1 = Sequential()\n",
        "# first layer\n",
        "model1.add(LSTM(units=NUM_NEURONS, return_sequences = True, input_shape=(X_train.shape[1],X_train.shape[2])))\n",
        "model1.add(Dropout(DROUP_OUT))\n",
        "# second layer\n",
        "model1.add(LSTM(units=NUM_NEURONS, return_sequences = True))\n",
        "model1.add(Dropout(DROUP_OUT))\n",
        "# third layer\n",
        "model1.add(LSTM(units=NUM_NEURONS, return_sequences = True))\n",
        "model1.add(Dropout(DROUP_OUT))\n",
        "# fourth layer\n",
        "model1.add(LSTM(units=NUM_NEURONS))\n",
        "model1.add(Dropout(DROUP_OUT))\n",
        "# outut layer\n",
        "model1.add(Dense(forward_days))\n",
        "#train model\n",
        "model1.compile(loss='mean_squared_error',optimizer='adam')\n",
        "              \n",
        "              # compile\n",
        "              \n",
        "history1 =model1.fit(X_train, Y_train, epochs = EPOCHES, batch_size = BATCH_SIZE)"
      ]
    },
    {
      "cell_type": "code",
      "execution_count": 32,
      "metadata": {
        "colab": {
          "base_uri": "https://localhost:8080/"
        },
        "id": "wbhHj-eYzgQd",
        "outputId": "b5379199-26e1-44c2-8405-568eb8f69227"
      },
      "outputs": [
        {
          "name": "stdout",
          "output_type": "stream",
          "text": [
            "Epoch 1/100\n",
            "3/3 [==============================] - 8s 31ms/step - loss: 0.1453\n",
            "Epoch 2/100\n",
            "3/3 [==============================] - 0s 28ms/step - loss: 0.0579\n",
            "Epoch 3/100\n",
            "3/3 [==============================] - 0s 23ms/step - loss: 0.0679\n",
            "Epoch 4/100\n",
            "3/3 [==============================] - 0s 30ms/step - loss: 0.0583\n",
            "Epoch 5/100\n",
            "3/3 [==============================] - 0s 25ms/step - loss: 0.0527\n",
            "Epoch 6/100\n",
            "3/3 [==============================] - 0s 25ms/step - loss: 0.0506\n",
            "Epoch 7/100\n",
            "3/3 [==============================] - 0s 23ms/step - loss: 0.0526\n",
            "Epoch 8/100\n",
            "3/3 [==============================] - 0s 23ms/step - loss: 0.0590\n",
            "Epoch 9/100\n",
            "3/3 [==============================] - 0s 24ms/step - loss: 0.0454\n",
            "Epoch 10/100\n",
            "3/3 [==============================] - 0s 24ms/step - loss: 0.0545\n",
            "Epoch 11/100\n",
            "3/3 [==============================] - 0s 28ms/step - loss: 0.0368\n",
            "Epoch 12/100\n",
            "3/3 [==============================] - 0s 24ms/step - loss: 0.0447\n",
            "Epoch 13/100\n",
            "3/3 [==============================] - 0s 27ms/step - loss: 0.0467\n",
            "Epoch 14/100\n",
            "3/3 [==============================] - 0s 24ms/step - loss: 0.0734\n",
            "Epoch 15/100\n",
            "3/3 [==============================] - 0s 23ms/step - loss: 0.0372\n",
            "Epoch 16/100\n",
            "3/3 [==============================] - 0s 23ms/step - loss: 0.0361\n",
            "Epoch 17/100\n",
            "3/3 [==============================] - 0s 22ms/step - loss: 0.0330\n",
            "Epoch 18/100\n",
            "3/3 [==============================] - 0s 23ms/step - loss: 0.0350\n",
            "Epoch 19/100\n",
            "3/3 [==============================] - 0s 24ms/step - loss: 0.0345\n",
            "Epoch 20/100\n",
            "3/3 [==============================] - 0s 26ms/step - loss: 0.0356\n",
            "Epoch 21/100\n",
            "3/3 [==============================] - 0s 24ms/step - loss: 0.0437\n",
            "Epoch 22/100\n",
            "3/3 [==============================] - 0s 31ms/step - loss: 0.0278\n",
            "Epoch 23/100\n",
            "3/3 [==============================] - 0s 25ms/step - loss: 0.0371\n",
            "Epoch 24/100\n",
            "3/3 [==============================] - 0s 23ms/step - loss: 0.0322\n",
            "Epoch 25/100\n",
            "3/3 [==============================] - 0s 23ms/step - loss: 0.0309\n",
            "Epoch 26/100\n",
            "3/3 [==============================] - 0s 29ms/step - loss: 0.0277\n",
            "Epoch 27/100\n",
            "3/3 [==============================] - 0s 23ms/step - loss: 0.0439\n",
            "Epoch 28/100\n",
            "3/3 [==============================] - 0s 24ms/step - loss: 0.0341\n",
            "Epoch 29/100\n",
            "3/3 [==============================] - 0s 28ms/step - loss: 0.0333\n",
            "Epoch 30/100\n",
            "3/3 [==============================] - 0s 23ms/step - loss: 0.0235\n",
            "Epoch 31/100\n",
            "3/3 [==============================] - 0s 23ms/step - loss: 0.0316\n",
            "Epoch 32/100\n",
            "3/3 [==============================] - 0s 24ms/step - loss: 0.0308\n",
            "Epoch 33/100\n",
            "3/3 [==============================] - 0s 25ms/step - loss: 0.0277\n",
            "Epoch 34/100\n",
            "3/3 [==============================] - 0s 31ms/step - loss: 0.0293\n",
            "Epoch 35/100\n",
            "3/3 [==============================] - 0s 24ms/step - loss: 0.0227\n",
            "Epoch 36/100\n",
            "3/3 [==============================] - 0s 23ms/step - loss: 0.0313\n",
            "Epoch 37/100\n",
            "3/3 [==============================] - 0s 23ms/step - loss: 0.0316\n",
            "Epoch 38/100\n",
            "3/3 [==============================] - 0s 25ms/step - loss: 0.0272\n",
            "Epoch 39/100\n",
            "3/3 [==============================] - 0s 23ms/step - loss: 0.0298\n",
            "Epoch 40/100\n",
            "3/3 [==============================] - 0s 23ms/step - loss: 0.0275\n",
            "Epoch 41/100\n",
            "3/3 [==============================] - 0s 24ms/step - loss: 0.0249\n",
            "Epoch 42/100\n",
            "3/3 [==============================] - 0s 24ms/step - loss: 0.0242\n",
            "Epoch 43/100\n",
            "3/3 [==============================] - 0s 23ms/step - loss: 0.0270\n",
            "Epoch 44/100\n",
            "3/3 [==============================] - 0s 24ms/step - loss: 0.0226\n",
            "Epoch 45/100\n",
            "3/3 [==============================] - 0s 24ms/step - loss: 0.0204\n",
            "Epoch 46/100\n",
            "3/3 [==============================] - 0s 30ms/step - loss: 0.0257\n",
            "Epoch 47/100\n",
            "3/3 [==============================] - 0s 25ms/step - loss: 0.0188\n",
            "Epoch 48/100\n",
            "3/3 [==============================] - 0s 28ms/step - loss: 0.0200\n",
            "Epoch 49/100\n",
            "3/3 [==============================] - 0s 24ms/step - loss: 0.0381\n",
            "Epoch 50/100\n",
            "3/3 [==============================] - 0s 24ms/step - loss: 0.0153\n",
            "Epoch 51/100\n",
            "3/3 [==============================] - 0s 24ms/step - loss: 0.0160\n",
            "Epoch 52/100\n",
            "3/3 [==============================] - 0s 24ms/step - loss: 0.0162\n",
            "Epoch 53/100\n",
            "3/3 [==============================] - 0s 23ms/step - loss: 0.0209\n",
            "Epoch 54/100\n",
            "3/3 [==============================] - 0s 23ms/step - loss: 0.0271\n",
            "Epoch 55/100\n",
            "3/3 [==============================] - 0s 23ms/step - loss: 0.0286\n",
            "Epoch 56/100\n",
            "3/3 [==============================] - 0s 28ms/step - loss: 0.0191\n",
            "Epoch 57/100\n",
            "3/3 [==============================] - 0s 24ms/step - loss: 0.0197\n",
            "Epoch 58/100\n",
            "3/3 [==============================] - 0s 25ms/step - loss: 0.0197\n",
            "Epoch 59/100\n",
            "3/3 [==============================] - 0s 28ms/step - loss: 0.0345\n",
            "Epoch 60/100\n",
            "3/3 [==============================] - 0s 28ms/step - loss: 0.0157\n",
            "Epoch 61/100\n",
            "3/3 [==============================] - 0s 24ms/step - loss: 0.0214\n",
            "Epoch 62/100\n",
            "3/3 [==============================] - 0s 23ms/step - loss: 0.0177\n",
            "Epoch 63/100\n",
            "3/3 [==============================] - 0s 23ms/step - loss: 0.0262\n",
            "Epoch 64/100\n",
            "3/3 [==============================] - 0s 23ms/step - loss: 0.0175\n",
            "Epoch 65/100\n",
            "3/3 [==============================] - 0s 23ms/step - loss: 0.0169\n",
            "Epoch 66/100\n",
            "3/3 [==============================] - 0s 24ms/step - loss: 0.0185\n",
            "Epoch 67/100\n",
            "3/3 [==============================] - 0s 33ms/step - loss: 0.0374\n",
            "Epoch 68/100\n",
            "3/3 [==============================] - 0s 31ms/step - loss: 0.0197\n",
            "Epoch 69/100\n",
            "3/3 [==============================] - 0s 33ms/step - loss: 0.0158\n",
            "Epoch 70/100\n",
            "3/3 [==============================] - 0s 28ms/step - loss: 0.0201\n",
            "Epoch 71/100\n",
            "3/3 [==============================] - 0s 23ms/step - loss: 0.0181\n",
            "Epoch 72/100\n",
            "3/3 [==============================] - 0s 29ms/step - loss: 0.0188\n",
            "Epoch 73/100\n",
            "3/3 [==============================] - 0s 23ms/step - loss: 0.0318\n",
            "Epoch 74/100\n",
            "3/3 [==============================] - 0s 24ms/step - loss: 0.0155\n",
            "Epoch 75/100\n",
            "3/3 [==============================] - 0s 24ms/step - loss: 0.0195\n",
            "Epoch 76/100\n",
            "3/3 [==============================] - 0s 27ms/step - loss: 0.0183\n",
            "Epoch 77/100\n",
            "3/3 [==============================] - 0s 24ms/step - loss: 0.0163\n",
            "Epoch 78/100\n",
            "3/3 [==============================] - 0s 23ms/step - loss: 0.0218\n",
            "Epoch 79/100\n",
            "3/3 [==============================] - 0s 24ms/step - loss: 0.0197\n",
            "Epoch 80/100\n",
            "3/3 [==============================] - 0s 23ms/step - loss: 0.0192\n",
            "Epoch 81/100\n",
            "3/3 [==============================] - 0s 34ms/step - loss: 0.0176\n",
            "Epoch 82/100\n",
            "3/3 [==============================] - 0s 29ms/step - loss: 0.0222\n",
            "Epoch 83/100\n",
            "3/3 [==============================] - 0s 28ms/step - loss: 0.0199\n",
            "Epoch 84/100\n",
            "3/3 [==============================] - 0s 24ms/step - loss: 0.0189\n",
            "Epoch 85/100\n",
            "3/3 [==============================] - 0s 24ms/step - loss: 0.0167\n",
            "Epoch 86/100\n",
            "3/3 [==============================] - 0s 23ms/step - loss: 0.0212\n",
            "Epoch 87/100\n",
            "3/3 [==============================] - 0s 24ms/step - loss: 0.0185\n",
            "Epoch 88/100\n",
            "3/3 [==============================] - 0s 23ms/step - loss: 0.0182\n",
            "Epoch 89/100\n",
            "3/3 [==============================] - 0s 24ms/step - loss: 0.0142\n",
            "Epoch 90/100\n",
            "3/3 [==============================] - 0s 27ms/step - loss: 0.0236\n",
            "Epoch 91/100\n",
            "3/3 [==============================] - 0s 23ms/step - loss: 0.0201\n",
            "Epoch 92/100\n",
            "3/3 [==============================] - 0s 23ms/step - loss: 0.0211\n",
            "Epoch 93/100\n",
            "3/3 [==============================] - 0s 24ms/step - loss: 0.0198\n",
            "Epoch 94/100\n",
            "3/3 [==============================] - 0s 32ms/step - loss: 0.0184\n",
            "Epoch 95/100\n",
            "3/3 [==============================] - 0s 23ms/step - loss: 0.0164\n",
            "Epoch 96/100\n",
            "3/3 [==============================] - 0s 23ms/step - loss: 0.0186\n",
            "Epoch 97/100\n",
            "3/3 [==============================] - 0s 25ms/step - loss: 0.0159\n",
            "Epoch 98/100\n",
            "3/3 [==============================] - 0s 23ms/step - loss: 0.0134\n",
            "Epoch 99/100\n",
            "3/3 [==============================] - 0s 23ms/step - loss: 0.0149\n",
            "Epoch 100/100\n",
            "3/3 [==============================] - 0s 29ms/step - loss: 0.0143\n"
          ]
        }
      ],
      "source": [
        "# build GRU model\n",
        "model2 = Sequential()\n",
        "# first layer\n",
        "model2.add(GRU(units=NUM_NEURONS, return_sequences = True, input_shape=(X_train.shape[1],X_train.shape[2])))\n",
        "model2.add(Dropout(DROUP_OUT))\n",
        "# second layer\n",
        "model2.add(GRU(units=NUM_NEURONS, return_sequences = True))\n",
        "model2.add(Dropout(DROUP_OUT))\n",
        "# third layer\n",
        "model2.add(GRU(units=NUM_NEURONS, return_sequences = True))\n",
        "model2.add(Dropout(DROUP_OUT))\n",
        "# fourth layer\n",
        "model2.add(GRU(units=NUM_NEURONS))\n",
        "model2.add(Dropout(DROUP_OUT))\n",
        "# output layer\n",
        "model2.add(Dense(forward_days))\n",
        "#train model\n",
        "model2.compile(loss='mean_squared_error',optimizer='rmsprop')\n",
        "              \n",
        "              # compile\n",
        "              \n",
        "history2 =model2.fit(X_train, Y_train, epochs = EPOCHES, batch_size = BATCH_SIZE)"
      ]
    },
    {
      "cell_type": "code",
      "execution_count": 33,
      "metadata": {
        "colab": {
          "base_uri": "https://localhost:8080/"
        },
        "id": "KzrIP03Abrpb",
        "outputId": "a984dce7-e86e-43e6-8abe-5ae522640c99"
      },
      "outputs": [
        {
          "name": "stdout",
          "output_type": "stream",
          "text": [
            "1/1 [==============================] - 2s 2s/step\n"
          ]
        },
        {
          "data": {
            "text/plain": [
              "(9, 1)"
            ]
          },
          "execution_count": 33,
          "metadata": {},
          "output_type": "execute_result"
        }
      ],
      "source": [
        "Xm1=model1.predict(X_validation)\n",
        "Xm1.shape"
      ]
    },
    {
      "cell_type": "code",
      "execution_count": 34,
      "metadata": {
        "colab": {
          "base_uri": "https://localhost:8080/"
        },
        "id": "vJK_UKUKzgOl",
        "outputId": "5265200f-ba27-4b4e-e9b9-5ffc3be16df4"
      },
      "outputs": [
        {
          "name": "stdout",
          "output_type": "stream",
          "text": [
            "1/1 [==============================] - 2s 2s/step\n"
          ]
        },
        {
          "data": {
            "text/plain": [
              "(9, 1)"
            ]
          },
          "execution_count": 34,
          "metadata": {},
          "output_type": "execute_result"
        }
      ],
      "source": [
        "Xm2=model2.predict(X_validation)\n",
        "Xm2.shape"
      ]
    },
    {
      "cell_type": "code",
      "execution_count": 35,
      "metadata": {
        "colab": {
          "base_uri": "https://localhost:8080/"
        },
        "id": "9Ef-OEENQR6X",
        "outputId": "d860a6c6-68f5-45b3-fca8-fd2868757bac"
      },
      "outputs": [
        {
          "name": "stdout",
          "output_type": "stream",
          "text": [
            "[[0.39755672]\n",
            " [0.4070692 ]\n",
            " [0.3989436 ]\n",
            " [0.37103924]\n",
            " [0.33544934]\n",
            " [0.325102  ]\n",
            " [0.33848935]\n",
            " [0.36675826]\n",
            " [0.39547896]]\n",
            "[[0.38040805]\n",
            " [0.29673275]\n",
            " [0.24276438]\n",
            " [0.24253601]\n",
            " [0.284736  ]\n",
            " [0.33127087]\n",
            " [0.36832684]\n",
            " [0.37497708]\n",
            " [0.35738325]]\n"
          ]
        }
      ],
      "source": [
        "print(Xm1)\n",
        "print(Xm2)"
      ]
    },
    {
      "cell_type": "code",
      "execution_count": 36,
      "metadata": {
        "id": "hJmVAsMYQcjw"
      },
      "outputs": [],
      "source": [
        "Y_validation = Y_validation.reshape(-1,1)\n",
        "m2_Y_validation = scaler.inverse_transform(Y_validation)"
      ]
    },
    {
      "cell_type": "code",
      "execution_count": 37,
      "metadata": {
        "colab": {
          "base_uri": "https://localhost:8080/"
        },
        "id": "G_U-w8dTzgIA",
        "outputId": "9ce616f0-b1d0-4de1-f9f3-324771ca98e9"
      },
      "outputs": [
        {
          "data": {
            "text/plain": [
              "(9, 1)"
            ]
          },
          "execution_count": 37,
          "metadata": {},
          "output_type": "execute_result"
        }
      ],
      "source": [
        "Y_validation.reshape(-1,1)\n",
        "Y_validation.shape"
      ]
    },
    {
      "cell_type": "code",
      "execution_count": 38,
      "metadata": {
        "colab": {
          "base_uri": "https://localhost:8080/"
        },
        "id": "xvYUWiUiRWYK",
        "outputId": "8c478143-3e13-4492-a75f-a0f3c594696b"
      },
      "outputs": [
        {
          "data": {
            "text/plain": [
              "array([[2634.560059],\n",
              "       [2639.399902],\n",
              "       [2666.939941],\n",
              "       [2669.909912],\n",
              "       [2648.050049],\n",
              "       [2654.800049],\n",
              "       [2635.669922],\n",
              "       [2629.72998 ],\n",
              "       [2663.419922]])"
            ]
          },
          "execution_count": 38,
          "metadata": {},
          "output_type": "execute_result"
        }
      ],
      "source": [
        "m2_Y_validation"
      ]
    },
    {
      "cell_type": "code",
      "execution_count": 39,
      "metadata": {
        "colab": {
          "base_uri": "https://localhost:8080/"
        },
        "id": "yv9HZtA1zgCh",
        "outputId": "2b77fdd8-6ae4-4257-93f9-94acd8afd379"
      },
      "outputs": [
        {
          "name": "stdout",
          "output_type": "stream",
          "text": [
            "[[2697.035 ]\n",
            " [2699.8113]\n",
            " [2697.44  ]\n",
            " [2689.2954]\n",
            " [2678.9077]\n",
            " [2675.8875]\n",
            " [2679.795 ]\n",
            " [2688.046 ]\n",
            " [2696.4287]]\n",
            "[[2692.0298]\n",
            " [2667.6074]\n",
            " [2651.8557]\n",
            " [2651.789 ]\n",
            " [2664.106 ]\n",
            " [2677.6882]\n",
            " [2688.5037]\n",
            " [2690.4446]\n",
            " [2685.3093]]\n"
          ]
        }
      ],
      "source": [
        "m1_prediction = scaler.inverse_transform(Xm1)\n",
        "m2_prediction = scaler.inverse_transform(Xm2)\n",
        "\n",
        "print(m1_prediction)\n",
        "print(m2_prediction)"
      ]
    },
    {
      "cell_type": "code",
      "execution_count": 40,
      "metadata": {
        "colab": {
          "base_uri": "https://localhost:8080/"
        },
        "id": "nrxlqrE5zf61",
        "outputId": "8e63dfe7-0178-45bf-e35f-2e7cb61eec66"
      },
      "outputs": [
        {
          "data": {
            "text/plain": [
              "array([[2634.560059],\n",
              "       [2639.399902],\n",
              "       [2666.939941],\n",
              "       [2669.909912],\n",
              "       [2648.050049],\n",
              "       [2654.800049],\n",
              "       [2635.669922],\n",
              "       [2629.72998 ],\n",
              "       [2663.419922]])"
            ]
          },
          "execution_count": 40,
          "metadata": {},
          "output_type": "execute_result"
        }
      ],
      "source": [
        "m2_Y_validation"
      ]
    },
    {
      "cell_type": "markdown",
      "metadata": {
        "id": "ujUEmUDg3xpT"
      },
      "source": [
        "# level 0 model 2 validation unscaled output => m2_prediction"
      ]
    },
    {
      "cell_type": "code",
      "execution_count": null,
      "metadata": {
        "id": "7Ug2yWVxEPwl"
      },
      "outputs": [],
      "source": [
        "# getting test data output"
      ]
    },
    {
      "cell_type": "code",
      "execution_count": 41,
      "metadata": {
        "colab": {
          "base_uri": "https://localhost:8080/"
        },
        "id": "QaShQLqTay7e",
        "outputId": "2d34f114-681d-4a32-a9b4-67e8ed7a78e7"
      },
      "outputs": [
        {
          "name": "stdout",
          "output_type": "stream",
          "text": [
            "1/1 [==============================] - 0s 21ms/step\n"
          ]
        },
        {
          "data": {
            "text/plain": [
              "(9, 1)"
            ]
          },
          "execution_count": 41,
          "metadata": {},
          "output_type": "execute_result"
        }
      ],
      "source": [
        "Xmt1=model1.predict(X_test)\n",
        "Xmt1.shape"
      ]
    },
    {
      "cell_type": "code",
      "execution_count": 42,
      "metadata": {
        "colab": {
          "base_uri": "https://localhost:8080/"
        },
        "id": "jstIRnd2EQUI",
        "outputId": "264d04ec-f15f-4f55-d633-b24877b68853"
      },
      "outputs": [
        {
          "name": "stdout",
          "output_type": "stream",
          "text": [
            "1/1 [==============================] - 0s 31ms/step\n"
          ]
        },
        {
          "data": {
            "text/plain": [
              "(9, 1)"
            ]
          },
          "execution_count": 42,
          "metadata": {},
          "output_type": "execute_result"
        }
      ],
      "source": [
        "Xmt2=model2.predict(X_test)\n",
        "Xmt2.shape"
      ]
    },
    {
      "cell_type": "code",
      "execution_count": 43,
      "metadata": {
        "colab": {
          "base_uri": "https://localhost:8080/"
        },
        "id": "hipluEHDEQa7",
        "outputId": "5f717d2c-1cb7-4a68-9d90-41683436dd4f"
      },
      "outputs": [
        {
          "data": {
            "text/plain": [
              "(9,)"
            ]
          },
          "execution_count": 43,
          "metadata": {},
          "output_type": "execute_result"
        }
      ],
      "source": [
        "Y_test.reshape(-1,1)\n",
        "Y_test.shape"
      ]
    },
    {
      "cell_type": "code",
      "execution_count": 44,
      "metadata": {
        "id": "r4IvUdS4EQYO"
      },
      "outputs": [],
      "source": [
        "m1_x_test = scaler.inverse_transform(Xmt1)\n",
        "m2_x_test = scaler.inverse_transform(Xmt2)"
      ]
    },
    {
      "cell_type": "code",
      "execution_count": 45,
      "metadata": {
        "colab": {
          "base_uri": "https://localhost:8080/"
        },
        "id": "1jyjCd0jR0oX",
        "outputId": "45172dcc-9ac7-480f-a811-3da3427fead8"
      },
      "outputs": [
        {
          "data": {
            "text/plain": [
              "array([[2701.2107],\n",
              "       [2702.9922],\n",
              "       [2707.385 ],\n",
              "       [2707.6848],\n",
              "       [2705.2449],\n",
              "       [2702.6536],\n",
              "       [2695.296 ],\n",
              "       [2692.9385],\n",
              "       [2688.1282]], dtype=float32)"
            ]
          },
          "execution_count": 45,
          "metadata": {},
          "output_type": "execute_result"
        }
      ],
      "source": [
        "m2_x_test"
      ]
    },
    {
      "cell_type": "code",
      "execution_count": 46,
      "metadata": {
        "colab": {
          "base_uri": "https://localhost:8080/"
        },
        "id": "b7AzgzxRR10e",
        "outputId": "3faab7cf-c531-4bb6-e506-de7017226873"
      },
      "outputs": [
        {
          "data": {
            "text/plain": [
              "array([[2727.1267],\n",
              "       [2719.3594],\n",
              "       [2711.9688],\n",
              "       [2703.0513],\n",
              "       [2704.2036],\n",
              "       [2708.5151],\n",
              "       [2707.7407],\n",
              "       [2707.4062],\n",
              "       [2697.3381]], dtype=float32)"
            ]
          },
          "execution_count": 46,
          "metadata": {},
          "output_type": "execute_result"
        }
      ],
      "source": [
        "m1_x_test"
      ]
    },
    {
      "cell_type": "code",
      "execution_count": 47,
      "metadata": {
        "id": "kp2WeKC_EQQ7"
      },
      "outputs": [],
      "source": [
        "Y_test = Y_test.reshape(-1,1)\n",
        "m2_Y_test = scaler.inverse_transform(Y_test)"
      ]
    },
    {
      "cell_type": "code",
      "execution_count": 48,
      "metadata": {
        "colab": {
          "base_uri": "https://localhost:8080/"
        },
        "id": "9zEYNWAoEQOA",
        "outputId": "a3558bca-8c36-4aca-bf61-3e9f624847cd"
      },
      "outputs": [
        {
          "data": {
            "text/plain": [
              "array([[2733.01001 ],\n",
              "       [2724.439941],\n",
              "       [2733.290039],\n",
              "       [2727.76001 ],\n",
              "       [2721.330078],\n",
              "       [2689.860107],\n",
              "       [2724.01001 ],\n",
              "       [2705.27002 ],\n",
              "       [2734.620117]])"
            ]
          },
          "execution_count": 48,
          "metadata": {},
          "output_type": "execute_result"
        }
      ],
      "source": [
        "m2_Y_test"
      ]
    },
    {
      "cell_type": "code",
      "execution_count": 50,
      "metadata": {
        "colab": {
          "base_uri": "https://localhost:8080/"
        },
        "id": "evrpxWh3mlNm",
        "outputId": "ad661a6d-421c-422c-f99a-b5687b7a3bb5"
      },
      "outputs": [
        {
          "name": "stdout",
          "output_type": "stream",
          "text": [
            "level 0 model 2 test MSE  678.4178892385543\n"
          ]
        }
      ],
      "source": [
        "from sklearn.metrics import mean_squared_error\n",
        "\n",
        "level0_model2_test_mse = mean_squared_error(m2_x_test, m2_Y_test)\n",
        "print(\"level 0 model 2 test MSE \", level0_model2_test_mse)"
      ]
    },
    {
      "cell_type": "code",
      "execution_count": 51,
      "metadata": {
        "colab": {
          "base_uri": "https://localhost:8080/"
        },
        "id": "Iy_CCijaR7QS",
        "outputId": "0267f841-d011-4796-bfd5-08e1e38ee8d0"
      },
      "outputs": [
        {
          "name": "stdout",
          "output_type": "stream",
          "text": [
            "level 0 model 2 test MSE  380.6744353416694\n"
          ]
        }
      ],
      "source": [
        "level0_model1_test_mse = mean_squared_error(m1_x_test, m2_Y_test)\n",
        "print(\"level 0 model 2 test MSE \", level0_model1_test_mse)"
      ]
    },
    {
      "cell_type": "markdown",
      "metadata": {
        "id": "2LKkKkni6oT-"
      },
      "source": [
        "# now train level 1 model with level 0 models' output"
      ]
    },
    {
      "cell_type": "code",
      "execution_count": 52,
      "metadata": {
        "colab": {
          "base_uri": "https://localhost:8080/"
        },
        "id": "sD4ebszktkwC",
        "outputId": "93610ed2-ea1e-4622-d952-a36ad9617c70"
      },
      "outputs": [
        {
          "data": {
            "text/plain": [
              "array([[0.18350648],\n",
              "       [0.20008866],\n",
              "       [0.29444584],\n",
              "       [0.3046215 ],\n",
              "       [0.22972564],\n",
              "       [0.25285236],\n",
              "       [0.18730908],\n",
              "       [0.16695776],\n",
              "       [0.28238561]])"
            ]
          },
          "execution_count": 52,
          "metadata": {},
          "output_type": "execute_result"
        }
      ],
      "source": [
        "Y_validation"
      ]
    },
    {
      "cell_type": "code",
      "execution_count": 53,
      "metadata": {
        "colab": {
          "base_uri": "https://localhost:8080/"
        },
        "id": "R9efU4r-G8Bl",
        "outputId": "4032ebb9-738f-488e-853a-04bef5b2923a"
      },
      "outputs": [
        {
          "data": {
            "text/plain": [
              "array([[2634.560059],\n",
              "       [2639.399902],\n",
              "       [2666.939941],\n",
              "       [2669.909912],\n",
              "       [2648.050049],\n",
              "       [2654.800049],\n",
              "       [2635.669922],\n",
              "       [2629.72998 ],\n",
              "       [2663.419922]])"
            ]
          },
          "execution_count": 53,
          "metadata": {},
          "output_type": "execute_result"
        }
      ],
      "source": [
        "m2_Y_validation"
      ]
    },
    {
      "cell_type": "code",
      "execution_count": 54,
      "metadata": {
        "id": "F0uzCuUq6nCx"
      },
      "outputs": [],
      "source": [
        "import tensorflow as tf\n",
        "from tensorflow import keras\n",
        "model3 = keras.Sequential([\n",
        "    keras.layers.Flatten(input_shape=(2,)),\n",
        "    keras.layers.Dense(18, activation='relu'),\n",
        "    keras.layers.Dense(9, activation='relu'),\n",
        "    #keras.layers.Dense(4, activation='relu'),\n",
        "    keras.layers.Dense(2, activation='relu'),\n",
        "    keras.layers.Dense(1)\n",
        "])"
      ]
    },
    {
      "cell_type": "code",
      "execution_count": 55,
      "metadata": {
        "id": "LA6Ogib_6nLB"
      },
      "outputs": [],
      "source": [
        "model3.compile(optimizer='rmsprop', \n",
        "              loss='mean_squared_error',\n",
        "              metrics=['mae'])"
      ]
    },
    {
      "cell_type": "code",
      "execution_count": 56,
      "metadata": {
        "id": "c5Hjh1WdTxh3"
      },
      "outputs": [],
      "source": [
        "scaler = MinMaxScaler()\n",
        "normalized_x_validation1 = scaler.fit_transform(m1_prediction)\n",
        "normalized_x_validation2 = scaler.fit_transform(m2_prediction)\n",
        "\n",
        "normalized_y_validation = scaler.fit_transform(m2_Y_validation)"
      ]
    },
    {
      "cell_type": "code",
      "execution_count": 57,
      "metadata": {
        "colab": {
          "base_uri": "https://localhost:8080/"
        },
        "id": "CaY0FyBHVYBC",
        "outputId": "15c4229e-ed94-418f-aab2-a0dc6538821d"
      },
      "outputs": [
        {
          "data": {
            "text/plain": [
              "(9, 2)"
            ]
          },
          "execution_count": 57,
          "metadata": {},
          "output_type": "execute_result"
        }
      ],
      "source": [
        "level1_train_data=np.concatenate((normalized_x_validation1, normalized_x_validation2), axis=-1)\n",
        "level1_train_data.shape"
      ]
    },
    {
      "cell_type": "markdown",
      "metadata": {
        "id": "oH1yI_je8cN8"
      },
      "source": []
    },
    {
      "cell_type": "code",
      "execution_count": 58,
      "metadata": {
        "colab": {
          "base_uri": "https://localhost:8080/"
        },
        "id": "IL2a6LmM6nQR",
        "outputId": "6d617a57-cda0-4d82-e381-48bf379fc1dd"
      },
      "outputs": [
        {
          "name": "stdout",
          "output_type": "stream",
          "text": [
            "Epoch 1/100\n",
            "5/5 [==============================] - 1s 4ms/step - loss: 0.3688 - mae: 0.4952\n",
            "Epoch 2/100\n",
            "5/5 [==============================] - 0s 4ms/step - loss: 0.3528 - mae: 0.4757\n",
            "Epoch 3/100\n",
            "5/5 [==============================] - 0s 3ms/step - loss: 0.3453 - mae: 0.4706\n",
            "Epoch 4/100\n",
            "5/5 [==============================] - 0s 3ms/step - loss: 0.3406 - mae: 0.4664\n",
            "Epoch 5/100\n",
            "5/5 [==============================] - 0s 3ms/step - loss: 0.3365 - mae: 0.4634\n",
            "Epoch 6/100\n",
            "5/5 [==============================] - 0s 3ms/step - loss: 0.3324 - mae: 0.4592\n",
            "Epoch 7/100\n",
            "5/5 [==============================] - 0s 3ms/step - loss: 0.3287 - mae: 0.4563\n",
            "Epoch 8/100\n",
            "5/5 [==============================] - 0s 4ms/step - loss: 0.3251 - mae: 0.4539\n",
            "Epoch 9/100\n",
            "5/5 [==============================] - 0s 3ms/step - loss: 0.3217 - mae: 0.4499\n",
            "Epoch 10/100\n",
            "5/5 [==============================] - 0s 3ms/step - loss: 0.3182 - mae: 0.4472\n",
            "Epoch 11/100\n",
            "5/5 [==============================] - 0s 4ms/step - loss: 0.3146 - mae: 0.4440\n",
            "Epoch 12/100\n",
            "5/5 [==============================] - 0s 4ms/step - loss: 0.3107 - mae: 0.4406\n",
            "Epoch 13/100\n",
            "5/5 [==============================] - 0s 3ms/step - loss: 0.3068 - mae: 0.4372\n",
            "Epoch 14/100\n",
            "5/5 [==============================] - 0s 3ms/step - loss: 0.3034 - mae: 0.4336\n",
            "Epoch 15/100\n",
            "5/5 [==============================] - 0s 3ms/step - loss: 0.3004 - mae: 0.4313\n",
            "Epoch 16/100\n",
            "5/5 [==============================] - 0s 3ms/step - loss: 0.2974 - mae: 0.4283\n",
            "Epoch 17/100\n",
            "5/5 [==============================] - 0s 3ms/step - loss: 0.2943 - mae: 0.4251\n",
            "Epoch 18/100\n",
            "5/5 [==============================] - 0s 3ms/step - loss: 0.2911 - mae: 0.4221\n",
            "Epoch 19/100\n",
            "5/5 [==============================] - 0s 3ms/step - loss: 0.2878 - mae: 0.4191\n",
            "Epoch 20/100\n",
            "5/5 [==============================] - 0s 4ms/step - loss: 0.2846 - mae: 0.4160\n",
            "Epoch 21/100\n",
            "5/5 [==============================] - 0s 3ms/step - loss: 0.2811 - mae: 0.4127\n",
            "Epoch 22/100\n",
            "5/5 [==============================] - 0s 3ms/step - loss: 0.2778 - mae: 0.4091\n",
            "Epoch 23/100\n",
            "5/5 [==============================] - 0s 3ms/step - loss: 0.2752 - mae: 0.4064\n",
            "Epoch 24/100\n",
            "5/5 [==============================] - 0s 3ms/step - loss: 0.2722 - mae: 0.4036\n",
            "Epoch 25/100\n",
            "5/5 [==============================] - 0s 3ms/step - loss: 0.2688 - mae: 0.3998\n",
            "Epoch 26/100\n",
            "5/5 [==============================] - 0s 3ms/step - loss: 0.2656 - mae: 0.3969\n",
            "Epoch 27/100\n",
            "5/5 [==============================] - 0s 3ms/step - loss: 0.2626 - mae: 0.3935\n",
            "Epoch 28/100\n",
            "5/5 [==============================] - 0s 3ms/step - loss: 0.2601 - mae: 0.3907\n",
            "Epoch 29/100\n",
            "5/5 [==============================] - 0s 3ms/step - loss: 0.2571 - mae: 0.3882\n",
            "Epoch 30/100\n",
            "5/5 [==============================] - 0s 4ms/step - loss: 0.2544 - mae: 0.3863\n",
            "Epoch 31/100\n",
            "5/5 [==============================] - 0s 4ms/step - loss: 0.2514 - mae: 0.3839\n",
            "Epoch 32/100\n",
            "5/5 [==============================] - 0s 3ms/step - loss: 0.2487 - mae: 0.3816\n",
            "Epoch 33/100\n",
            "5/5 [==============================] - 0s 3ms/step - loss: 0.2461 - mae: 0.3796\n",
            "Epoch 34/100\n",
            "5/5 [==============================] - 0s 3ms/step - loss: 0.2432 - mae: 0.3771\n",
            "Epoch 35/100\n",
            "5/5 [==============================] - 0s 3ms/step - loss: 0.2408 - mae: 0.3750\n",
            "Epoch 36/100\n",
            "5/5 [==============================] - 0s 3ms/step - loss: 0.2383 - mae: 0.3737\n",
            "Epoch 37/100\n",
            "5/5 [==============================] - 0s 3ms/step - loss: 0.2359 - mae: 0.3727\n",
            "Epoch 38/100\n",
            "5/5 [==============================] - 0s 4ms/step - loss: 0.2333 - mae: 0.3716\n",
            "Epoch 39/100\n",
            "5/5 [==============================] - 0s 3ms/step - loss: 0.2304 - mae: 0.3702\n",
            "Epoch 40/100\n",
            "5/5 [==============================] - 0s 4ms/step - loss: 0.2282 - mae: 0.3685\n",
            "Epoch 41/100\n",
            "5/5 [==============================] - 0s 4ms/step - loss: 0.2259 - mae: 0.3677\n",
            "Epoch 42/100\n",
            "5/5 [==============================] - 0s 3ms/step - loss: 0.2237 - mae: 0.3663\n",
            "Epoch 43/100\n",
            "5/5 [==============================] - 0s 3ms/step - loss: 0.2214 - mae: 0.3652\n",
            "Epoch 44/100\n",
            "5/5 [==============================] - 0s 3ms/step - loss: 0.2195 - mae: 0.3638\n",
            "Epoch 45/100\n",
            "5/5 [==============================] - 0s 3ms/step - loss: 0.2172 - mae: 0.3629\n",
            "Epoch 46/100\n",
            "5/5 [==============================] - 0s 3ms/step - loss: 0.2155 - mae: 0.3620\n",
            "Epoch 47/100\n",
            "5/5 [==============================] - 0s 3ms/step - loss: 0.2131 - mae: 0.3602\n",
            "Epoch 48/100\n",
            "5/5 [==============================] - 0s 3ms/step - loss: 0.2112 - mae: 0.3597\n",
            "Epoch 49/100\n",
            "5/5 [==============================] - 0s 3ms/step - loss: 0.2095 - mae: 0.3589\n",
            "Epoch 50/100\n",
            "5/5 [==============================] - 0s 5ms/step - loss: 0.2079 - mae: 0.3575\n",
            "Epoch 51/100\n",
            "5/5 [==============================] - 0s 3ms/step - loss: 0.2057 - mae: 0.3561\n",
            "Epoch 52/100\n",
            "5/5 [==============================] - 0s 5ms/step - loss: 0.2040 - mae: 0.3557\n",
            "Epoch 53/100\n",
            "5/5 [==============================] - 0s 3ms/step - loss: 0.2020 - mae: 0.3540\n",
            "Epoch 54/100\n",
            "5/5 [==============================] - 0s 3ms/step - loss: 0.1999 - mae: 0.3529\n",
            "Epoch 55/100\n",
            "5/5 [==============================] - 0s 5ms/step - loss: 0.1982 - mae: 0.3518\n",
            "Epoch 56/100\n",
            "5/5 [==============================] - 0s 3ms/step - loss: 0.1964 - mae: 0.3507\n",
            "Epoch 57/100\n",
            "5/5 [==============================] - 0s 3ms/step - loss: 0.1950 - mae: 0.3498\n",
            "Epoch 58/100\n",
            "5/5 [==============================] - 0s 3ms/step - loss: 0.1933 - mae: 0.3486\n",
            "Epoch 59/100\n",
            "5/5 [==============================] - 0s 3ms/step - loss: 0.1914 - mae: 0.3475\n",
            "Epoch 60/100\n",
            "5/5 [==============================] - 0s 3ms/step - loss: 0.1897 - mae: 0.3464\n",
            "Epoch 61/100\n",
            "5/5 [==============================] - 0s 3ms/step - loss: 0.1882 - mae: 0.3450\n",
            "Epoch 62/100\n",
            "5/5 [==============================] - 0s 3ms/step - loss: 0.1865 - mae: 0.3439\n",
            "Epoch 63/100\n",
            "5/5 [==============================] - 0s 3ms/step - loss: 0.1852 - mae: 0.3443\n",
            "Epoch 64/100\n",
            "5/5 [==============================] - 0s 3ms/step - loss: 0.1837 - mae: 0.3433\n",
            "Epoch 65/100\n",
            "5/5 [==============================] - 0s 3ms/step - loss: 0.1819 - mae: 0.3427\n",
            "Epoch 66/100\n",
            "5/5 [==============================] - 0s 3ms/step - loss: 0.1802 - mae: 0.3423\n",
            "Epoch 67/100\n",
            "5/5 [==============================] - 0s 3ms/step - loss: 0.1787 - mae: 0.3419\n",
            "Epoch 68/100\n",
            "5/5 [==============================] - 0s 3ms/step - loss: 0.1774 - mae: 0.3423\n",
            "Epoch 69/100\n",
            "5/5 [==============================] - 0s 3ms/step - loss: 0.1761 - mae: 0.3414\n",
            "Epoch 70/100\n",
            "5/5 [==============================] - 0s 4ms/step - loss: 0.1751 - mae: 0.3414\n",
            "Epoch 71/100\n",
            "5/5 [==============================] - 0s 3ms/step - loss: 0.1734 - mae: 0.3405\n",
            "Epoch 72/100\n",
            "5/5 [==============================] - 0s 3ms/step - loss: 0.1720 - mae: 0.3406\n",
            "Epoch 73/100\n",
            "5/5 [==============================] - 0s 3ms/step - loss: 0.1710 - mae: 0.3403\n",
            "Epoch 74/100\n",
            "5/5 [==============================] - 0s 5ms/step - loss: 0.1696 - mae: 0.3403\n",
            "Epoch 75/100\n",
            "5/5 [==============================] - 0s 4ms/step - loss: 0.1688 - mae: 0.3394\n",
            "Epoch 76/100\n",
            "5/5 [==============================] - 0s 3ms/step - loss: 0.1675 - mae: 0.3395\n",
            "Epoch 77/100\n",
            "5/5 [==============================] - 0s 5ms/step - loss: 0.1665 - mae: 0.3388\n",
            "Epoch 78/100\n",
            "5/5 [==============================] - 0s 3ms/step - loss: 0.1653 - mae: 0.3388\n",
            "Epoch 79/100\n",
            "5/5 [==============================] - 0s 3ms/step - loss: 0.1641 - mae: 0.3385\n",
            "Epoch 80/100\n",
            "5/5 [==============================] - 0s 3ms/step - loss: 0.1630 - mae: 0.3380\n",
            "Epoch 81/100\n",
            "5/5 [==============================] - 0s 3ms/step - loss: 0.1621 - mae: 0.3376\n",
            "Epoch 82/100\n",
            "5/5 [==============================] - 0s 3ms/step - loss: 0.1609 - mae: 0.3373\n",
            "Epoch 83/100\n",
            "5/5 [==============================] - 0s 3ms/step - loss: 0.1599 - mae: 0.3369\n",
            "Epoch 84/100\n",
            "5/5 [==============================] - 0s 4ms/step - loss: 0.1588 - mae: 0.3368\n",
            "Epoch 85/100\n",
            "5/5 [==============================] - 0s 3ms/step - loss: 0.1580 - mae: 0.3362\n",
            "Epoch 86/100\n",
            "5/5 [==============================] - 0s 3ms/step - loss: 0.1575 - mae: 0.3363\n",
            "Epoch 87/100\n",
            "5/5 [==============================] - 0s 3ms/step - loss: 0.1566 - mae: 0.3361\n",
            "Epoch 88/100\n",
            "5/5 [==============================] - 0s 3ms/step - loss: 0.1558 - mae: 0.3356\n",
            "Epoch 89/100\n",
            "5/5 [==============================] - 0s 3ms/step - loss: 0.1548 - mae: 0.3357\n",
            "Epoch 90/100\n",
            "5/5 [==============================] - 0s 4ms/step - loss: 0.1541 - mae: 0.3351\n",
            "Epoch 91/100\n",
            "5/5 [==============================] - 0s 4ms/step - loss: 0.1529 - mae: 0.3350\n",
            "Epoch 92/100\n",
            "5/5 [==============================] - 0s 4ms/step - loss: 0.1526 - mae: 0.3347\n",
            "Epoch 93/100\n",
            "5/5 [==============================] - 0s 3ms/step - loss: 0.1521 - mae: 0.3348\n",
            "Epoch 94/100\n",
            "5/5 [==============================] - 0s 3ms/step - loss: 0.1516 - mae: 0.3343\n",
            "Epoch 95/100\n",
            "5/5 [==============================] - 0s 3ms/step - loss: 0.1512 - mae: 0.3342\n",
            "Epoch 96/100\n",
            "5/5 [==============================] - 0s 3ms/step - loss: 0.1503 - mae: 0.3336\n",
            "Epoch 97/100\n",
            "5/5 [==============================] - 0s 3ms/step - loss: 0.1497 - mae: 0.3341\n",
            "Epoch 98/100\n",
            "5/5 [==============================] - 0s 3ms/step - loss: 0.1493 - mae: 0.3337\n",
            "Epoch 99/100\n",
            "5/5 [==============================] - 0s 3ms/step - loss: 0.1484 - mae: 0.3333\n",
            "Epoch 100/100\n",
            "5/5 [==============================] - 0s 3ms/step - loss: 0.1476 - mae: 0.3328\n"
          ]
        },
        {
          "data": {
            "text/plain": [
              "<keras.callbacks.History at 0x7fba1e76c750>"
            ]
          },
          "execution_count": 58,
          "metadata": {},
          "output_type": "execute_result"
        }
      ],
      "source": [
        "model3.fit(level1_train_data, normalized_y_validation, epochs=100, batch_size=2)"
      ]
    },
    {
      "cell_type": "code",
      "execution_count": 59,
      "metadata": {
        "id": "2hgymgqFUBUw"
      },
      "outputs": [],
      "source": [
        "normalized_x_test1 = scaler.fit_transform(m1_x_test)\n",
        "normalized_x_test2 = scaler.fit_transform(m2_x_test)"
      ]
    },
    {
      "cell_type": "code",
      "execution_count": 60,
      "metadata": {
        "colab": {
          "base_uri": "https://localhost:8080/"
        },
        "id": "DCMh9uXTVltn",
        "outputId": "f1765fe3-308c-4a27-bd76-3263f17a6449"
      },
      "outputs": [
        {
          "data": {
            "text/plain": [
              "(9, 2)"
            ]
          },
          "execution_count": 60,
          "metadata": {},
          "output_type": "execute_result"
        }
      ],
      "source": [
        "level1_test_data=np.concatenate((normalized_x_test1, normalized_x_test2), axis=-1)\n",
        "level1_test_data.shape"
      ]
    },
    {
      "cell_type": "code",
      "execution_count": 61,
      "metadata": {
        "colab": {
          "base_uri": "https://localhost:8080/"
        },
        "id": "Sb78OZOoTheA",
        "outputId": "9976f0ab-1106-4780-8ca6-517db9ef34c2"
      },
      "outputs": [
        {
          "name": "stdout",
          "output_type": "stream",
          "text": [
            "1/1 [==============================] - 0s 59ms/step\n"
          ]
        },
        {
          "data": {
            "text/plain": [
              "(9, 1)"
            ]
          },
          "execution_count": 61,
          "metadata": {},
          "output_type": "execute_result"
        }
      ],
      "source": [
        "Xt3 =model3.predict(level1_test_data)\n",
        "Xt3.shape"
      ]
    },
    {
      "cell_type": "code",
      "execution_count": 62,
      "metadata": {
        "id": "zcuJLsCzUMEV"
      },
      "outputs": [],
      "source": [
        "predicted_stock_price = scaler.inverse_transform(Xt3)"
      ]
    },
    {
      "cell_type": "code",
      "execution_count": 63,
      "metadata": {
        "colab": {
          "base_uri": "https://localhost:8080/"
        },
        "id": "tyibT7JKThmM",
        "outputId": "9ef9fb72-6b7c-43ee-fb7d-cce2e86c04d0"
      },
      "outputs": [
        {
          "name": "stdout",
          "output_type": "stream",
          "text": [
            "Blending Ensemble MSE:  907.3816113584458\n"
          ]
        }
      ],
      "source": [
        "from sklearn.metrics import mean_squared_error\n",
        "\n",
        "mse = mean_squared_error(predicted_stock_price, m2_Y_test)\n",
        "print(\"Blending Ensemble MSE: \", mse)"
      ]
    },
    {
      "cell_type": "code",
      "execution_count": 64,
      "metadata": {
        "colab": {
          "base_uri": "https://localhost:8080/"
        },
        "id": "zCSKUHMWW2iV",
        "outputId": "bc60ddb5-3b73-48f2-cf0c-5a85615d8cc6"
      },
      "outputs": [
        {
          "data": {
            "text/plain": [
              "array([[2694.8164],\n",
              "       [2694.8374],\n",
              "       [2694.8374],\n",
              "       [2694.8374],\n",
              "       [2694.8374],\n",
              "       [2694.8374],\n",
              "       [2694.8374],\n",
              "       [2694.8374],\n",
              "       [2694.8413]], dtype=float32)"
            ]
          },
          "execution_count": 64,
          "metadata": {},
          "output_type": "execute_result"
        }
      ],
      "source": [
        "predicted_stock_price"
      ]
    }
  ],
  "metadata": {
    "colab": {
      "provenance": [],
      "toc_visible": true
    },
    "kernelspec": {
      "display_name": "Python 3",
      "language": "python",
      "name": "python3"
    },
    "language_info": {
      "codemirror_mode": {
        "name": "ipython",
        "version": 3
      },
      "file_extension": ".py",
      "mimetype": "text/x-python",
      "name": "python",
      "nbconvert_exporter": "python",
      "pygments_lexer": "ipython3",
      "version": "3.7.3"
    }
  },
  "nbformat": 4,
  "nbformat_minor": 0
}
