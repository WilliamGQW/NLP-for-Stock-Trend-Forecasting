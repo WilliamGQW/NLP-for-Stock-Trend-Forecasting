{
 "cells": [
  {
   "cell_type": "code",
   "execution_count": null,
   "id": "352fb3e6",
   "metadata": {},
   "outputs": [],
   "source": [
    "import os\n",
    "import json\n",
    "import pandas as pd\n"
   ]
  },
  {
   "cell_type": "code",
   "execution_count": null,
   "id": "890fc0ca",
   "metadata": {},
   "outputs": [],
   "source": [
    "# load all files in all sub-folders under the parent directory\n",
    "def list_files(dirpath):\n",
    "    for dirname, dirnames, filenames in os.walk(dirpath):\n",
    "        for filename in filenames:\n",
    "            yield os.path.join(dirname, filename)\n"
   ]
  },
  {
   "cell_type": "code",
   "execution_count": null,
   "id": "1a0f14e5",
   "metadata": {},
   "outputs": [],
   "source": [
    "# Load all .json files use json.loads(), basically each .json file only contains 1 line\n",
    "json_list = []\n",
    "dirpath = 'us-financial-news-articles/'\n",
    "for filePath in list_files(dirpath):\n",
    "    if filePath.endswith('.json'):\n",
    "        with open(filePath) as f:\n",
    "            for line in f:\n",
    "                data = json.loads(line)\n",
    "                json_list.append([\n",
    "                    data['published'],\n",
    "                    data['thread']['site'],\n",
    "                    data['title'],\n",
    "                    data['text'],\n",
    "                    data['url']])\n"
   ]
  },
  {
   "cell_type": "code",
   "execution_count": null,
   "id": "ff64034c",
   "metadata": {},
   "outputs": [],
   "source": [
    "# Make sure the length of json list matches the total files\n",
    "len(json_list)\n"
   ]
  },
  {
   "cell_type": "code",
   "execution_count": null,
   "id": "c140f130",
   "metadata": {},
   "outputs": [],
   "source": [
    "# Convert Json to DataFrame in order to perform data analysis\n",
    "col_names = ['published_date', 'source_name', 'title', 'body', 'url']\n",
    "df = pd.DataFrame(json_list, columns=col_names)\n",
    "df.shape\n"
   ]
  },
  {
   "cell_type": "code",
   "execution_count": null,
   "id": "d7c877d9",
   "metadata": {},
   "outputs": [],
   "source": [
    "df.head()\n"
   ]
  },
  {
   "cell_type": "code",
   "execution_count": null,
   "id": "e527533f",
   "metadata": {},
   "outputs": [],
   "source": [
    "# Sort the data by date\n",
    "df = df.sort_values(by=['published_date'], ascending=True)\n",
    "df.head()\n"
   ]
  },
  {
   "cell_type": "code",
   "execution_count": null,
   "id": "fcf0ef11",
   "metadata": {},
   "outputs": [],
   "source": [
    "df = df.reset_index(inplace=False)\n",
    "del df['index']\n"
   ]
  },
  {
   "cell_type": "code",
   "execution_count": null,
   "id": "115d8a32",
   "metadata": {},
   "outputs": [],
   "source": [
    "df.head()\n"
   ]
  },
  {
   "cell_type": "code",
   "execution_count": null,
   "id": "267b8496",
   "metadata": {},
   "outputs": [],
   "source": [
    "# Export to .csv file\n",
    "# df.to_csv('us_financial_news_articles_2018.csv')\n"
   ]
  }
 ],
 "metadata": {
  "kernelspec": {
   "display_name": "Python 3.8.8 ('base')",
   "language": "python",
   "name": "python3"
  },
  "language_info": {
   "codemirror_mode": {
    "name": "ipython",
    "version": 3
   },
   "file_extension": ".py",
   "mimetype": "text/x-python",
   "name": "python",
   "nbconvert_exporter": "python",
   "pygments_lexer": "ipython3",
   "version": "3.8.8"
  },
  "vscode": {
   "interpreter": {
    "hash": "30855fca1de1a9e76fb191234c06e457444d085aee49bba65a45b68036adabaf"
   }
  }
 },
 "nbformat": 4,
 "nbformat_minor": 5
}
