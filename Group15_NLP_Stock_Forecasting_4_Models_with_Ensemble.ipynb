{
  "cells": [
    {
      "cell_type": "code",
      "execution_count": null,
      "metadata": {
        "colab": {
          "base_uri": "https://localhost:8080/"
        },
        "id": "8Gw8_Z-TJ87K",
        "outputId": "a0998183-9b27-4b7b-e30c-505ce35a24f6"
      },
      "outputs": [
        {
          "output_type": "stream",
          "name": "stdout",
          "text": [
            "Drive already mounted at /content/drive; to attempt to forcibly remount, call drive.mount(\"/content/drive\", force_remount=True).\n"
          ]
        }
      ],
      "source": [
        "from google.colab import drive\n",
        "drive.mount('/content/drive')"
      ]
    },
    {
      "cell_type": "code",
      "execution_count": null,
      "metadata": {
        "colab": {
          "base_uri": "https://localhost:8080/"
        },
        "id": "LRuMAlOOKGDF",
        "outputId": "3cc92408-a5c3-4142-c83a-ad4552a43bf8"
      },
      "outputs": [
        {
          "output_type": "stream",
          "name": "stdout",
          "text": [
            "/content/drive/Shareddrives/CS544-Group15/project\n"
          ]
        }
      ],
      "source": [
        "%cd '/content/drive/Shareddrives/CS544-Group15/project'"
      ]
    },
    {
      "cell_type": "code",
      "execution_count": null,
      "metadata": {
        "colab": {
          "base_uri": "https://localhost:8080/"
        },
        "id": "4K5bT3MnT4to",
        "outputId": "c55cca03-3ddf-4a73-8b74-48eb706a16d6"
      },
      "outputs": [
        {
          "output_type": "stream",
          "name": "stderr",
          "text": [
            "WARNING:tensorflow:From /usr/local/lib/python3.7/dist-packages/tensorflow/python/compat/v2_compat.py:107: disable_resource_variables (from tensorflow.python.ops.variable_scope) is deprecated and will be removed in a future version.\n",
            "Instructions for updating:\n",
            "non-resource variables are not supported in the long term\n"
          ]
        }
      ],
      "source": [
        "# import necessary packages\n",
        "# %tensorflow_version 2.x\n",
        "import json\n",
        "import time\n",
        "import math\n",
        "import matplotlib.pyplot as plt\n",
        "import numpy as np\n",
        "import pandas as pd\n",
        "import datetime as dt\n",
        "from numpy import newaxis\n",
        "# import tensorflow as tf\n",
        "import tensorflow.compat.v1 as tf\n",
        "tf.disable_v2_behavior()\n",
        "from tensorflow import keras\n",
        "from keras.layers import Dense, Activation, Dropout, LSTM, GRU, Conv1D, MaxPooling1D\n",
        "from keras.models import Sequential, load_model\n",
        "from keras.callbacks import EarlyStopping, ModelCheckpoint\n",
        "from sklearn.linear_model import LinearRegression\n",
        "from sklearn.ensemble import RandomForestRegressor\n",
        "from sklearn.linear_model import Ridge\n",
        "\n",
        "from math import pi,sqrt,exp,pow,log\n",
        "from numpy.linalg import det, inv\n",
        "from abc import ABCMeta, abstractmethod\n",
        "from sklearn import cluster\n",
        "\n",
        "import statsmodels.api as sm \n",
        "import scipy.stats as scs\n",
        "import scipy.optimize as sco\n",
        "import scipy.interpolate as sci\n",
        "from scipy import stats\n",
        "\n",
        "from sklearn.model_selection import train_test_split\n",
        "from sklearn.preprocessing import MinMaxScaler\n",
        "from sklearn.metrics import roc_curve, auc, mean_squared_error"
      ]
    },
    {
      "cell_type": "markdown",
      "metadata": {
        "id": "Li4Rosf9yaOU"
      },
      "source": [
        "# Level 0 - Second Model"
      ]
    },
    {
      "cell_type": "code",
      "execution_count": null,
      "metadata": {
        "colab": {
          "base_uri": "https://localhost:8080/",
          "height": 206
        },
        "id": "_kZo37XWl-j-",
        "outputId": "79413871-93e3-486b-fc15-49979eef2dbe"
      },
      "outputs": [
        {
          "output_type": "execute_result",
          "data": {
            "text/plain": [
              "          date  wsj_mean_compound  cnbc_mean_compound  fortune_mean_compound  \\\n",
              "116  2018/5/25           0.030290            0.047433               0.011550   \n",
              "117  2018/5/29          -0.052796            0.070442              -0.025721   \n",
              "118  2018/5/30          -0.017367            0.038119              -0.076965   \n",
              "119  2018/5/31          -0.018636            0.057371              -0.064138   \n",
              "120   2018/6/1           0.000000           -0.061150               0.361200   \n",
              "\n",
              "     reuters_mean_compound    Adj Close     CLI     BCI     CCI  \n",
              "116              -0.025190  2721.330078  0.7426  1.2187  1.5006  \n",
              "117              -0.035568  2689.860107  0.7426  1.2187  1.5006  \n",
              "118              -0.063177  2724.010010  0.7426  1.2187  1.5006  \n",
              "119              -0.025489  2705.270020  0.7426  1.2187  1.5006  \n",
              "120              -0.004489  2734.620117  0.7163  1.3308  1.4417  "
            ],
            "text/html": [
              "\n",
              "  <div id=\"df-ad9a5bbb-28a6-475d-99d4-c208b316d9ad\">\n",
              "    <div class=\"colab-df-container\">\n",
              "      <div>\n",
              "<style scoped>\n",
              "    .dataframe tbody tr th:only-of-type {\n",
              "        vertical-align: middle;\n",
              "    }\n",
              "\n",
              "    .dataframe tbody tr th {\n",
              "        vertical-align: top;\n",
              "    }\n",
              "\n",
              "    .dataframe thead th {\n",
              "        text-align: right;\n",
              "    }\n",
              "</style>\n",
              "<table border=\"1\" class=\"dataframe\">\n",
              "  <thead>\n",
              "    <tr style=\"text-align: right;\">\n",
              "      <th></th>\n",
              "      <th>date</th>\n",
              "      <th>wsj_mean_compound</th>\n",
              "      <th>cnbc_mean_compound</th>\n",
              "      <th>fortune_mean_compound</th>\n",
              "      <th>reuters_mean_compound</th>\n",
              "      <th>Adj Close</th>\n",
              "      <th>CLI</th>\n",
              "      <th>BCI</th>\n",
              "      <th>CCI</th>\n",
              "    </tr>\n",
              "  </thead>\n",
              "  <tbody>\n",
              "    <tr>\n",
              "      <th>116</th>\n",
              "      <td>2018/5/25</td>\n",
              "      <td>0.030290</td>\n",
              "      <td>0.047433</td>\n",
              "      <td>0.011550</td>\n",
              "      <td>-0.025190</td>\n",
              "      <td>2721.330078</td>\n",
              "      <td>0.7426</td>\n",
              "      <td>1.2187</td>\n",
              "      <td>1.5006</td>\n",
              "    </tr>\n",
              "    <tr>\n",
              "      <th>117</th>\n",
              "      <td>2018/5/29</td>\n",
              "      <td>-0.052796</td>\n",
              "      <td>0.070442</td>\n",
              "      <td>-0.025721</td>\n",
              "      <td>-0.035568</td>\n",
              "      <td>2689.860107</td>\n",
              "      <td>0.7426</td>\n",
              "      <td>1.2187</td>\n",
              "      <td>1.5006</td>\n",
              "    </tr>\n",
              "    <tr>\n",
              "      <th>118</th>\n",
              "      <td>2018/5/30</td>\n",
              "      <td>-0.017367</td>\n",
              "      <td>0.038119</td>\n",
              "      <td>-0.076965</td>\n",
              "      <td>-0.063177</td>\n",
              "      <td>2724.010010</td>\n",
              "      <td>0.7426</td>\n",
              "      <td>1.2187</td>\n",
              "      <td>1.5006</td>\n",
              "    </tr>\n",
              "    <tr>\n",
              "      <th>119</th>\n",
              "      <td>2018/5/31</td>\n",
              "      <td>-0.018636</td>\n",
              "      <td>0.057371</td>\n",
              "      <td>-0.064138</td>\n",
              "      <td>-0.025489</td>\n",
              "      <td>2705.270020</td>\n",
              "      <td>0.7426</td>\n",
              "      <td>1.2187</td>\n",
              "      <td>1.5006</td>\n",
              "    </tr>\n",
              "    <tr>\n",
              "      <th>120</th>\n",
              "      <td>2018/6/1</td>\n",
              "      <td>0.000000</td>\n",
              "      <td>-0.061150</td>\n",
              "      <td>0.361200</td>\n",
              "      <td>-0.004489</td>\n",
              "      <td>2734.620117</td>\n",
              "      <td>0.7163</td>\n",
              "      <td>1.3308</td>\n",
              "      <td>1.4417</td>\n",
              "    </tr>\n",
              "  </tbody>\n",
              "</table>\n",
              "</div>\n",
              "      <button class=\"colab-df-convert\" onclick=\"convertToInteractive('df-ad9a5bbb-28a6-475d-99d4-c208b316d9ad')\"\n",
              "              title=\"Convert this dataframe to an interactive table.\"\n",
              "              style=\"display:none;\">\n",
              "        \n",
              "  <svg xmlns=\"http://www.w3.org/2000/svg\" height=\"24px\"viewBox=\"0 0 24 24\"\n",
              "       width=\"24px\">\n",
              "    <path d=\"M0 0h24v24H0V0z\" fill=\"none\"/>\n",
              "    <path d=\"M18.56 5.44l.94 2.06.94-2.06 2.06-.94-2.06-.94-.94-2.06-.94 2.06-2.06.94zm-11 1L8.5 8.5l.94-2.06 2.06-.94-2.06-.94L8.5 2.5l-.94 2.06-2.06.94zm10 10l.94 2.06.94-2.06 2.06-.94-2.06-.94-.94-2.06-.94 2.06-2.06.94z\"/><path d=\"M17.41 7.96l-1.37-1.37c-.4-.4-.92-.59-1.43-.59-.52 0-1.04.2-1.43.59L10.3 9.45l-7.72 7.72c-.78.78-.78 2.05 0 2.83L4 21.41c.39.39.9.59 1.41.59.51 0 1.02-.2 1.41-.59l7.78-7.78 2.81-2.81c.8-.78.8-2.07 0-2.86zM5.41 20L4 18.59l7.72-7.72 1.47 1.35L5.41 20z\"/>\n",
              "  </svg>\n",
              "      </button>\n",
              "      \n",
              "  <style>\n",
              "    .colab-df-container {\n",
              "      display:flex;\n",
              "      flex-wrap:wrap;\n",
              "      gap: 12px;\n",
              "    }\n",
              "\n",
              "    .colab-df-convert {\n",
              "      background-color: #E8F0FE;\n",
              "      border: none;\n",
              "      border-radius: 50%;\n",
              "      cursor: pointer;\n",
              "      display: none;\n",
              "      fill: #1967D2;\n",
              "      height: 32px;\n",
              "      padding: 0 0 0 0;\n",
              "      width: 32px;\n",
              "    }\n",
              "\n",
              "    .colab-df-convert:hover {\n",
              "      background-color: #E2EBFA;\n",
              "      box-shadow: 0px 1px 2px rgba(60, 64, 67, 0.3), 0px 1px 3px 1px rgba(60, 64, 67, 0.15);\n",
              "      fill: #174EA6;\n",
              "    }\n",
              "\n",
              "    [theme=dark] .colab-df-convert {\n",
              "      background-color: #3B4455;\n",
              "      fill: #D2E3FC;\n",
              "    }\n",
              "\n",
              "    [theme=dark] .colab-df-convert:hover {\n",
              "      background-color: #434B5C;\n",
              "      box-shadow: 0px 1px 3px 1px rgba(0, 0, 0, 0.15);\n",
              "      filter: drop-shadow(0px 1px 2px rgba(0, 0, 0, 0.3));\n",
              "      fill: #FFFFFF;\n",
              "    }\n",
              "  </style>\n",
              "\n",
              "      <script>\n",
              "        const buttonEl =\n",
              "          document.querySelector('#df-ad9a5bbb-28a6-475d-99d4-c208b316d9ad button.colab-df-convert');\n",
              "        buttonEl.style.display =\n",
              "          google.colab.kernel.accessAllowed ? 'block' : 'none';\n",
              "\n",
              "        async function convertToInteractive(key) {\n",
              "          const element = document.querySelector('#df-ad9a5bbb-28a6-475d-99d4-c208b316d9ad');\n",
              "          const dataTable =\n",
              "            await google.colab.kernel.invokeFunction('convertToInteractive',\n",
              "                                                     [key], {});\n",
              "          if (!dataTable) return;\n",
              "\n",
              "          const docLinkHtml = 'Like what you see? Visit the ' +\n",
              "            '<a target=\"_blank\" href=https://colab.research.google.com/notebooks/data_table.ipynb>data table notebook</a>'\n",
              "            + ' to learn more about interactive tables.';\n",
              "          element.innerHTML = '';\n",
              "          dataTable['output_type'] = 'display_data';\n",
              "          await google.colab.output.renderOutput(dataTable, element);\n",
              "          const docLink = document.createElement('div');\n",
              "          docLink.innerHTML = docLinkHtml;\n",
              "          element.appendChild(docLink);\n",
              "        }\n",
              "      </script>\n",
              "    </div>\n",
              "  </div>\n",
              "  "
            ]
          },
          "metadata": {},
          "execution_count": 4
        }
      ],
      "source": [
        "# read data - local and colab\n",
        "# df1 = pd.read_csv(\"/Users/nathanli/masterProject/env/data/DP-LSTM_DATA/source_price.csv\")\n",
        "url = './data/source_price_sentiment_oecd.csv'\n",
        "df2= pd.read_csv(url)\n",
        "df2.tail()"
      ]
    },
    {
      "cell_type": "code",
      "execution_count": null,
      "metadata": {
        "colab": {
          "base_uri": "https://localhost:8080/",
          "height": 455
        },
        "id": "dCX0Tbuzl-eU",
        "outputId": "9ddd4b51-b89e-4712-f329-c74cd88835be"
      },
      "outputs": [
        {
          "output_type": "execute_result",
          "data": {
            "text/plain": [
              "            wsj_mean_compound  cnbc_mean_compound  fortune_mean_compound  \\\n",
              "date                                                                       \n",
              "2017/12/7            0.296000           -0.136600               0.000000   \n",
              "2017/12/8            0.000000            0.000000              -0.242300   \n",
              "2017/12/11           0.000000            0.000000               0.000000   \n",
              "2017/12/12           0.000000            0.000000               0.000000   \n",
              "2017/12/13           0.000000            0.000000               0.000000   \n",
              "...                       ...                 ...                    ...   \n",
              "2018/5/25            0.030290            0.047433               0.011550   \n",
              "2018/5/29           -0.052796            0.070442              -0.025721   \n",
              "2018/5/30           -0.017367            0.038119              -0.076965   \n",
              "2018/5/31           -0.018636            0.057371              -0.064138   \n",
              "2018/6/1             0.000000           -0.061150               0.361200   \n",
              "\n",
              "            reuters_mean_compound    Adj Close     CLI     BCI     CCI  \n",
              "date                                                                    \n",
              "2017/12/7                0.000000  2636.979980  0.4484  1.3452  1.3407  \n",
              "2017/12/8                0.000000  2651.500000  0.4484  1.3452  1.3407  \n",
              "2017/12/11               0.000000  2659.989990  0.4484  1.3452  1.3407  \n",
              "2017/12/12               0.000000  2664.110107  0.4484  1.3452  1.3407  \n",
              "2017/12/13               0.000000  2662.850098  0.4484  1.3452  1.3407  \n",
              "...                           ...          ...     ...     ...     ...  \n",
              "2018/5/25               -0.025190  2721.330078  0.7426  1.2187  1.5006  \n",
              "2018/5/29               -0.035568  2689.860107  0.7426  1.2187  1.5006  \n",
              "2018/5/30               -0.063177  2724.010010  0.7426  1.2187  1.5006  \n",
              "2018/5/31               -0.025489  2705.270020  0.7426  1.2187  1.5006  \n",
              "2018/6/1                -0.004489  2734.620117  0.7163  1.3308  1.4417  \n",
              "\n",
              "[121 rows x 8 columns]"
            ],
            "text/html": [
              "\n",
              "  <div id=\"df-bca4c9db-d282-41b9-a9ae-fbe5e6589463\">\n",
              "    <div class=\"colab-df-container\">\n",
              "      <div>\n",
              "<style scoped>\n",
              "    .dataframe tbody tr th:only-of-type {\n",
              "        vertical-align: middle;\n",
              "    }\n",
              "\n",
              "    .dataframe tbody tr th {\n",
              "        vertical-align: top;\n",
              "    }\n",
              "\n",
              "    .dataframe thead th {\n",
              "        text-align: right;\n",
              "    }\n",
              "</style>\n",
              "<table border=\"1\" class=\"dataframe\">\n",
              "  <thead>\n",
              "    <tr style=\"text-align: right;\">\n",
              "      <th></th>\n",
              "      <th>wsj_mean_compound</th>\n",
              "      <th>cnbc_mean_compound</th>\n",
              "      <th>fortune_mean_compound</th>\n",
              "      <th>reuters_mean_compound</th>\n",
              "      <th>Adj Close</th>\n",
              "      <th>CLI</th>\n",
              "      <th>BCI</th>\n",
              "      <th>CCI</th>\n",
              "    </tr>\n",
              "    <tr>\n",
              "      <th>date</th>\n",
              "      <th></th>\n",
              "      <th></th>\n",
              "      <th></th>\n",
              "      <th></th>\n",
              "      <th></th>\n",
              "      <th></th>\n",
              "      <th></th>\n",
              "      <th></th>\n",
              "    </tr>\n",
              "  </thead>\n",
              "  <tbody>\n",
              "    <tr>\n",
              "      <th>2017/12/7</th>\n",
              "      <td>0.296000</td>\n",
              "      <td>-0.136600</td>\n",
              "      <td>0.000000</td>\n",
              "      <td>0.000000</td>\n",
              "      <td>2636.979980</td>\n",
              "      <td>0.4484</td>\n",
              "      <td>1.3452</td>\n",
              "      <td>1.3407</td>\n",
              "    </tr>\n",
              "    <tr>\n",
              "      <th>2017/12/8</th>\n",
              "      <td>0.000000</td>\n",
              "      <td>0.000000</td>\n",
              "      <td>-0.242300</td>\n",
              "      <td>0.000000</td>\n",
              "      <td>2651.500000</td>\n",
              "      <td>0.4484</td>\n",
              "      <td>1.3452</td>\n",
              "      <td>1.3407</td>\n",
              "    </tr>\n",
              "    <tr>\n",
              "      <th>2017/12/11</th>\n",
              "      <td>0.000000</td>\n",
              "      <td>0.000000</td>\n",
              "      <td>0.000000</td>\n",
              "      <td>0.000000</td>\n",
              "      <td>2659.989990</td>\n",
              "      <td>0.4484</td>\n",
              "      <td>1.3452</td>\n",
              "      <td>1.3407</td>\n",
              "    </tr>\n",
              "    <tr>\n",
              "      <th>2017/12/12</th>\n",
              "      <td>0.000000</td>\n",
              "      <td>0.000000</td>\n",
              "      <td>0.000000</td>\n",
              "      <td>0.000000</td>\n",
              "      <td>2664.110107</td>\n",
              "      <td>0.4484</td>\n",
              "      <td>1.3452</td>\n",
              "      <td>1.3407</td>\n",
              "    </tr>\n",
              "    <tr>\n",
              "      <th>2017/12/13</th>\n",
              "      <td>0.000000</td>\n",
              "      <td>0.000000</td>\n",
              "      <td>0.000000</td>\n",
              "      <td>0.000000</td>\n",
              "      <td>2662.850098</td>\n",
              "      <td>0.4484</td>\n",
              "      <td>1.3452</td>\n",
              "      <td>1.3407</td>\n",
              "    </tr>\n",
              "    <tr>\n",
              "      <th>...</th>\n",
              "      <td>...</td>\n",
              "      <td>...</td>\n",
              "      <td>...</td>\n",
              "      <td>...</td>\n",
              "      <td>...</td>\n",
              "      <td>...</td>\n",
              "      <td>...</td>\n",
              "      <td>...</td>\n",
              "    </tr>\n",
              "    <tr>\n",
              "      <th>2018/5/25</th>\n",
              "      <td>0.030290</td>\n",
              "      <td>0.047433</td>\n",
              "      <td>0.011550</td>\n",
              "      <td>-0.025190</td>\n",
              "      <td>2721.330078</td>\n",
              "      <td>0.7426</td>\n",
              "      <td>1.2187</td>\n",
              "      <td>1.5006</td>\n",
              "    </tr>\n",
              "    <tr>\n",
              "      <th>2018/5/29</th>\n",
              "      <td>-0.052796</td>\n",
              "      <td>0.070442</td>\n",
              "      <td>-0.025721</td>\n",
              "      <td>-0.035568</td>\n",
              "      <td>2689.860107</td>\n",
              "      <td>0.7426</td>\n",
              "      <td>1.2187</td>\n",
              "      <td>1.5006</td>\n",
              "    </tr>\n",
              "    <tr>\n",
              "      <th>2018/5/30</th>\n",
              "      <td>-0.017367</td>\n",
              "      <td>0.038119</td>\n",
              "      <td>-0.076965</td>\n",
              "      <td>-0.063177</td>\n",
              "      <td>2724.010010</td>\n",
              "      <td>0.7426</td>\n",
              "      <td>1.2187</td>\n",
              "      <td>1.5006</td>\n",
              "    </tr>\n",
              "    <tr>\n",
              "      <th>2018/5/31</th>\n",
              "      <td>-0.018636</td>\n",
              "      <td>0.057371</td>\n",
              "      <td>-0.064138</td>\n",
              "      <td>-0.025489</td>\n",
              "      <td>2705.270020</td>\n",
              "      <td>0.7426</td>\n",
              "      <td>1.2187</td>\n",
              "      <td>1.5006</td>\n",
              "    </tr>\n",
              "    <tr>\n",
              "      <th>2018/6/1</th>\n",
              "      <td>0.000000</td>\n",
              "      <td>-0.061150</td>\n",
              "      <td>0.361200</td>\n",
              "      <td>-0.004489</td>\n",
              "      <td>2734.620117</td>\n",
              "      <td>0.7163</td>\n",
              "      <td>1.3308</td>\n",
              "      <td>1.4417</td>\n",
              "    </tr>\n",
              "  </tbody>\n",
              "</table>\n",
              "<p>121 rows × 8 columns</p>\n",
              "</div>\n",
              "      <button class=\"colab-df-convert\" onclick=\"convertToInteractive('df-bca4c9db-d282-41b9-a9ae-fbe5e6589463')\"\n",
              "              title=\"Convert this dataframe to an interactive table.\"\n",
              "              style=\"display:none;\">\n",
              "        \n",
              "  <svg xmlns=\"http://www.w3.org/2000/svg\" height=\"24px\"viewBox=\"0 0 24 24\"\n",
              "       width=\"24px\">\n",
              "    <path d=\"M0 0h24v24H0V0z\" fill=\"none\"/>\n",
              "    <path d=\"M18.56 5.44l.94 2.06.94-2.06 2.06-.94-2.06-.94-.94-2.06-.94 2.06-2.06.94zm-11 1L8.5 8.5l.94-2.06 2.06-.94-2.06-.94L8.5 2.5l-.94 2.06-2.06.94zm10 10l.94 2.06.94-2.06 2.06-.94-2.06-.94-.94-2.06-.94 2.06-2.06.94z\"/><path d=\"M17.41 7.96l-1.37-1.37c-.4-.4-.92-.59-1.43-.59-.52 0-1.04.2-1.43.59L10.3 9.45l-7.72 7.72c-.78.78-.78 2.05 0 2.83L4 21.41c.39.39.9.59 1.41.59.51 0 1.02-.2 1.41-.59l7.78-7.78 2.81-2.81c.8-.78.8-2.07 0-2.86zM5.41 20L4 18.59l7.72-7.72 1.47 1.35L5.41 20z\"/>\n",
              "  </svg>\n",
              "      </button>\n",
              "      \n",
              "  <style>\n",
              "    .colab-df-container {\n",
              "      display:flex;\n",
              "      flex-wrap:wrap;\n",
              "      gap: 12px;\n",
              "    }\n",
              "\n",
              "    .colab-df-convert {\n",
              "      background-color: #E8F0FE;\n",
              "      border: none;\n",
              "      border-radius: 50%;\n",
              "      cursor: pointer;\n",
              "      display: none;\n",
              "      fill: #1967D2;\n",
              "      height: 32px;\n",
              "      padding: 0 0 0 0;\n",
              "      width: 32px;\n",
              "    }\n",
              "\n",
              "    .colab-df-convert:hover {\n",
              "      background-color: #E2EBFA;\n",
              "      box-shadow: 0px 1px 2px rgba(60, 64, 67, 0.3), 0px 1px 3px 1px rgba(60, 64, 67, 0.15);\n",
              "      fill: #174EA6;\n",
              "    }\n",
              "\n",
              "    [theme=dark] .colab-df-convert {\n",
              "      background-color: #3B4455;\n",
              "      fill: #D2E3FC;\n",
              "    }\n",
              "\n",
              "    [theme=dark] .colab-df-convert:hover {\n",
              "      background-color: #434B5C;\n",
              "      box-shadow: 0px 1px 3px 1px rgba(0, 0, 0, 0.15);\n",
              "      filter: drop-shadow(0px 1px 2px rgba(0, 0, 0, 0.3));\n",
              "      fill: #FFFFFF;\n",
              "    }\n",
              "  </style>\n",
              "\n",
              "      <script>\n",
              "        const buttonEl =\n",
              "          document.querySelector('#df-bca4c9db-d282-41b9-a9ae-fbe5e6589463 button.colab-df-convert');\n",
              "        buttonEl.style.display =\n",
              "          google.colab.kernel.accessAllowed ? 'block' : 'none';\n",
              "\n",
              "        async function convertToInteractive(key) {\n",
              "          const element = document.querySelector('#df-bca4c9db-d282-41b9-a9ae-fbe5e6589463');\n",
              "          const dataTable =\n",
              "            await google.colab.kernel.invokeFunction('convertToInteractive',\n",
              "                                                     [key], {});\n",
              "          if (!dataTable) return;\n",
              "\n",
              "          const docLinkHtml = 'Like what you see? Visit the ' +\n",
              "            '<a target=\"_blank\" href=https://colab.research.google.com/notebooks/data_table.ipynb>data table notebook</a>'\n",
              "            + ' to learn more about interactive tables.';\n",
              "          element.innerHTML = '';\n",
              "          dataTable['output_type'] = 'display_data';\n",
              "          await google.colab.output.renderOutput(dataTable, element);\n",
              "          const docLink = document.createElement('div');\n",
              "          docLink.innerHTML = docLinkHtml;\n",
              "          element.appendChild(docLink);\n",
              "        }\n",
              "      </script>\n",
              "    </div>\n",
              "  </div>\n",
              "  "
            ]
          },
          "metadata": {},
          "execution_count": 5
        }
      ],
      "source": [
        "# set index to date\n",
        "df2.index = df2.date\n",
        "df2.drop('date', axis=1, inplace=True)\n",
        "df2"
      ]
    },
    {
      "cell_type": "code",
      "execution_count": null,
      "metadata": {
        "colab": {
          "base_uri": "https://localhost:8080/"
        },
        "id": "MVnJG5oEl-ZM",
        "outputId": "e503b27b-fc70-418d-8186-adda35da17d6"
      },
      "outputs": [
        {
          "output_type": "execute_result",
          "data": {
            "text/plain": [
              "array([2636.97998 , 2651.5     , 2659.98999 , 2664.110107, 2662.850098,\n",
              "       2652.01001 , 2675.810059, 2690.159912, 2681.469971, 2679.25    ,\n",
              "       2684.570068, 2683.340088, 2680.5     , 2682.620117, 2687.540039,\n",
              "       2673.610107, 2695.810059, 2713.060059, 2723.98999 , 2743.149902,\n",
              "       2747.709961, 2751.290039, 2748.22998 , 2767.560059, 2786.23999 ,\n",
              "       2776.419922, 2802.560059, 2798.030029, 2810.300049, 2832.969971,\n",
              "       2839.129883, 2837.540039, 2839.25    , 2872.870117, 2853.530029,\n",
              "       2822.429932, 2823.810059, 2821.97998 , 2762.129883, 2648.939941,\n",
              "       2695.139893, 2681.659912, 2581.      , 2619.550049, 2656.      ,\n",
              "       2662.939941, 2698.629883, 2731.199951, 2732.219971, 2716.26001 ,\n",
              "       2701.330078, 2703.959961, 2747.300049, 2779.600098, 2744.280029,\n",
              "       2713.830078, 2677.669922, 2691.25    , 2720.939941, 2728.120117,\n",
              "       2726.800049, 2738.969971, 2786.570068, 2783.02002 , 2765.310059,\n",
              "       2749.47998 , 2747.330078, 2752.01001 , 2712.919922, 2716.939941,\n",
              "       2711.929932, 2643.689941, 2588.26001 , 2658.550049, 2612.620117,\n",
              "       2605.      , 2640.870117, 2581.879883, 2614.449951, 2644.689941,\n",
              "       2662.840088, 2604.469971, 2613.159912, 2656.870117, 2642.189941,\n",
              "       2663.98999 , 2656.300049, 2677.840088, 2706.389893, 2708.639893,\n",
              "       2693.129883, 2670.139893, 2670.290039, 2634.560059, 2639.399902,\n",
              "       2666.939941, 2669.909912, 2648.050049, 2654.800049, 2635.669922,\n",
              "       2629.72998 , 2663.419922, 2672.629883, 2671.919922, 2697.790039,\n",
              "       2723.070068, 2727.719971, 2730.129883, 2711.449951, 2722.459961,\n",
              "       2720.129883, 2712.969971, 2733.01001 , 2724.439941, 2733.290039,\n",
              "       2727.76001 , 2721.330078, 2689.860107, 2724.01001 , 2705.27002 ,\n",
              "       2734.620117])"
            ]
          },
          "metadata": {},
          "execution_count": 6
        }
      ],
      "source": [
        "adjust_close=df2['Adj Close'].values\n",
        "CLI=df2['CLI'].values\n",
        "BCI=df2['BCI'].values\n",
        "CCI=df2['CCI'].values\n",
        "adjust_close"
      ]
    },
    {
      "cell_type": "code",
      "execution_count": null,
      "metadata": {
        "id": "b1jm2L7Ll-UX"
      },
      "outputs": [],
      "source": [
        "# nomalize adjust close stock price\n",
        "scaler = MinMaxScaler()\n",
        "scaled_adjust_close=scaler.fit_transform(adjust_close.reshape(-1,1))"
      ]
    },
    {
      "cell_type": "code",
      "execution_count": null,
      "metadata": {
        "colab": {
          "base_uri": "https://localhost:8080/"
        },
        "id": "_-A0RHdel-Sj",
        "outputId": "1f555314-ba04-4d0b-ae0f-a62e6b1af5b4"
      },
      "outputs": [
        {
          "output_type": "execute_result",
          "data": {
            "text/plain": [
              "array([[0.19179757],\n",
              "       [0.2415458 ],\n",
              "       [0.27063404],\n",
              "       [0.28475031],\n",
              "       [0.28043329],\n",
              "       [0.24329318],\n",
              "       [0.32483647],\n",
              "       [0.37400167],\n",
              "       [0.34422836],\n",
              "       [0.33662233],\n",
              "       [0.35484985],\n",
              "       [0.35063572],\n",
              "       [0.34090506],\n",
              "       [0.34816897],\n",
              "       [0.36502551],\n",
              "       [0.31729904],\n",
              "       [0.3933601 ],\n",
              "       [0.45246173],\n",
              "       [0.48990966],\n",
              "       [0.555555  ],\n",
              "       [0.57117859],\n",
              "       [0.58344458],\n",
              "       [0.57296027],\n",
              "       [0.63918863],\n",
              "       [0.70318946],\n",
              "       [0.66954412],\n",
              "       [0.75910498],\n",
              "       [0.74358427],\n",
              "       [0.78562359],\n",
              "       [0.86329486],\n",
              "       [0.88439983],\n",
              "       [0.87895274],\n",
              "       [0.88481138],\n",
              "       [1.        ],\n",
              "       [0.93373735],\n",
              "       [0.82718277],\n",
              "       [0.83191134],\n",
              "       [0.82564115],\n",
              "       [0.62058386],\n",
              "       [0.23277457],\n",
              "       [0.39106399],\n",
              "       [0.34487913],\n",
              "       [0.        ],\n",
              "       [0.13207947],\n",
              "       [0.25696361],\n",
              "       [0.28074111],\n",
              "       [0.40302133],\n",
              "       [0.5146123 ],\n",
              "       [0.51810707],\n",
              "       [0.46342535],\n",
              "       [0.41227269],\n",
              "       [0.42128315],\n",
              "       [0.56977415],\n",
              "       [0.68043998],\n",
              "       [0.55942702],\n",
              "       [0.45509996],\n",
              "       [0.3312087 ],\n",
              "       [0.37773651],\n",
              "       [0.47945964],\n",
              "       [0.50406023],\n",
              "       [0.49953743],\n",
              "       [0.54123379],\n",
              "       [0.70432037],\n",
              "       [0.69215726],\n",
              "       [0.63147972],\n",
              "       [0.57724299],\n",
              "       [0.56987704],\n",
              "       [0.58591134],\n",
              "       [0.4519816 ],\n",
              "       [0.46575491],\n",
              "       [0.44858971],\n",
              "       [0.21478712],\n",
              "       [0.02487411],\n",
              "       [0.26570054],\n",
              "       [0.10833626],\n",
              "       [0.08222836],\n",
              "       [0.20512589],\n",
              "       [0.00301464],\n",
              "       [0.1146056 ],\n",
              "       [0.2182133 ],\n",
              "       [0.280399  ],\n",
              "       [0.08041238],\n",
              "       [0.1101857 ],\n",
              "       [0.25994479],\n",
              "       [0.20964784],\n",
              "       [0.28433877],\n",
              "       [0.25799164],\n",
              "       [0.33179172],\n",
              "       [0.42960853],\n",
              "       [0.43731744],\n",
              "       [0.38417733],\n",
              "       [0.30540945],\n",
              "       [0.30592388],\n",
              "       [0.18350648],\n",
              "       [0.20008866],\n",
              "       [0.29444584],\n",
              "       [0.3046215 ],\n",
              "       [0.22972564],\n",
              "       [0.25285236],\n",
              "       [0.18730908],\n",
              "       [0.16695776],\n",
              "       [0.28238561],\n",
              "       [0.31394061],\n",
              "       [0.31150816],\n",
              "       [0.40014387],\n",
              "       [0.48675784],\n",
              "       [0.50268925],\n",
              "       [0.51094605],\n",
              "       [0.44694521],\n",
              "       [0.4846675 ],\n",
              "       [0.47668423],\n",
              "       [0.45215308],\n",
              "       [0.52081389],\n",
              "       [0.49145127],\n",
              "       [0.52177332],\n",
              "       [0.50282643],\n",
              "       [0.48079632],\n",
              "       [0.37297449],\n",
              "       [0.48997825],\n",
              "       [0.42577165],\n",
              "       [0.52633041]])"
            ]
          },
          "metadata": {},
          "execution_count": 8
        }
      ],
      "source": [
        "# check if adjust close is scaled\n",
        "scaled_adjust_close"
      ]
    },
    {
      "cell_type": "code",
      "execution_count": null,
      "metadata": {
        "colab": {
          "base_uri": "https://localhost:8080/",
          "height": 238
        },
        "id": "VoRN3OYkl-MI",
        "outputId": "0d18895d-cfd5-4ae9-995f-d5b1010cb061"
      },
      "outputs": [
        {
          "output_type": "execute_result",
          "data": {
            "text/plain": [
              "           wsj_mean_compound  cnbc_mean_compound  fortune_mean_compound  \\\n",
              "date                                                                      \n",
              "2018/5/25           0.030290            0.047433               0.011550   \n",
              "2018/5/29          -0.052796            0.070442              -0.025721   \n",
              "2018/5/30          -0.017367            0.038119              -0.076965   \n",
              "2018/5/31          -0.018636            0.057371              -0.064138   \n",
              "2018/6/1            0.000000           -0.061150               0.361200   \n",
              "\n",
              "           reuters_mean_compound     CLI     BCI     CCI  scaled_adj_close  \n",
              "date                                                                        \n",
              "2018/5/25              -0.025190  0.7426  1.2187  1.5006          0.480796  \n",
              "2018/5/29              -0.035568  0.7426  1.2187  1.5006          0.372974  \n",
              "2018/5/30              -0.063177  0.7426  1.2187  1.5006          0.489978  \n",
              "2018/5/31              -0.025489  0.7426  1.2187  1.5006          0.425772  \n",
              "2018/6/1               -0.004489  0.7163  1.3308  1.4417          0.526330  "
            ],
            "text/html": [
              "\n",
              "  <div id=\"df-0d0eaefe-02e9-4960-b4b8-e7570074b960\">\n",
              "    <div class=\"colab-df-container\">\n",
              "      <div>\n",
              "<style scoped>\n",
              "    .dataframe tbody tr th:only-of-type {\n",
              "        vertical-align: middle;\n",
              "    }\n",
              "\n",
              "    .dataframe tbody tr th {\n",
              "        vertical-align: top;\n",
              "    }\n",
              "\n",
              "    .dataframe thead th {\n",
              "        text-align: right;\n",
              "    }\n",
              "</style>\n",
              "<table border=\"1\" class=\"dataframe\">\n",
              "  <thead>\n",
              "    <tr style=\"text-align: right;\">\n",
              "      <th></th>\n",
              "      <th>wsj_mean_compound</th>\n",
              "      <th>cnbc_mean_compound</th>\n",
              "      <th>fortune_mean_compound</th>\n",
              "      <th>reuters_mean_compound</th>\n",
              "      <th>CLI</th>\n",
              "      <th>BCI</th>\n",
              "      <th>CCI</th>\n",
              "      <th>scaled_adj_close</th>\n",
              "    </tr>\n",
              "    <tr>\n",
              "      <th>date</th>\n",
              "      <th></th>\n",
              "      <th></th>\n",
              "      <th></th>\n",
              "      <th></th>\n",
              "      <th></th>\n",
              "      <th></th>\n",
              "      <th></th>\n",
              "      <th></th>\n",
              "    </tr>\n",
              "  </thead>\n",
              "  <tbody>\n",
              "    <tr>\n",
              "      <th>2018/5/25</th>\n",
              "      <td>0.030290</td>\n",
              "      <td>0.047433</td>\n",
              "      <td>0.011550</td>\n",
              "      <td>-0.025190</td>\n",
              "      <td>0.7426</td>\n",
              "      <td>1.2187</td>\n",
              "      <td>1.5006</td>\n",
              "      <td>0.480796</td>\n",
              "    </tr>\n",
              "    <tr>\n",
              "      <th>2018/5/29</th>\n",
              "      <td>-0.052796</td>\n",
              "      <td>0.070442</td>\n",
              "      <td>-0.025721</td>\n",
              "      <td>-0.035568</td>\n",
              "      <td>0.7426</td>\n",
              "      <td>1.2187</td>\n",
              "      <td>1.5006</td>\n",
              "      <td>0.372974</td>\n",
              "    </tr>\n",
              "    <tr>\n",
              "      <th>2018/5/30</th>\n",
              "      <td>-0.017367</td>\n",
              "      <td>0.038119</td>\n",
              "      <td>-0.076965</td>\n",
              "      <td>-0.063177</td>\n",
              "      <td>0.7426</td>\n",
              "      <td>1.2187</td>\n",
              "      <td>1.5006</td>\n",
              "      <td>0.489978</td>\n",
              "    </tr>\n",
              "    <tr>\n",
              "      <th>2018/5/31</th>\n",
              "      <td>-0.018636</td>\n",
              "      <td>0.057371</td>\n",
              "      <td>-0.064138</td>\n",
              "      <td>-0.025489</td>\n",
              "      <td>0.7426</td>\n",
              "      <td>1.2187</td>\n",
              "      <td>1.5006</td>\n",
              "      <td>0.425772</td>\n",
              "    </tr>\n",
              "    <tr>\n",
              "      <th>2018/6/1</th>\n",
              "      <td>0.000000</td>\n",
              "      <td>-0.061150</td>\n",
              "      <td>0.361200</td>\n",
              "      <td>-0.004489</td>\n",
              "      <td>0.7163</td>\n",
              "      <td>1.3308</td>\n",
              "      <td>1.4417</td>\n",
              "      <td>0.526330</td>\n",
              "    </tr>\n",
              "  </tbody>\n",
              "</table>\n",
              "</div>\n",
              "      <button class=\"colab-df-convert\" onclick=\"convertToInteractive('df-0d0eaefe-02e9-4960-b4b8-e7570074b960')\"\n",
              "              title=\"Convert this dataframe to an interactive table.\"\n",
              "              style=\"display:none;\">\n",
              "        \n",
              "  <svg xmlns=\"http://www.w3.org/2000/svg\" height=\"24px\"viewBox=\"0 0 24 24\"\n",
              "       width=\"24px\">\n",
              "    <path d=\"M0 0h24v24H0V0z\" fill=\"none\"/>\n",
              "    <path d=\"M18.56 5.44l.94 2.06.94-2.06 2.06-.94-2.06-.94-.94-2.06-.94 2.06-2.06.94zm-11 1L8.5 8.5l.94-2.06 2.06-.94-2.06-.94L8.5 2.5l-.94 2.06-2.06.94zm10 10l.94 2.06.94-2.06 2.06-.94-2.06-.94-.94-2.06-.94 2.06-2.06.94z\"/><path d=\"M17.41 7.96l-1.37-1.37c-.4-.4-.92-.59-1.43-.59-.52 0-1.04.2-1.43.59L10.3 9.45l-7.72 7.72c-.78.78-.78 2.05 0 2.83L4 21.41c.39.39.9.59 1.41.59.51 0 1.02-.2 1.41-.59l7.78-7.78 2.81-2.81c.8-.78.8-2.07 0-2.86zM5.41 20L4 18.59l7.72-7.72 1.47 1.35L5.41 20z\"/>\n",
              "  </svg>\n",
              "      </button>\n",
              "      \n",
              "  <style>\n",
              "    .colab-df-container {\n",
              "      display:flex;\n",
              "      flex-wrap:wrap;\n",
              "      gap: 12px;\n",
              "    }\n",
              "\n",
              "    .colab-df-convert {\n",
              "      background-color: #E8F0FE;\n",
              "      border: none;\n",
              "      border-radius: 50%;\n",
              "      cursor: pointer;\n",
              "      display: none;\n",
              "      fill: #1967D2;\n",
              "      height: 32px;\n",
              "      padding: 0 0 0 0;\n",
              "      width: 32px;\n",
              "    }\n",
              "\n",
              "    .colab-df-convert:hover {\n",
              "      background-color: #E2EBFA;\n",
              "      box-shadow: 0px 1px 2px rgba(60, 64, 67, 0.3), 0px 1px 3px 1px rgba(60, 64, 67, 0.15);\n",
              "      fill: #174EA6;\n",
              "    }\n",
              "\n",
              "    [theme=dark] .colab-df-convert {\n",
              "      background-color: #3B4455;\n",
              "      fill: #D2E3FC;\n",
              "    }\n",
              "\n",
              "    [theme=dark] .colab-df-convert:hover {\n",
              "      background-color: #434B5C;\n",
              "      box-shadow: 0px 1px 3px 1px rgba(0, 0, 0, 0.15);\n",
              "      filter: drop-shadow(0px 1px 2px rgba(0, 0, 0, 0.3));\n",
              "      fill: #FFFFFF;\n",
              "    }\n",
              "  </style>\n",
              "\n",
              "      <script>\n",
              "        const buttonEl =\n",
              "          document.querySelector('#df-0d0eaefe-02e9-4960-b4b8-e7570074b960 button.colab-df-convert');\n",
              "        buttonEl.style.display =\n",
              "          google.colab.kernel.accessAllowed ? 'block' : 'none';\n",
              "\n",
              "        async function convertToInteractive(key) {\n",
              "          const element = document.querySelector('#df-0d0eaefe-02e9-4960-b4b8-e7570074b960');\n",
              "          const dataTable =\n",
              "            await google.colab.kernel.invokeFunction('convertToInteractive',\n",
              "                                                     [key], {});\n",
              "          if (!dataTable) return;\n",
              "\n",
              "          const docLinkHtml = 'Like what you see? Visit the ' +\n",
              "            '<a target=\"_blank\" href=https://colab.research.google.com/notebooks/data_table.ipynb>data table notebook</a>'\n",
              "            + ' to learn more about interactive tables.';\n",
              "          element.innerHTML = '';\n",
              "          dataTable['output_type'] = 'display_data';\n",
              "          await google.colab.output.renderOutput(dataTable, element);\n",
              "          const docLink = document.createElement('div');\n",
              "          docLink.innerHTML = docLinkHtml;\n",
              "          element.appendChild(docLink);\n",
              "        }\n",
              "      </script>\n",
              "    </div>\n",
              "  </div>\n",
              "  "
            ]
          },
          "metadata": {},
          "execution_count": 9
        }
      ],
      "source": [
        "new_data=df2.drop(['Adj Close'],axis=1)\n",
        "\n",
        "new_data['scaled_adj_close'] = scaled_adjust_close\n",
        "\n",
        "new_data.tail()"
      ]
    },
    {
      "cell_type": "code",
      "execution_count": null,
      "metadata": {
        "colab": {
          "base_uri": "https://localhost:8080/"
        },
        "id": "JO_UuyrIl-Jc",
        "outputId": "327b3435-2082-462f-f4fe-2d2d2d0e1c97"
      },
      "outputs": [
        {
          "output_type": "execute_result",
          "data": {
            "text/plain": [
              "wsj_mean_compound        float64\n",
              "cnbc_mean_compound       float64\n",
              "fortune_mean_compound    float64\n",
              "reuters_mean_compound    float64\n",
              "CLI                      float64\n",
              "BCI                      float64\n",
              "CCI                      float64\n",
              "scaled_adj_close         float64\n",
              "dtype: object"
            ]
          },
          "metadata": {},
          "execution_count": 10
        }
      ],
      "source": [
        "new_data.dtypes"
      ]
    },
    {
      "cell_type": "code",
      "execution_count": null,
      "metadata": {
        "colab": {
          "base_uri": "https://localhost:8080/"
        },
        "id": "7xEh2WY1y_7j",
        "outputId": "86ebf589-abf7-4098-be94-ad29641db3e8"
      },
      "outputs": [
        {
          "output_type": "execute_result",
          "data": {
            "text/plain": [
              "(121, 8)"
            ]
          },
          "metadata": {},
          "execution_count": 11
        }
      ],
      "source": [
        "new_data.shape"
      ]
    },
    {
      "cell_type": "code",
      "execution_count": null,
      "metadata": {
        "id": "8kf1DwDPzADP"
      },
      "outputs": [],
      "source": [
        "# split data into train and test\n",
        "# train 85% and test 15%\n",
        "train_validation_data, test_data= train_test_split(new_data, train_size=0.85, test_size=0.15,shuffle=False)"
      ]
    },
    {
      "cell_type": "code",
      "execution_count": null,
      "metadata": {
        "colab": {
          "base_uri": "https://localhost:8080/",
          "height": 238
        },
        "id": "ZtLe6CTOzAK-",
        "outputId": "ea1e86d1-6a36-4d1b-facf-92d66d119c18"
      },
      "outputs": [
        {
          "output_type": "execute_result",
          "data": {
            "text/plain": [
              "           wsj_mean_compound  cnbc_mean_compound  fortune_mean_compound  \\\n",
              "date                                                                      \n",
              "2018/4/30          -0.009474            0.064056               0.021328   \n",
              "2018/5/1           -0.044864            0.084246              -0.013291   \n",
              "2018/5/2            0.000608            0.088057               0.043339   \n",
              "2018/5/3            0.017188            0.066461               0.063148   \n",
              "2018/5/4           -0.001986            0.073777              -0.021277   \n",
              "\n",
              "           reuters_mean_compound     CLI     BCI     CCI  scaled_adj_close  \n",
              "date                                                                        \n",
              "2018/4/30               0.066076  0.7434  1.1734  1.5880          0.229726  \n",
              "2018/5/1                0.068956  0.7426  1.2187  1.5006          0.252852  \n",
              "2018/5/2                0.053706  0.7426  1.2187  1.5006          0.187309  \n",
              "2018/5/3                0.068072  0.7426  1.2187  1.5006          0.166958  \n",
              "2018/5/4                0.062085  0.7426  1.2187  1.5006          0.282386  "
            ],
            "text/html": [
              "\n",
              "  <div id=\"df-173a0f4a-6998-434a-a255-6910565c97b5\">\n",
              "    <div class=\"colab-df-container\">\n",
              "      <div>\n",
              "<style scoped>\n",
              "    .dataframe tbody tr th:only-of-type {\n",
              "        vertical-align: middle;\n",
              "    }\n",
              "\n",
              "    .dataframe tbody tr th {\n",
              "        vertical-align: top;\n",
              "    }\n",
              "\n",
              "    .dataframe thead th {\n",
              "        text-align: right;\n",
              "    }\n",
              "</style>\n",
              "<table border=\"1\" class=\"dataframe\">\n",
              "  <thead>\n",
              "    <tr style=\"text-align: right;\">\n",
              "      <th></th>\n",
              "      <th>wsj_mean_compound</th>\n",
              "      <th>cnbc_mean_compound</th>\n",
              "      <th>fortune_mean_compound</th>\n",
              "      <th>reuters_mean_compound</th>\n",
              "      <th>CLI</th>\n",
              "      <th>BCI</th>\n",
              "      <th>CCI</th>\n",
              "      <th>scaled_adj_close</th>\n",
              "    </tr>\n",
              "    <tr>\n",
              "      <th>date</th>\n",
              "      <th></th>\n",
              "      <th></th>\n",
              "      <th></th>\n",
              "      <th></th>\n",
              "      <th></th>\n",
              "      <th></th>\n",
              "      <th></th>\n",
              "      <th></th>\n",
              "    </tr>\n",
              "  </thead>\n",
              "  <tbody>\n",
              "    <tr>\n",
              "      <th>2018/4/30</th>\n",
              "      <td>-0.009474</td>\n",
              "      <td>0.064056</td>\n",
              "      <td>0.021328</td>\n",
              "      <td>0.066076</td>\n",
              "      <td>0.7434</td>\n",
              "      <td>1.1734</td>\n",
              "      <td>1.5880</td>\n",
              "      <td>0.229726</td>\n",
              "    </tr>\n",
              "    <tr>\n",
              "      <th>2018/5/1</th>\n",
              "      <td>-0.044864</td>\n",
              "      <td>0.084246</td>\n",
              "      <td>-0.013291</td>\n",
              "      <td>0.068956</td>\n",
              "      <td>0.7426</td>\n",
              "      <td>1.2187</td>\n",
              "      <td>1.5006</td>\n",
              "      <td>0.252852</td>\n",
              "    </tr>\n",
              "    <tr>\n",
              "      <th>2018/5/2</th>\n",
              "      <td>0.000608</td>\n",
              "      <td>0.088057</td>\n",
              "      <td>0.043339</td>\n",
              "      <td>0.053706</td>\n",
              "      <td>0.7426</td>\n",
              "      <td>1.2187</td>\n",
              "      <td>1.5006</td>\n",
              "      <td>0.187309</td>\n",
              "    </tr>\n",
              "    <tr>\n",
              "      <th>2018/5/3</th>\n",
              "      <td>0.017188</td>\n",
              "      <td>0.066461</td>\n",
              "      <td>0.063148</td>\n",
              "      <td>0.068072</td>\n",
              "      <td>0.7426</td>\n",
              "      <td>1.2187</td>\n",
              "      <td>1.5006</td>\n",
              "      <td>0.166958</td>\n",
              "    </tr>\n",
              "    <tr>\n",
              "      <th>2018/5/4</th>\n",
              "      <td>-0.001986</td>\n",
              "      <td>0.073777</td>\n",
              "      <td>-0.021277</td>\n",
              "      <td>0.062085</td>\n",
              "      <td>0.7426</td>\n",
              "      <td>1.2187</td>\n",
              "      <td>1.5006</td>\n",
              "      <td>0.282386</td>\n",
              "    </tr>\n",
              "  </tbody>\n",
              "</table>\n",
              "</div>\n",
              "      <button class=\"colab-df-convert\" onclick=\"convertToInteractive('df-173a0f4a-6998-434a-a255-6910565c97b5')\"\n",
              "              title=\"Convert this dataframe to an interactive table.\"\n",
              "              style=\"display:none;\">\n",
              "        \n",
              "  <svg xmlns=\"http://www.w3.org/2000/svg\" height=\"24px\"viewBox=\"0 0 24 24\"\n",
              "       width=\"24px\">\n",
              "    <path d=\"M0 0h24v24H0V0z\" fill=\"none\"/>\n",
              "    <path d=\"M18.56 5.44l.94 2.06.94-2.06 2.06-.94-2.06-.94-.94-2.06-.94 2.06-2.06.94zm-11 1L8.5 8.5l.94-2.06 2.06-.94-2.06-.94L8.5 2.5l-.94 2.06-2.06.94zm10 10l.94 2.06.94-2.06 2.06-.94-2.06-.94-.94-2.06-.94 2.06-2.06.94z\"/><path d=\"M17.41 7.96l-1.37-1.37c-.4-.4-.92-.59-1.43-.59-.52 0-1.04.2-1.43.59L10.3 9.45l-7.72 7.72c-.78.78-.78 2.05 0 2.83L4 21.41c.39.39.9.59 1.41.59.51 0 1.02-.2 1.41-.59l7.78-7.78 2.81-2.81c.8-.78.8-2.07 0-2.86zM5.41 20L4 18.59l7.72-7.72 1.47 1.35L5.41 20z\"/>\n",
              "  </svg>\n",
              "      </button>\n",
              "      \n",
              "  <style>\n",
              "    .colab-df-container {\n",
              "      display:flex;\n",
              "      flex-wrap:wrap;\n",
              "      gap: 12px;\n",
              "    }\n",
              "\n",
              "    .colab-df-convert {\n",
              "      background-color: #E8F0FE;\n",
              "      border: none;\n",
              "      border-radius: 50%;\n",
              "      cursor: pointer;\n",
              "      display: none;\n",
              "      fill: #1967D2;\n",
              "      height: 32px;\n",
              "      padding: 0 0 0 0;\n",
              "      width: 32px;\n",
              "    }\n",
              "\n",
              "    .colab-df-convert:hover {\n",
              "      background-color: #E2EBFA;\n",
              "      box-shadow: 0px 1px 2px rgba(60, 64, 67, 0.3), 0px 1px 3px 1px rgba(60, 64, 67, 0.15);\n",
              "      fill: #174EA6;\n",
              "    }\n",
              "\n",
              "    [theme=dark] .colab-df-convert {\n",
              "      background-color: #3B4455;\n",
              "      fill: #D2E3FC;\n",
              "    }\n",
              "\n",
              "    [theme=dark] .colab-df-convert:hover {\n",
              "      background-color: #434B5C;\n",
              "      box-shadow: 0px 1px 3px 1px rgba(0, 0, 0, 0.15);\n",
              "      filter: drop-shadow(0px 1px 2px rgba(0, 0, 0, 0.3));\n",
              "      fill: #FFFFFF;\n",
              "    }\n",
              "  </style>\n",
              "\n",
              "      <script>\n",
              "        const buttonEl =\n",
              "          document.querySelector('#df-173a0f4a-6998-434a-a255-6910565c97b5 button.colab-df-convert');\n",
              "        buttonEl.style.display =\n",
              "          google.colab.kernel.accessAllowed ? 'block' : 'none';\n",
              "\n",
              "        async function convertToInteractive(key) {\n",
              "          const element = document.querySelector('#df-173a0f4a-6998-434a-a255-6910565c97b5');\n",
              "          const dataTable =\n",
              "            await google.colab.kernel.invokeFunction('convertToInteractive',\n",
              "                                                     [key], {});\n",
              "          if (!dataTable) return;\n",
              "\n",
              "          const docLinkHtml = 'Like what you see? Visit the ' +\n",
              "            '<a target=\"_blank\" href=https://colab.research.google.com/notebooks/data_table.ipynb>data table notebook</a>'\n",
              "            + ' to learn more about interactive tables.';\n",
              "          element.innerHTML = '';\n",
              "          dataTable['output_type'] = 'display_data';\n",
              "          await google.colab.output.renderOutput(dataTable, element);\n",
              "          const docLink = document.createElement('div');\n",
              "          docLink.innerHTML = docLinkHtml;\n",
              "          element.appendChild(docLink);\n",
              "        }\n",
              "      </script>\n",
              "    </div>\n",
              "  </div>\n",
              "  "
            ]
          },
          "metadata": {},
          "execution_count": 13
        }
      ],
      "source": [
        "train_validation_data.tail()"
      ]
    },
    {
      "cell_type": "code",
      "execution_count": null,
      "metadata": {
        "colab": {
          "base_uri": "https://localhost:8080/"
        },
        "id": "z5shD0u8zARi",
        "outputId": "b3fa01e7-0826-44f0-9b16-9f55ae1bd4ae"
      },
      "outputs": [
        {
          "output_type": "execute_result",
          "data": {
            "text/plain": [
              "(102, 8)"
            ]
          },
          "metadata": {},
          "execution_count": 14
        }
      ],
      "source": [
        "train_validation_data.shape"
      ]
    },
    {
      "cell_type": "code",
      "execution_count": null,
      "metadata": {
        "colab": {
          "base_uri": "https://localhost:8080/"
        },
        "id": "n7DF00uPzAYl",
        "outputId": "b022e88a-0154-43d1-929e-293c84b095e5"
      },
      "outputs": [
        {
          "output_type": "stream",
          "name": "stdout",
          "text": [
            "train data shape:  (83, 8)\n",
            "validation data shape:  (19, 8)\n",
            "test data shape:  (19, 8)\n"
          ]
        }
      ],
      "source": [
        "validation_data =train_validation_data[83:]\n",
        "train_data=train_validation_data[:83]\n",
        "\n",
        "print(\"train data shape: \", train_data.shape)\n",
        "print(\"validation data shape: \", validation_data.shape)\n",
        "print(\"test data shape: \", test_data.shape)"
      ]
    },
    {
      "cell_type": "code",
      "execution_count": null,
      "metadata": {
        "id": "pUyc2PWvzgEt"
      },
      "outputs": [],
      "source": [
        "# configs\n",
        "look_back = 10\n",
        "forward_days = 1\n",
        "NUM_NEURONS=50\n",
        "EPOCHES=100\n",
        "BATCH_SIZE=32\n",
        "DROUP_OUT=0.2"
      ]
    },
    {
      "cell_type": "code",
      "execution_count": null,
      "metadata": {
        "id": "vGNUGlwAzgKX"
      },
      "outputs": [],
      "source": [
        "#Get the data and splits in input X and output Y, by spliting in `n` past days as input X \n",
        "#and `m` coming days as Y.\n",
        "def processData(data, look_back, forward_days,jump=1):\n",
        "    A,B = [],[]\n",
        "    for i in range(0,len(data) -look_back, jump):\n",
        "        A.append(data[i:(i+look_back)])\n",
        "        B.append(data[(i+look_back):(i+look_back+forward_days)])\n",
        "    return np.array(A), np.array(B)"
      ]
    },
    {
      "cell_type": "code",
      "execution_count": null,
      "metadata": {
        "id": "GlguqaLLzgSE"
      },
      "outputs": [],
      "source": [
        "m_training_data = train_data.to_numpy()\n",
        "m_validation_data = validation_data.to_numpy()\n",
        "m_test_data = test_data.to_numpy()\n",
        "\n",
        "X_train,Y_train = processData(m_training_data,look_back,forward_days)\n",
        "X_validation,Y_validation = processData(m_validation_data,look_back,forward_days)\n",
        "X_test,Y_test = processData(m_test_data,look_back,forward_days)"
      ]
    },
    {
      "cell_type": "code",
      "execution_count": null,
      "metadata": {
        "colab": {
          "base_uri": "https://localhost:8080/"
        },
        "id": "cCqJlq6HzgVx",
        "outputId": "18cab38f-e663-44cb-cd05-36a1d88e6c3c"
      },
      "outputs": [
        {
          "output_type": "stream",
          "name": "stdout",
          "text": [
            "This is y_train shape (73,)\n",
            "This is y_validation shape (9,)\n",
            "This is y_test shape (9,)\n"
          ]
        }
      ],
      "source": [
        "Y_train=Y_train[:,0,-1]\n",
        "Y_validation=Y_validation[:,0,-1]\n",
        "Y_test=Y_test[:,0,-1]\n",
        "\n",
        "print(\"This is y_train shape\",Y_train.shape)\n",
        "print(\"This is y_validation shape\",Y_validation.shape)\n",
        "print(\"This is y_test shape\",Y_test.shape)"
      ]
    },
    {
      "cell_type": "markdown",
      "metadata": {
        "id": "FCKRmFuh-QIV"
      },
      "source": [
        "# LSTM model"
      ]
    },
    {
      "cell_type": "code",
      "execution_count": null,
      "metadata": {
        "colab": {
          "base_uri": "https://localhost:8080/"
        },
        "id": "PcEen7hea_yL",
        "outputId": "670b9958-eb88-486d-bf5b-02d8d51c39e8"
      },
      "outputs": [
        {
          "output_type": "stream",
          "name": "stdout",
          "text": [
            "Train on 73 samples\n",
            "Epoch 1/100\n",
            "73/73 [==============================] - 1s 19ms/sample - loss: 0.2863\n",
            "Epoch 2/100\n",
            "73/73 [==============================] - 0s 1ms/sample - loss: 0.1616\n",
            "Epoch 3/100\n",
            "73/73 [==============================] - 0s 1ms/sample - loss: 0.0718\n",
            "Epoch 4/100\n",
            "73/73 [==============================] - 0s 1ms/sample - loss: 0.1014\n",
            "Epoch 5/100\n",
            "73/73 [==============================] - 0s 2ms/sample - loss: 0.0602\n",
            "Epoch 6/100\n",
            "73/73 [==============================] - 0s 1ms/sample - loss: 0.0637\n",
            "Epoch 7/100\n",
            "73/73 [==============================] - 0s 1ms/sample - loss: 0.0688\n",
            "Epoch 8/100\n",
            "73/73 [==============================] - 0s 1ms/sample - loss: 0.0720\n",
            "Epoch 9/100\n",
            "73/73 [==============================] - 0s 1ms/sample - loss: 0.0721\n",
            "Epoch 10/100\n",
            "73/73 [==============================] - 0s 1ms/sample - loss: 0.0570\n",
            "Epoch 11/100\n",
            "73/73 [==============================] - 0s 1ms/sample - loss: 0.0587\n",
            "Epoch 12/100\n",
            "73/73 [==============================] - 0s 1ms/sample - loss: 0.0616\n",
            "Epoch 13/100\n",
            "73/73 [==============================] - 0s 1ms/sample - loss: 0.0535\n",
            "Epoch 14/100\n",
            "73/73 [==============================] - 0s 1ms/sample - loss: 0.0574\n",
            "Epoch 15/100\n",
            "73/73 [==============================] - 0s 1ms/sample - loss: 0.0540\n",
            "Epoch 16/100\n",
            "73/73 [==============================] - 0s 1ms/sample - loss: 0.0576\n",
            "Epoch 17/100\n",
            "73/73 [==============================] - 0s 2ms/sample - loss: 0.0588\n",
            "Epoch 18/100\n",
            "73/73 [==============================] - 0s 1ms/sample - loss: 0.0484\n",
            "Epoch 19/100\n",
            "73/73 [==============================] - 0s 1ms/sample - loss: 0.0590\n",
            "Epoch 20/100\n",
            "73/73 [==============================] - 0s 2ms/sample - loss: 0.0571\n",
            "Epoch 21/100\n",
            "73/73 [==============================] - 0s 1ms/sample - loss: 0.0553\n",
            "Epoch 22/100\n",
            "73/73 [==============================] - 0s 1ms/sample - loss: 0.0489\n",
            "Epoch 23/100\n",
            "73/73 [==============================] - 0s 1ms/sample - loss: 0.0484\n",
            "Epoch 24/100\n",
            "73/73 [==============================] - 0s 1ms/sample - loss: 0.0490\n",
            "Epoch 25/100\n",
            "73/73 [==============================] - 0s 1ms/sample - loss: 0.0461\n",
            "Epoch 26/100\n",
            "73/73 [==============================] - 0s 1ms/sample - loss: 0.0477\n",
            "Epoch 27/100\n",
            "73/73 [==============================] - 0s 1ms/sample - loss: 0.0456\n",
            "Epoch 28/100\n",
            "73/73 [==============================] - 0s 1ms/sample - loss: 0.0449\n",
            "Epoch 29/100\n",
            "73/73 [==============================] - 0s 2ms/sample - loss: 0.0465\n",
            "Epoch 30/100\n",
            "73/73 [==============================] - 0s 2ms/sample - loss: 0.0509\n",
            "Epoch 31/100\n",
            "73/73 [==============================] - 0s 2ms/sample - loss: 0.0408\n",
            "Epoch 32/100\n",
            "73/73 [==============================] - 0s 2ms/sample - loss: 0.0472\n",
            "Epoch 33/100\n",
            "73/73 [==============================] - 0s 2ms/sample - loss: 0.0464\n",
            "Epoch 34/100\n",
            "73/73 [==============================] - 0s 1ms/sample - loss: 0.0392\n",
            "Epoch 35/100\n",
            "73/73 [==============================] - 0s 2ms/sample - loss: 0.0465\n",
            "Epoch 36/100\n",
            "73/73 [==============================] - 0s 1ms/sample - loss: 0.0394\n",
            "Epoch 37/100\n",
            "73/73 [==============================] - 0s 1ms/sample - loss: 0.0515\n",
            "Epoch 38/100\n",
            "73/73 [==============================] - 0s 1ms/sample - loss: 0.0375\n",
            "Epoch 39/100\n",
            "73/73 [==============================] - 0s 1ms/sample - loss: 0.0461\n",
            "Epoch 40/100\n",
            "73/73 [==============================] - 0s 1ms/sample - loss: 0.0457\n",
            "Epoch 41/100\n",
            "73/73 [==============================] - 0s 1ms/sample - loss: 0.0501\n",
            "Epoch 42/100\n",
            "73/73 [==============================] - 0s 1ms/sample - loss: 0.0369\n",
            "Epoch 43/100\n",
            "73/73 [==============================] - 0s 2ms/sample - loss: 0.0551\n",
            "Epoch 44/100\n",
            "73/73 [==============================] - 0s 1ms/sample - loss: 0.0386\n",
            "Epoch 45/100\n",
            "73/73 [==============================] - 0s 1ms/sample - loss: 0.0523\n",
            "Epoch 46/100\n",
            "73/73 [==============================] - 0s 2ms/sample - loss: 0.0448\n",
            "Epoch 47/100\n",
            "73/73 [==============================] - 0s 1ms/sample - loss: 0.0444\n",
            "Epoch 48/100\n",
            "73/73 [==============================] - 0s 2ms/sample - loss: 0.0465\n",
            "Epoch 49/100\n",
            "73/73 [==============================] - 0s 2ms/sample - loss: 0.0411\n",
            "Epoch 50/100\n",
            "73/73 [==============================] - 0s 1ms/sample - loss: 0.0428\n",
            "Epoch 51/100\n",
            "73/73 [==============================] - 0s 1ms/sample - loss: 0.0408\n",
            "Epoch 52/100\n",
            "73/73 [==============================] - 0s 2ms/sample - loss: 0.0429\n",
            "Epoch 53/100\n",
            "73/73 [==============================] - 0s 2ms/sample - loss: 0.0439\n",
            "Epoch 54/100\n",
            "73/73 [==============================] - 0s 2ms/sample - loss: 0.0421\n",
            "Epoch 55/100\n",
            "73/73 [==============================] - 0s 1ms/sample - loss: 0.0439\n",
            "Epoch 56/100\n",
            "73/73 [==============================] - 0s 2ms/sample - loss: 0.0384\n",
            "Epoch 57/100\n",
            "73/73 [==============================] - 0s 1ms/sample - loss: 0.0398\n",
            "Epoch 58/100\n",
            "73/73 [==============================] - 0s 2ms/sample - loss: 0.0364\n",
            "Epoch 59/100\n",
            "73/73 [==============================] - 0s 1ms/sample - loss: 0.0430\n",
            "Epoch 60/100\n",
            "73/73 [==============================] - 0s 1ms/sample - loss: 0.0367\n",
            "Epoch 61/100\n",
            "73/73 [==============================] - 0s 1ms/sample - loss: 0.0403\n",
            "Epoch 62/100\n",
            "73/73 [==============================] - 0s 2ms/sample - loss: 0.0383\n",
            "Epoch 63/100\n",
            "73/73 [==============================] - 0s 1ms/sample - loss: 0.0378\n",
            "Epoch 64/100\n",
            "73/73 [==============================] - 0s 2ms/sample - loss: 0.0401\n",
            "Epoch 65/100\n",
            "73/73 [==============================] - 0s 2ms/sample - loss: 0.0343\n",
            "Epoch 66/100\n",
            "73/73 [==============================] - 0s 1ms/sample - loss: 0.0363\n",
            "Epoch 67/100\n",
            "73/73 [==============================] - 0s 2ms/sample - loss: 0.0413\n",
            "Epoch 68/100\n",
            "73/73 [==============================] - 0s 2ms/sample - loss: 0.0351\n",
            "Epoch 69/100\n",
            "73/73 [==============================] - 0s 1ms/sample - loss: 0.0332\n",
            "Epoch 70/100\n",
            "73/73 [==============================] - 0s 1ms/sample - loss: 0.0355\n",
            "Epoch 71/100\n",
            "73/73 [==============================] - 0s 1ms/sample - loss: 0.0327\n",
            "Epoch 72/100\n",
            "73/73 [==============================] - 0s 1ms/sample - loss: 0.0338\n",
            "Epoch 73/100\n",
            "73/73 [==============================] - 0s 1ms/sample - loss: 0.0303\n",
            "Epoch 74/100\n",
            "73/73 [==============================] - 0s 1ms/sample - loss: 0.0313\n",
            "Epoch 75/100\n",
            "73/73 [==============================] - 0s 1ms/sample - loss: 0.0309\n",
            "Epoch 76/100\n",
            "73/73 [==============================] - 0s 2ms/sample - loss: 0.0279\n",
            "Epoch 77/100\n",
            "73/73 [==============================] - 0s 1ms/sample - loss: 0.0291\n",
            "Epoch 78/100\n",
            "73/73 [==============================] - 0s 2ms/sample - loss: 0.0249\n",
            "Epoch 79/100\n",
            "73/73 [==============================] - 0s 1ms/sample - loss: 0.0246\n",
            "Epoch 80/100\n",
            "73/73 [==============================] - 0s 1ms/sample - loss: 0.0248\n",
            "Epoch 81/100\n",
            "73/73 [==============================] - 0s 2ms/sample - loss: 0.0201\n",
            "Epoch 82/100\n",
            "73/73 [==============================] - 0s 2ms/sample - loss: 0.0203\n",
            "Epoch 83/100\n",
            "73/73 [==============================] - 0s 1ms/sample - loss: 0.0177\n",
            "Epoch 84/100\n",
            "73/73 [==============================] - 0s 2ms/sample - loss: 0.0204\n",
            "Epoch 85/100\n",
            "73/73 [==============================] - 0s 2ms/sample - loss: 0.0201\n",
            "Epoch 86/100\n",
            "73/73 [==============================] - 0s 1ms/sample - loss: 0.0178\n",
            "Epoch 87/100\n",
            "73/73 [==============================] - 0s 1ms/sample - loss: 0.0240\n",
            "Epoch 88/100\n",
            "73/73 [==============================] - 0s 1ms/sample - loss: 0.0165\n",
            "Epoch 89/100\n",
            "73/73 [==============================] - 0s 2ms/sample - loss: 0.0195\n",
            "Epoch 90/100\n",
            "73/73 [==============================] - 0s 2ms/sample - loss: 0.0203\n",
            "Epoch 91/100\n",
            "73/73 [==============================] - 0s 2ms/sample - loss: 0.0157\n",
            "Epoch 92/100\n",
            "73/73 [==============================] - 0s 1ms/sample - loss: 0.0204\n",
            "Epoch 93/100\n",
            "73/73 [==============================] - 0s 1ms/sample - loss: 0.0148\n",
            "Epoch 94/100\n",
            "73/73 [==============================] - 0s 2ms/sample - loss: 0.0176\n",
            "Epoch 95/100\n",
            "73/73 [==============================] - 0s 1ms/sample - loss: 0.0172\n",
            "Epoch 96/100\n",
            "73/73 [==============================] - 0s 1ms/sample - loss: 0.0170\n",
            "Epoch 97/100\n",
            "73/73 [==============================] - 0s 2ms/sample - loss: 0.0197\n",
            "Epoch 98/100\n",
            "73/73 [==============================] - 0s 1ms/sample - loss: 0.0143\n",
            "Epoch 99/100\n",
            "73/73 [==============================] - 0s 1ms/sample - loss: 0.0205\n",
            "Epoch 100/100\n",
            "73/73 [==============================] - 0s 2ms/sample - loss: 0.0179\n"
          ]
        }
      ],
      "source": [
        "# build LSTM model\n",
        "model1 = Sequential()\n",
        "# first layer\n",
        "model1.add(LSTM(units=NUM_NEURONS, return_sequences = True, input_shape=(X_train.shape[1],X_train.shape[2])))\n",
        "model1.add(Dropout(DROUP_OUT))\n",
        "# second layer\n",
        "model1.add(LSTM(units=NUM_NEURONS, return_sequences = True))\n",
        "model1.add(Dropout(DROUP_OUT))\n",
        "# third layer\n",
        "model1.add(LSTM(units=NUM_NEURONS, return_sequences = True))\n",
        "model1.add(Dropout(DROUP_OUT))\n",
        "# fourth layer\n",
        "model1.add(LSTM(units=NUM_NEURONS))\n",
        "model1.add(Dropout(DROUP_OUT))\n",
        "# outut layer\n",
        "model1.add(Dense(forward_days))\n",
        "#train model\n",
        "model1.compile(loss='mean_squared_error',optimizer='adam')\n",
        "              \n",
        "              # compile\n",
        "              \n",
        "history1 =model1.fit(X_train, Y_train, epochs = EPOCHES, batch_size = BATCH_SIZE)"
      ]
    },
    {
      "cell_type": "code",
      "execution_count": null,
      "metadata": {
        "colab": {
          "base_uri": "https://localhost:8080/"
        },
        "id": "wbhHj-eYzgQd",
        "outputId": "33e23dd8-564e-4266-d2b6-42d67009b317"
      },
      "outputs": [
        {
          "output_type": "stream",
          "name": "stdout",
          "text": [
            "Train on 73 samples\n",
            "Epoch 1/100\n",
            "73/73 [==============================] - 1s 14ms/sample - loss: 0.1733\n",
            "Epoch 2/100\n",
            "73/73 [==============================] - 0s 679us/sample - loss: 0.0918\n",
            "Epoch 3/100\n",
            "73/73 [==============================] - 0s 701us/sample - loss: 0.0525\n",
            "Epoch 4/100\n",
            "73/73 [==============================] - 0s 720us/sample - loss: 0.0542\n",
            "Epoch 5/100\n",
            "73/73 [==============================] - 0s 742us/sample - loss: 0.0647\n",
            "Epoch 6/100\n",
            "73/73 [==============================] - 0s 780us/sample - loss: 0.0565\n",
            "Epoch 7/100\n",
            "73/73 [==============================] - 0s 811us/sample - loss: 0.0660\n",
            "Epoch 8/100\n",
            "73/73 [==============================] - 0s 953us/sample - loss: 0.0693\n",
            "Epoch 9/100\n",
            "73/73 [==============================] - 0s 782us/sample - loss: 0.0464\n",
            "Epoch 10/100\n",
            "73/73 [==============================] - 0s 763us/sample - loss: 0.0510\n",
            "Epoch 11/100\n",
            "73/73 [==============================] - 0s 784us/sample - loss: 0.0432\n",
            "Epoch 12/100\n",
            "73/73 [==============================] - 0s 729us/sample - loss: 0.0478\n",
            "Epoch 13/100\n",
            "73/73 [==============================] - 0s 740us/sample - loss: 0.0884\n",
            "Epoch 14/100\n",
            "73/73 [==============================] - 0s 679us/sample - loss: 0.0413\n",
            "Epoch 15/100\n",
            "73/73 [==============================] - 0s 672us/sample - loss: 0.0480\n",
            "Epoch 16/100\n",
            "73/73 [==============================] - 0s 774us/sample - loss: 0.0401\n",
            "Epoch 17/100\n",
            "73/73 [==============================] - 0s 659us/sample - loss: 0.0739\n",
            "Epoch 18/100\n",
            "73/73 [==============================] - 0s 789us/sample - loss: 0.0351\n",
            "Epoch 19/100\n",
            "73/73 [==============================] - 0s 754us/sample - loss: 0.0454\n",
            "Epoch 20/100\n",
            "73/73 [==============================] - 0s 681us/sample - loss: 0.0385\n",
            "Epoch 21/100\n",
            "73/73 [==============================] - 0s 674us/sample - loss: 0.0465\n",
            "Epoch 22/100\n",
            "73/73 [==============================] - 0s 754us/sample - loss: 0.0337\n",
            "Epoch 23/100\n",
            "73/73 [==============================] - 0s 725us/sample - loss: 0.0772\n",
            "Epoch 24/100\n",
            "73/73 [==============================] - 0s 689us/sample - loss: 0.0359\n",
            "Epoch 25/100\n",
            "73/73 [==============================] - 0s 741us/sample - loss: 0.0356\n",
            "Epoch 26/100\n",
            "73/73 [==============================] - 0s 694us/sample - loss: 0.0379\n",
            "Epoch 27/100\n",
            "73/73 [==============================] - 0s 675us/sample - loss: 0.0672\n",
            "Epoch 28/100\n",
            "73/73 [==============================] - 0s 741us/sample - loss: 0.0384\n",
            "Epoch 29/100\n",
            "73/73 [==============================] - 0s 697us/sample - loss: 0.0334\n",
            "Epoch 30/100\n",
            "73/73 [==============================] - 0s 748us/sample - loss: 0.0305\n",
            "Epoch 31/100\n",
            "73/73 [==============================] - 0s 733us/sample - loss: 0.0276\n",
            "Epoch 32/100\n",
            "73/73 [==============================] - 0s 751us/sample - loss: 0.0423\n",
            "Epoch 33/100\n",
            "73/73 [==============================] - 0s 810us/sample - loss: 0.0327\n",
            "Epoch 34/100\n",
            "73/73 [==============================] - 0s 853us/sample - loss: 0.0361\n",
            "Epoch 35/100\n",
            "73/73 [==============================] - 0s 738us/sample - loss: 0.0262\n",
            "Epoch 36/100\n",
            "73/73 [==============================] - 0s 818us/sample - loss: 0.0288\n",
            "Epoch 37/100\n",
            "73/73 [==============================] - 0s 693us/sample - loss: 0.0341\n",
            "Epoch 38/100\n",
            "73/73 [==============================] - 0s 759us/sample - loss: 0.0264\n",
            "Epoch 39/100\n",
            "73/73 [==============================] - 0s 786us/sample - loss: 0.0400\n",
            "Epoch 40/100\n",
            "73/73 [==============================] - 0s 854us/sample - loss: 0.0304\n",
            "Epoch 41/100\n",
            "73/73 [==============================] - 0s 764us/sample - loss: 0.0267\n",
            "Epoch 42/100\n",
            "73/73 [==============================] - 0s 767us/sample - loss: 0.0276\n",
            "Epoch 43/100\n",
            "73/73 [==============================] - 0s 793us/sample - loss: 0.0303\n",
            "Epoch 44/100\n",
            "73/73 [==============================] - 0s 676us/sample - loss: 0.0236\n",
            "Epoch 45/100\n",
            "73/73 [==============================] - 0s 876us/sample - loss: 0.0480\n",
            "Epoch 46/100\n",
            "73/73 [==============================] - 0s 783us/sample - loss: 0.0241\n",
            "Epoch 47/100\n",
            "73/73 [==============================] - 0s 759us/sample - loss: 0.0378\n",
            "Epoch 48/100\n",
            "73/73 [==============================] - 0s 769us/sample - loss: 0.0411\n",
            "Epoch 49/100\n",
            "73/73 [==============================] - 0s 719us/sample - loss: 0.0344\n",
            "Epoch 50/100\n",
            "73/73 [==============================] - 0s 809us/sample - loss: 0.0202\n",
            "Epoch 51/100\n",
            "73/73 [==============================] - 0s 716us/sample - loss: 0.0261\n",
            "Epoch 52/100\n",
            "73/73 [==============================] - 0s 730us/sample - loss: 0.0225\n",
            "Epoch 53/100\n",
            "73/73 [==============================] - 0s 873us/sample - loss: 0.0224\n",
            "Epoch 54/100\n",
            "73/73 [==============================] - 0s 689us/sample - loss: 0.0293\n",
            "Epoch 55/100\n",
            "73/73 [==============================] - 0s 809us/sample - loss: 0.0289\n",
            "Epoch 56/100\n",
            "73/73 [==============================] - 0s 756us/sample - loss: 0.0272\n",
            "Epoch 57/100\n",
            "73/73 [==============================] - 0s 719us/sample - loss: 0.0245\n",
            "Epoch 58/100\n",
            "73/73 [==============================] - 0s 933us/sample - loss: 0.0261\n",
            "Epoch 59/100\n",
            "73/73 [==============================] - 0s 646us/sample - loss: 0.0283\n",
            "Epoch 60/100\n",
            "73/73 [==============================] - 0s 694us/sample - loss: 0.0223\n",
            "Epoch 61/100\n",
            "73/73 [==============================] - 0s 738us/sample - loss: 0.0187\n",
            "Epoch 62/100\n",
            "73/73 [==============================] - 0s 714us/sample - loss: 0.0234\n",
            "Epoch 63/100\n",
            "73/73 [==============================] - 0s 713us/sample - loss: 0.0359\n",
            "Epoch 64/100\n",
            "73/73 [==============================] - 0s 679us/sample - loss: 0.0186\n",
            "Epoch 65/100\n",
            "73/73 [==============================] - 0s 644us/sample - loss: 0.0165\n",
            "Epoch 66/100\n",
            "73/73 [==============================] - 0s 833us/sample - loss: 0.0195\n",
            "Epoch 67/100\n",
            "73/73 [==============================] - 0s 737us/sample - loss: 0.0209\n",
            "Epoch 68/100\n",
            "73/73 [==============================] - 0s 750us/sample - loss: 0.0125\n",
            "Epoch 69/100\n",
            "73/73 [==============================] - 0s 808us/sample - loss: 0.0193\n",
            "Epoch 70/100\n",
            "73/73 [==============================] - 0s 813us/sample - loss: 0.0161\n",
            "Epoch 71/100\n",
            "73/73 [==============================] - 0s 840us/sample - loss: 0.0218\n",
            "Epoch 72/100\n",
            "73/73 [==============================] - 0s 755us/sample - loss: 0.0334\n",
            "Epoch 73/100\n",
            "73/73 [==============================] - 0s 742us/sample - loss: 0.0451\n",
            "Epoch 74/100\n",
            "73/73 [==============================] - 0s 821us/sample - loss: 0.0217\n",
            "Epoch 75/100\n",
            "73/73 [==============================] - 0s 776us/sample - loss: 0.0205\n",
            "Epoch 76/100\n",
            "73/73 [==============================] - 0s 754us/sample - loss: 0.0203\n",
            "Epoch 77/100\n",
            "73/73 [==============================] - 0s 676us/sample - loss: 0.0230\n",
            "Epoch 78/100\n",
            "73/73 [==============================] - 0s 763us/sample - loss: 0.0241\n",
            "Epoch 79/100\n",
            "73/73 [==============================] - 0s 647us/sample - loss: 0.0199\n",
            "Epoch 80/100\n",
            "73/73 [==============================] - 0s 757us/sample - loss: 0.0191\n",
            "Epoch 81/100\n",
            "73/73 [==============================] - 0s 734us/sample - loss: 0.0288\n",
            "Epoch 82/100\n",
            "73/73 [==============================] - 0s 756us/sample - loss: 0.0199\n",
            "Epoch 83/100\n",
            "73/73 [==============================] - 0s 695us/sample - loss: 0.0210\n",
            "Epoch 84/100\n",
            "73/73 [==============================] - 0s 743us/sample - loss: 0.0190\n",
            "Epoch 85/100\n",
            "73/73 [==============================] - 0s 753us/sample - loss: 0.0234\n",
            "Epoch 86/100\n",
            "73/73 [==============================] - 0s 729us/sample - loss: 0.0174\n",
            "Epoch 87/100\n",
            "73/73 [==============================] - 0s 754us/sample - loss: 0.0224\n",
            "Epoch 88/100\n",
            "73/73 [==============================] - 0s 746us/sample - loss: 0.0144\n",
            "Epoch 89/100\n",
            "73/73 [==============================] - 0s 872us/sample - loss: 0.0257\n",
            "Epoch 90/100\n",
            "73/73 [==============================] - 0s 770us/sample - loss: 0.0165\n",
            "Epoch 91/100\n",
            "73/73 [==============================] - 0s 1ms/sample - loss: 0.0169\n",
            "Epoch 92/100\n",
            "73/73 [==============================] - 0s 722us/sample - loss: 0.0165\n",
            "Epoch 93/100\n",
            "73/73 [==============================] - 0s 782us/sample - loss: 0.0325\n",
            "Epoch 94/100\n",
            "73/73 [==============================] - 0s 743us/sample - loss: 0.0164\n",
            "Epoch 95/100\n",
            "73/73 [==============================] - 0s 771us/sample - loss: 0.0127\n",
            "Epoch 96/100\n",
            "73/73 [==============================] - 0s 724us/sample - loss: 0.0215\n",
            "Epoch 97/100\n",
            "73/73 [==============================] - 0s 853us/sample - loss: 0.0179\n",
            "Epoch 98/100\n",
            "73/73 [==============================] - 0s 741us/sample - loss: 0.0154\n",
            "Epoch 99/100\n",
            "73/73 [==============================] - 0s 723us/sample - loss: 0.0261\n",
            "Epoch 100/100\n",
            "73/73 [==============================] - 0s 752us/sample - loss: 0.0259\n"
          ]
        }
      ],
      "source": [
        "# build GRU model\n",
        "model2 = Sequential()\n",
        "# first layer\n",
        "model2.add(GRU(units=NUM_NEURONS, return_sequences = True, input_shape=(X_train.shape[1],X_train.shape[2])))\n",
        "model2.add(Dropout(DROUP_OUT))\n",
        "# second layer\n",
        "model2.add(GRU(units=NUM_NEURONS, return_sequences = True))\n",
        "model2.add(Dropout(DROUP_OUT))\n",
        "# third layer\n",
        "model2.add(GRU(units=NUM_NEURONS, return_sequences = True))\n",
        "model2.add(Dropout(DROUP_OUT))\n",
        "# fourth layer\n",
        "model2.add(GRU(units=NUM_NEURONS))\n",
        "model2.add(Dropout(DROUP_OUT))\n",
        "# output layer\n",
        "model2.add(Dense(forward_days))\n",
        "#train model\n",
        "model2.compile(loss='mean_squared_error',optimizer='rmsprop')\n",
        "              \n",
        "              # compile\n",
        "              \n",
        "history2 =model2.fit(X_train, Y_train, epochs = EPOCHES, batch_size = BATCH_SIZE)"
      ]
    },
    {
      "cell_type": "markdown",
      "metadata": {
        "id": "N0z1DmNEstHx"
      },
      "source": [
        "# CNN_LSTM"
      ]
    },
    {
      "cell_type": "code",
      "source": [
        "# build CNN_LSTM model\n",
        "model4 = Sequential()\n",
        "# first layer\n",
        "model4.add(Conv1D(filters=32, kernel_size=1, activation='tanh', padding='same', input_shape=(10, 8)))\n",
        "# second layer\n",
        "model4.add(MaxPooling1D(pool_size=1, padding='same'))\n",
        "# third layer\n",
        "# NUM_NEURONS = 64\n",
        "model4.add(LSTM(units=NUM_NEURONS, activation='tanh'))\n",
        "# fourth layer\n",
        "model4.add(Dropout(DROUP_OUT))\n",
        "# output layer\n",
        "model4.add(Dense(forward_days))\n",
        "# compile model\n",
        "model4.compile(optimizer='adam', loss='mse', metrics=['mse', 'mae'])\n",
        "\n",
        "#train model\n",
        "history4 = model4.fit(X_train, Y_train, epochs=100, batch_size=64, verbose=1, shuffle =True)"
      ],
      "metadata": {
        "colab": {
          "base_uri": "https://localhost:8080/"
        },
        "id": "wHu7p81ewEVs",
        "outputId": "6f0c7095-72b9-4fa5-be0f-acf0bb0238ab"
      },
      "execution_count": null,
      "outputs": [
        {
          "output_type": "stream",
          "name": "stdout",
          "text": [
            "Train on 73 samples\n",
            "Epoch 1/100\n",
            "73/73 [==============================] - 0s 3ms/sample - loss: 0.3382 - mean_squared_error: 0.3382 - mean_absolute_error: 0.5215\n",
            "Epoch 2/100\n",
            "73/73 [==============================] - 0s 271us/sample - loss: 0.0910 - mean_squared_error: 0.0910 - mean_absolute_error: 0.2450\n",
            "Epoch 3/100\n",
            "73/73 [==============================] - 0s 322us/sample - loss: 0.0674 - mean_squared_error: 0.0674 - mean_absolute_error: 0.2115\n",
            "Epoch 4/100\n",
            "73/73 [==============================] - 0s 219us/sample - loss: 0.1164 - mean_squared_error: 0.1164 - mean_absolute_error: 0.2714\n",
            "Epoch 5/100\n",
            "73/73 [==============================] - 0s 237us/sample - loss: 0.1275 - mean_squared_error: 0.1275 - mean_absolute_error: 0.2912\n",
            "Epoch 6/100\n",
            "73/73 [==============================] - 0s 314us/sample - loss: 0.0631 - mean_squared_error: 0.0631 - mean_absolute_error: 0.2004\n",
            "Epoch 7/100\n",
            "73/73 [==============================] - 0s 219us/sample - loss: 0.0572 - mean_squared_error: 0.0572 - mean_absolute_error: 0.1953\n",
            "Epoch 8/100\n",
            "73/73 [==============================] - 0s 222us/sample - loss: 0.0568 - mean_squared_error: 0.0568 - mean_absolute_error: 0.1849\n",
            "Epoch 9/100\n",
            "73/73 [==============================] - 0s 260us/sample - loss: 0.0510 - mean_squared_error: 0.0510 - mean_absolute_error: 0.1798\n",
            "Epoch 10/100\n",
            "73/73 [==============================] - 0s 311us/sample - loss: 0.0632 - mean_squared_error: 0.0632 - mean_absolute_error: 0.2089\n",
            "Epoch 11/100\n",
            "73/73 [==============================] - 0s 295us/sample - loss: 0.0496 - mean_squared_error: 0.0496 - mean_absolute_error: 0.1761\n",
            "Epoch 12/100\n",
            "73/73 [==============================] - 0s 291us/sample - loss: 0.0553 - mean_squared_error: 0.0553 - mean_absolute_error: 0.1980\n",
            "Epoch 13/100\n",
            "73/73 [==============================] - 0s 264us/sample - loss: 0.0501 - mean_squared_error: 0.0501 - mean_absolute_error: 0.1751\n",
            "Epoch 14/100\n",
            "73/73 [==============================] - 0s 258us/sample - loss: 0.0548 - mean_squared_error: 0.0548 - mean_absolute_error: 0.1890\n",
            "Epoch 15/100\n",
            "73/73 [==============================] - 0s 294us/sample - loss: 0.0533 - mean_squared_error: 0.0533 - mean_absolute_error: 0.1768\n",
            "Epoch 16/100\n",
            "73/73 [==============================] - 0s 262us/sample - loss: 0.0535 - mean_squared_error: 0.0535 - mean_absolute_error: 0.1738\n",
            "Epoch 17/100\n",
            "73/73 [==============================] - 0s 248us/sample - loss: 0.0440 - mean_squared_error: 0.0440 - mean_absolute_error: 0.1663\n",
            "Epoch 18/100\n",
            "73/73 [==============================] - 0s 253us/sample - loss: 0.0387 - mean_squared_error: 0.0387 - mean_absolute_error: 0.1515\n",
            "Epoch 19/100\n",
            "73/73 [==============================] - 0s 238us/sample - loss: 0.0432 - mean_squared_error: 0.0432 - mean_absolute_error: 0.1589\n",
            "Epoch 20/100\n",
            "73/73 [==============================] - 0s 230us/sample - loss: 0.0519 - mean_squared_error: 0.0519 - mean_absolute_error: 0.1860\n",
            "Epoch 21/100\n",
            "73/73 [==============================] - 0s 235us/sample - loss: 0.0311 - mean_squared_error: 0.0311 - mean_absolute_error: 0.1415\n",
            "Epoch 22/100\n",
            "73/73 [==============================] - 0s 219us/sample - loss: 0.0435 - mean_squared_error: 0.0435 - mean_absolute_error: 0.1621\n",
            "Epoch 23/100\n",
            "73/73 [==============================] - 0s 274us/sample - loss: 0.0358 - mean_squared_error: 0.0358 - mean_absolute_error: 0.1541\n",
            "Epoch 24/100\n",
            "73/73 [==============================] - 0s 232us/sample - loss: 0.0382 - mean_squared_error: 0.0382 - mean_absolute_error: 0.1580\n",
            "Epoch 25/100\n",
            "73/73 [==============================] - 0s 274us/sample - loss: 0.0339 - mean_squared_error: 0.0339 - mean_absolute_error: 0.1420\n",
            "Epoch 26/100\n",
            "73/73 [==============================] - 0s 229us/sample - loss: 0.0329 - mean_squared_error: 0.0329 - mean_absolute_error: 0.1378\n",
            "Epoch 27/100\n",
            "73/73 [==============================] - 0s 221us/sample - loss: 0.0280 - mean_squared_error: 0.0280 - mean_absolute_error: 0.1358\n",
            "Epoch 28/100\n",
            "73/73 [==============================] - 0s 249us/sample - loss: 0.0353 - mean_squared_error: 0.0353 - mean_absolute_error: 0.1563\n",
            "Epoch 29/100\n",
            "73/73 [==============================] - 0s 219us/sample - loss: 0.0274 - mean_squared_error: 0.0274 - mean_absolute_error: 0.1274\n",
            "Epoch 30/100\n",
            "73/73 [==============================] - 0s 238us/sample - loss: 0.0336 - mean_squared_error: 0.0336 - mean_absolute_error: 0.1431\n",
            "Epoch 31/100\n",
            "73/73 [==============================] - 0s 254us/sample - loss: 0.0405 - mean_squared_error: 0.0405 - mean_absolute_error: 0.1507\n",
            "Epoch 32/100\n",
            "73/73 [==============================] - 0s 230us/sample - loss: 0.0347 - mean_squared_error: 0.0347 - mean_absolute_error: 0.1439\n",
            "Epoch 33/100\n",
            "73/73 [==============================] - 0s 242us/sample - loss: 0.0369 - mean_squared_error: 0.0369 - mean_absolute_error: 0.1514\n",
            "Epoch 34/100\n",
            "73/73 [==============================] - 0s 236us/sample - loss: 0.0348 - mean_squared_error: 0.0348 - mean_absolute_error: 0.1375\n",
            "Epoch 35/100\n",
            "73/73 [==============================] - 0s 231us/sample - loss: 0.0340 - mean_squared_error: 0.0340 - mean_absolute_error: 0.1465\n",
            "Epoch 36/100\n",
            "73/73 [==============================] - 0s 234us/sample - loss: 0.0305 - mean_squared_error: 0.0305 - mean_absolute_error: 0.1255\n",
            "Epoch 37/100\n",
            "73/73 [==============================] - 0s 294us/sample - loss: 0.0292 - mean_squared_error: 0.0292 - mean_absolute_error: 0.1296\n",
            "Epoch 38/100\n",
            "73/73 [==============================] - 0s 275us/sample - loss: 0.0317 - mean_squared_error: 0.0317 - mean_absolute_error: 0.1288\n",
            "Epoch 39/100\n",
            "73/73 [==============================] - 0s 329us/sample - loss: 0.0273 - mean_squared_error: 0.0273 - mean_absolute_error: 0.1258\n",
            "Epoch 40/100\n",
            "73/73 [==============================] - 0s 264us/sample - loss: 0.0304 - mean_squared_error: 0.0304 - mean_absolute_error: 0.1313\n",
            "Epoch 41/100\n",
            "73/73 [==============================] - 0s 263us/sample - loss: 0.0240 - mean_squared_error: 0.0240 - mean_absolute_error: 0.1165\n",
            "Epoch 42/100\n",
            "73/73 [==============================] - 0s 253us/sample - loss: 0.0236 - mean_squared_error: 0.0236 - mean_absolute_error: 0.1196\n",
            "Epoch 43/100\n",
            "73/73 [==============================] - 0s 234us/sample - loss: 0.0257 - mean_squared_error: 0.0257 - mean_absolute_error: 0.1244\n",
            "Epoch 44/100\n",
            "73/73 [==============================] - 0s 289us/sample - loss: 0.0231 - mean_squared_error: 0.0231 - mean_absolute_error: 0.1126\n",
            "Epoch 45/100\n",
            "73/73 [==============================] - 0s 266us/sample - loss: 0.0250 - mean_squared_error: 0.0250 - mean_absolute_error: 0.1154\n",
            "Epoch 46/100\n",
            "73/73 [==============================] - 0s 319us/sample - loss: 0.0243 - mean_squared_error: 0.0243 - mean_absolute_error: 0.1218\n",
            "Epoch 47/100\n",
            "73/73 [==============================] - 0s 231us/sample - loss: 0.0297 - mean_squared_error: 0.0297 - mean_absolute_error: 0.1338\n",
            "Epoch 48/100\n",
            "73/73 [==============================] - 0s 335us/sample - loss: 0.0251 - mean_squared_error: 0.0251 - mean_absolute_error: 0.1204\n",
            "Epoch 49/100\n",
            "73/73 [==============================] - 0s 271us/sample - loss: 0.0322 - mean_squared_error: 0.0322 - mean_absolute_error: 0.1419\n",
            "Epoch 50/100\n",
            "73/73 [==============================] - 0s 295us/sample - loss: 0.0261 - mean_squared_error: 0.0261 - mean_absolute_error: 0.1212\n",
            "Epoch 51/100\n",
            "73/73 [==============================] - 0s 246us/sample - loss: 0.0232 - mean_squared_error: 0.0232 - mean_absolute_error: 0.1215\n",
            "Epoch 52/100\n",
            "73/73 [==============================] - 0s 283us/sample - loss: 0.0284 - mean_squared_error: 0.0284 - mean_absolute_error: 0.1351\n",
            "Epoch 53/100\n",
            "73/73 [==============================] - 0s 249us/sample - loss: 0.0262 - mean_squared_error: 0.0262 - mean_absolute_error: 0.1193\n",
            "Epoch 54/100\n",
            "73/73 [==============================] - 0s 286us/sample - loss: 0.0260 - mean_squared_error: 0.0260 - mean_absolute_error: 0.1253\n",
            "Epoch 55/100\n",
            "73/73 [==============================] - 0s 240us/sample - loss: 0.0238 - mean_squared_error: 0.0238 - mean_absolute_error: 0.1150\n",
            "Epoch 56/100\n",
            "73/73 [==============================] - 0s 250us/sample - loss: 0.0316 - mean_squared_error: 0.0316 - mean_absolute_error: 0.1312\n",
            "Epoch 57/100\n",
            "73/73 [==============================] - 0s 267us/sample - loss: 0.0232 - mean_squared_error: 0.0232 - mean_absolute_error: 0.1148\n",
            "Epoch 58/100\n",
            "73/73 [==============================] - 0s 349us/sample - loss: 0.0239 - mean_squared_error: 0.0239 - mean_absolute_error: 0.1198\n",
            "Epoch 59/100\n",
            "73/73 [==============================] - 0s 326us/sample - loss: 0.0249 - mean_squared_error: 0.0249 - mean_absolute_error: 0.1261\n",
            "Epoch 60/100\n",
            "73/73 [==============================] - 0s 258us/sample - loss: 0.0202 - mean_squared_error: 0.0202 - mean_absolute_error: 0.1035\n",
            "Epoch 61/100\n",
            "73/73 [==============================] - 0s 255us/sample - loss: 0.0240 - mean_squared_error: 0.0240 - mean_absolute_error: 0.1194\n",
            "Epoch 62/100\n",
            "73/73 [==============================] - 0s 214us/sample - loss: 0.0251 - mean_squared_error: 0.0251 - mean_absolute_error: 0.1225\n",
            "Epoch 63/100\n",
            "73/73 [==============================] - 0s 212us/sample - loss: 0.0276 - mean_squared_error: 0.0276 - mean_absolute_error: 0.1228\n",
            "Epoch 64/100\n",
            "73/73 [==============================] - 0s 215us/sample - loss: 0.0258 - mean_squared_error: 0.0258 - mean_absolute_error: 0.1167\n",
            "Epoch 65/100\n",
            "73/73 [==============================] - 0s 230us/sample - loss: 0.0210 - mean_squared_error: 0.0210 - mean_absolute_error: 0.1092\n",
            "Epoch 66/100\n",
            "73/73 [==============================] - 0s 206us/sample - loss: 0.0207 - mean_squared_error: 0.0207 - mean_absolute_error: 0.1072\n",
            "Epoch 67/100\n",
            "73/73 [==============================] - 0s 213us/sample - loss: 0.0235 - mean_squared_error: 0.0235 - mean_absolute_error: 0.1160\n",
            "Epoch 68/100\n",
            "73/73 [==============================] - 0s 325us/sample - loss: 0.0235 - mean_squared_error: 0.0235 - mean_absolute_error: 0.1171\n",
            "Epoch 69/100\n",
            "73/73 [==============================] - 0s 352us/sample - loss: 0.0184 - mean_squared_error: 0.0184 - mean_absolute_error: 0.1031\n",
            "Epoch 70/100\n",
            "73/73 [==============================] - 0s 298us/sample - loss: 0.0199 - mean_squared_error: 0.0199 - mean_absolute_error: 0.1050\n",
            "Epoch 71/100\n",
            "73/73 [==============================] - 0s 277us/sample - loss: 0.0237 - mean_squared_error: 0.0237 - mean_absolute_error: 0.1187\n",
            "Epoch 72/100\n",
            "73/73 [==============================] - 0s 277us/sample - loss: 0.0232 - mean_squared_error: 0.0232 - mean_absolute_error: 0.1188\n",
            "Epoch 73/100\n",
            "73/73 [==============================] - 0s 329us/sample - loss: 0.0193 - mean_squared_error: 0.0193 - mean_absolute_error: 0.1070\n",
            "Epoch 74/100\n",
            "73/73 [==============================] - 0s 276us/sample - loss: 0.0242 - mean_squared_error: 0.0242 - mean_absolute_error: 0.1177\n",
            "Epoch 75/100\n",
            "73/73 [==============================] - 0s 291us/sample - loss: 0.0238 - mean_squared_error: 0.0238 - mean_absolute_error: 0.1119\n",
            "Epoch 76/100\n",
            "73/73 [==============================] - 0s 280us/sample - loss: 0.0242 - mean_squared_error: 0.0242 - mean_absolute_error: 0.1139\n",
            "Epoch 77/100\n",
            "73/73 [==============================] - 0s 310us/sample - loss: 0.0175 - mean_squared_error: 0.0175 - mean_absolute_error: 0.1012\n",
            "Epoch 78/100\n",
            "73/73 [==============================] - 0s 263us/sample - loss: 0.0188 - mean_squared_error: 0.0188 - mean_absolute_error: 0.1091\n",
            "Epoch 79/100\n",
            "73/73 [==============================] - 0s 317us/sample - loss: 0.0201 - mean_squared_error: 0.0201 - mean_absolute_error: 0.1101\n",
            "Epoch 80/100\n",
            "73/73 [==============================] - 0s 279us/sample - loss: 0.0162 - mean_squared_error: 0.0162 - mean_absolute_error: 0.0971\n",
            "Epoch 81/100\n",
            "73/73 [==============================] - 0s 278us/sample - loss: 0.0192 - mean_squared_error: 0.0192 - mean_absolute_error: 0.1055\n",
            "Epoch 82/100\n",
            "73/73 [==============================] - 0s 344us/sample - loss: 0.0212 - mean_squared_error: 0.0212 - mean_absolute_error: 0.1069\n",
            "Epoch 83/100\n",
            "73/73 [==============================] - 0s 280us/sample - loss: 0.0200 - mean_squared_error: 0.0200 - mean_absolute_error: 0.0977\n",
            "Epoch 84/100\n",
            "73/73 [==============================] - 0s 248us/sample - loss: 0.0174 - mean_squared_error: 0.0174 - mean_absolute_error: 0.0944\n",
            "Epoch 85/100\n",
            "73/73 [==============================] - 0s 258us/sample - loss: 0.0185 - mean_squared_error: 0.0185 - mean_absolute_error: 0.0940\n",
            "Epoch 86/100\n",
            "73/73 [==============================] - 0s 309us/sample - loss: 0.0193 - mean_squared_error: 0.0193 - mean_absolute_error: 0.1060\n",
            "Epoch 87/100\n",
            "73/73 [==============================] - 0s 266us/sample - loss: 0.0209 - mean_squared_error: 0.0209 - mean_absolute_error: 0.1099\n",
            "Epoch 88/100\n",
            "73/73 [==============================] - 0s 287us/sample - loss: 0.0166 - mean_squared_error: 0.0166 - mean_absolute_error: 0.0994\n",
            "Epoch 89/100\n",
            "73/73 [==============================] - 0s 299us/sample - loss: 0.0183 - mean_squared_error: 0.0183 - mean_absolute_error: 0.1006\n",
            "Epoch 90/100\n",
            "73/73 [==============================] - 0s 273us/sample - loss: 0.0195 - mean_squared_error: 0.0195 - mean_absolute_error: 0.1062\n",
            "Epoch 91/100\n",
            "73/73 [==============================] - 0s 309us/sample - loss: 0.0181 - mean_squared_error: 0.0181 - mean_absolute_error: 0.1078\n",
            "Epoch 92/100\n",
            "73/73 [==============================] - 0s 306us/sample - loss: 0.0188 - mean_squared_error: 0.0188 - mean_absolute_error: 0.1080\n",
            "Epoch 93/100\n",
            "73/73 [==============================] - 0s 286us/sample - loss: 0.0189 - mean_squared_error: 0.0189 - mean_absolute_error: 0.1027\n",
            "Epoch 94/100\n",
            "73/73 [==============================] - 0s 333us/sample - loss: 0.0179 - mean_squared_error: 0.0179 - mean_absolute_error: 0.1026\n",
            "Epoch 95/100\n",
            "73/73 [==============================] - 0s 303us/sample - loss: 0.0194 - mean_squared_error: 0.0194 - mean_absolute_error: 0.1071\n",
            "Epoch 96/100\n",
            "73/73 [==============================] - 0s 331us/sample - loss: 0.0197 - mean_squared_error: 0.0197 - mean_absolute_error: 0.1062\n",
            "Epoch 97/100\n",
            "73/73 [==============================] - 0s 258us/sample - loss: 0.0197 - mean_squared_error: 0.0197 - mean_absolute_error: 0.1058\n",
            "Epoch 98/100\n",
            "73/73 [==============================] - 0s 243us/sample - loss: 0.0189 - mean_squared_error: 0.0189 - mean_absolute_error: 0.1085\n",
            "Epoch 99/100\n",
            "73/73 [==============================] - 0s 282us/sample - loss: 0.0124 - mean_squared_error: 0.0124 - mean_absolute_error: 0.0822\n",
            "Epoch 100/100\n",
            "73/73 [==============================] - 0s 277us/sample - loss: 0.0140 - mean_squared_error: 0.0140 - mean_absolute_error: 0.0917\n"
          ]
        }
      ]
    },
    {
      "cell_type": "code",
      "source": [
        "# Xm4=model4.predict(X_validation)\n",
        "# m4_prediction = scaler.inverse_transform(Xm4)\n",
        "# print(m4_prediction)"
      ],
      "metadata": {
        "id": "celgK9ZqSXeb"
      },
      "execution_count": null,
      "outputs": []
    },
    {
      "cell_type": "code",
      "source": [
        "# from sklearn.metrics import mean_squared_error\n",
        "\n",
        "# Y_validation = Y_validation.reshape(-1,1)\n",
        "# m4_Y_validation = scaler.inverse_transform(Y_validation)\n",
        "\n",
        "# level0_model4_valid_mse = mean_squared_error(m4_prediction, m4_Y_validation)\n",
        "# print(\"level 0 model 4 valid MSE \", level0_model4_valid_mse)"
      ],
      "metadata": {
        "id": "aW4jtLe9ToUN"
      },
      "execution_count": null,
      "outputs": []
    },
    {
      "cell_type": "code",
      "source": [
        "# Xmt4=model4.predict(X_test)\n",
        "# m4_x_test = scaler.inverse_transform(Xmt4)\n",
        "# print(m4_x_test)"
      ],
      "metadata": {
        "id": "BJgdxds7TDR1"
      },
      "execution_count": null,
      "outputs": []
    },
    {
      "cell_type": "code",
      "source": [
        "# Y_test = Y_test.reshape(-1,1)\n",
        "# m4_Y_test = scaler.inverse_transform(Y_test)\n",
        "\n",
        "# level0_model4_test_mse = mean_squared_error(m4_x_test, m4_Y_test)\n",
        "# print(\"level 0 model 4 test MSE \", level0_model4_test_mse)"
      ],
      "metadata": {
        "id": "BLtuzd_nSajI"
      },
      "execution_count": null,
      "outputs": []
    },
    {
      "cell_type": "markdown",
      "metadata": {
        "id": "4kd1oEFRA6Y8"
      },
      "source": [
        "# Attention"
      ]
    },
    {
      "cell_type": "code",
      "execution_count": null,
      "metadata": {
        "colab": {
          "base_uri": "https://localhost:8080/"
        },
        "id": "OtshSNba-jpU",
        "outputId": "4c910f68-50b9-43f2-c79b-e046be829ca2"
      },
      "outputs": [
        {
          "output_type": "stream",
          "name": "stdout",
          "text": [
            "Looking in indexes: https://pypi.org/simple, https://us-python.pkg.dev/colab-wheels/public/simple/\n",
            "Requirement already satisfied: keras-self-attention in /usr/local/lib/python3.7/dist-packages (0.51.0)\n",
            "Requirement already satisfied: numpy in /usr/local/lib/python3.7/dist-packages (from keras-self-attention) (1.21.6)\n",
            "Train on 73 samples\n",
            "Epoch 1/100\n",
            "73/73 [==============================] - 1s 15ms/sample - loss: 0.5177\n",
            "Epoch 2/100\n",
            "73/73 [==============================] - 0s 638us/sample - loss: 0.1303\n",
            "Epoch 3/100\n",
            "73/73 [==============================] - 0s 726us/sample - loss: 0.0834\n",
            "Epoch 4/100\n",
            "73/73 [==============================] - 0s 1ms/sample - loss: 0.1305\n",
            "Epoch 5/100\n",
            "73/73 [==============================] - 0s 806us/sample - loss: 0.0870\n",
            "Epoch 6/100\n",
            "73/73 [==============================] - 0s 922us/sample - loss: 0.0643\n",
            "Epoch 7/100\n",
            "73/73 [==============================] - 0s 1ms/sample - loss: 0.0592\n",
            "Epoch 8/100\n",
            "73/73 [==============================] - 0s 1ms/sample - loss: 0.0728\n",
            "Epoch 9/100\n",
            "73/73 [==============================] - 0s 1ms/sample - loss: 0.0778\n",
            "Epoch 10/100\n",
            "73/73 [==============================] - 0s 851us/sample - loss: 0.0620\n",
            "Epoch 11/100\n",
            "73/73 [==============================] - 0s 753us/sample - loss: 0.0639\n",
            "Epoch 12/100\n",
            "73/73 [==============================] - 0s 754us/sample - loss: 0.0596\n",
            "Epoch 13/100\n",
            "73/73 [==============================] - 0s 612us/sample - loss: 0.0543\n",
            "Epoch 14/100\n",
            "73/73 [==============================] - 0s 616us/sample - loss: 0.0592\n",
            "Epoch 15/100\n",
            "73/73 [==============================] - 0s 761us/sample - loss: 0.0474\n",
            "Epoch 16/100\n",
            "73/73 [==============================] - 0s 996us/sample - loss: 0.0504\n",
            "Epoch 17/100\n",
            "73/73 [==============================] - 0s 630us/sample - loss: 0.0575\n",
            "Epoch 18/100\n",
            "73/73 [==============================] - 0s 652us/sample - loss: 0.0496\n",
            "Epoch 19/100\n",
            "73/73 [==============================] - 0s 717us/sample - loss: 0.0528\n",
            "Epoch 20/100\n",
            "73/73 [==============================] - 0s 719us/sample - loss: 0.0500\n",
            "Epoch 21/100\n",
            "73/73 [==============================] - 0s 716us/sample - loss: 0.0456\n",
            "Epoch 22/100\n",
            "73/73 [==============================] - 0s 689us/sample - loss: 0.0449\n",
            "Epoch 23/100\n",
            "73/73 [==============================] - 0s 812us/sample - loss: 0.0495\n",
            "Epoch 24/100\n",
            "73/73 [==============================] - 0s 677us/sample - loss: 0.0419\n",
            "Epoch 25/100\n",
            "73/73 [==============================] - 0s 783us/sample - loss: 0.0415\n",
            "Epoch 26/100\n",
            "73/73 [==============================] - 0s 608us/sample - loss: 0.0465\n",
            "Epoch 27/100\n",
            "73/73 [==============================] - 0s 576us/sample - loss: 0.0457\n",
            "Epoch 28/100\n",
            "73/73 [==============================] - 0s 686us/sample - loss: 0.0459\n",
            "Epoch 29/100\n",
            "73/73 [==============================] - 0s 915us/sample - loss: 0.0427\n",
            "Epoch 30/100\n",
            "73/73 [==============================] - 0s 730us/sample - loss: 0.0394\n",
            "Epoch 31/100\n",
            "73/73 [==============================] - 0s 796us/sample - loss: 0.0421\n",
            "Epoch 32/100\n",
            "73/73 [==============================] - 0s 639us/sample - loss: 0.0416\n",
            "Epoch 33/100\n",
            "73/73 [==============================] - 0s 1ms/sample - loss: 0.0417\n",
            "Epoch 34/100\n",
            "73/73 [==============================] - 0s 1ms/sample - loss: 0.0416\n",
            "Epoch 35/100\n",
            "73/73 [==============================] - 0s 772us/sample - loss: 0.0393\n",
            "Epoch 36/100\n",
            "73/73 [==============================] - 0s 980us/sample - loss: 0.0411\n",
            "Epoch 37/100\n",
            "73/73 [==============================] - 0s 1ms/sample - loss: 0.0463\n",
            "Epoch 38/100\n",
            "73/73 [==============================] - 0s 635us/sample - loss: 0.0350\n",
            "Epoch 39/100\n",
            "73/73 [==============================] - 0s 944us/sample - loss: 0.0409\n",
            "Epoch 40/100\n",
            "73/73 [==============================] - 0s 1ms/sample - loss: 0.0398\n",
            "Epoch 41/100\n",
            "73/73 [==============================] - 0s 596us/sample - loss: 0.0381\n",
            "Epoch 42/100\n",
            "73/73 [==============================] - 0s 598us/sample - loss: 0.0399\n",
            "Epoch 43/100\n",
            "73/73 [==============================] - 0s 662us/sample - loss: 0.0404\n",
            "Epoch 44/100\n",
            "73/73 [==============================] - 0s 609us/sample - loss: 0.0377\n",
            "Epoch 45/100\n",
            "73/73 [==============================] - 0s 646us/sample - loss: 0.0367\n",
            "Epoch 46/100\n",
            "73/73 [==============================] - 0s 664us/sample - loss: 0.0401\n",
            "Epoch 47/100\n",
            "73/73 [==============================] - 0s 897us/sample - loss: 0.0385\n",
            "Epoch 48/100\n",
            "73/73 [==============================] - 0s 856us/sample - loss: 0.0390\n",
            "Epoch 49/100\n",
            "73/73 [==============================] - 0s 924us/sample - loss: 0.0318\n",
            "Epoch 50/100\n",
            "73/73 [==============================] - 0s 975us/sample - loss: 0.0324\n",
            "Epoch 51/100\n",
            "73/73 [==============================] - 0s 1ms/sample - loss: 0.0383\n",
            "Epoch 52/100\n",
            "73/73 [==============================] - 0s 938us/sample - loss: 0.0358\n",
            "Epoch 53/100\n",
            "73/73 [==============================] - 0s 768us/sample - loss: 0.0407\n",
            "Epoch 54/100\n",
            "73/73 [==============================] - 0s 1ms/sample - loss: 0.0365\n",
            "Epoch 55/100\n",
            "73/73 [==============================] - 0s 1ms/sample - loss: 0.0407\n",
            "Epoch 56/100\n",
            "73/73 [==============================] - 0s 729us/sample - loss: 0.0332\n",
            "Epoch 57/100\n",
            "73/73 [==============================] - 0s 618us/sample - loss: 0.0363\n",
            "Epoch 58/100\n",
            "73/73 [==============================] - 0s 688us/sample - loss: 0.0352\n",
            "Epoch 59/100\n",
            "73/73 [==============================] - 0s 668us/sample - loss: 0.0358\n",
            "Epoch 60/100\n",
            "73/73 [==============================] - 0s 609us/sample - loss: 0.0345\n",
            "Epoch 61/100\n",
            "73/73 [==============================] - 0s 878us/sample - loss: 0.0314\n",
            "Epoch 62/100\n",
            "73/73 [==============================] - 0s 593us/sample - loss: 0.0414\n",
            "Epoch 63/100\n",
            "73/73 [==============================] - 0s 835us/sample - loss: 0.0320\n",
            "Epoch 64/100\n",
            "73/73 [==============================] - 0s 871us/sample - loss: 0.0355\n",
            "Epoch 65/100\n",
            "73/73 [==============================] - 0s 463us/sample - loss: 0.0355\n",
            "Epoch 66/100\n",
            "73/73 [==============================] - 0s 469us/sample - loss: 0.0369\n",
            "Epoch 67/100\n",
            "73/73 [==============================] - 0s 568us/sample - loss: 0.0302\n",
            "Epoch 68/100\n",
            "73/73 [==============================] - 0s 499us/sample - loss: 0.0326\n",
            "Epoch 69/100\n",
            "73/73 [==============================] - 0s 452us/sample - loss: 0.0332\n",
            "Epoch 70/100\n",
            "73/73 [==============================] - 0s 505us/sample - loss: 0.0308\n",
            "Epoch 71/100\n",
            "73/73 [==============================] - 0s 601us/sample - loss: 0.0333\n",
            "Epoch 72/100\n",
            "73/73 [==============================] - 0s 419us/sample - loss: 0.0310\n",
            "Epoch 73/100\n",
            "73/73 [==============================] - 0s 564us/sample - loss: 0.0275\n",
            "Epoch 74/100\n",
            "73/73 [==============================] - 0s 472us/sample - loss: 0.0293\n",
            "Epoch 75/100\n",
            "73/73 [==============================] - 0s 450us/sample - loss: 0.0272\n",
            "Epoch 76/100\n",
            "73/73 [==============================] - 0s 463us/sample - loss: 0.0240\n",
            "Epoch 77/100\n",
            "73/73 [==============================] - 0s 523us/sample - loss: 0.0283\n",
            "Epoch 78/100\n",
            "73/73 [==============================] - 0s 536us/sample - loss: 0.0293\n",
            "Epoch 79/100\n",
            "73/73 [==============================] - 0s 476us/sample - loss: 0.0255\n",
            "Epoch 80/100\n",
            "73/73 [==============================] - 0s 438us/sample - loss: 0.0245\n",
            "Epoch 81/100\n",
            "73/73 [==============================] - 0s 454us/sample - loss: 0.0275\n",
            "Epoch 82/100\n",
            "73/73 [==============================] - 0s 487us/sample - loss: 0.0300\n",
            "Epoch 83/100\n",
            "73/73 [==============================] - 0s 587us/sample - loss: 0.0272\n",
            "Epoch 84/100\n",
            "73/73 [==============================] - 0s 554us/sample - loss: 0.0331\n",
            "Epoch 85/100\n",
            "73/73 [==============================] - 0s 547us/sample - loss: 0.0245\n",
            "Epoch 86/100\n",
            "73/73 [==============================] - 0s 534us/sample - loss: 0.0288\n",
            "Epoch 87/100\n",
            "73/73 [==============================] - 0s 594us/sample - loss: 0.0212\n",
            "Epoch 88/100\n",
            "73/73 [==============================] - 0s 483us/sample - loss: 0.0225\n",
            "Epoch 89/100\n",
            "73/73 [==============================] - 0s 575us/sample - loss: 0.0242\n",
            "Epoch 90/100\n",
            "73/73 [==============================] - 0s 589us/sample - loss: 0.0215\n",
            "Epoch 91/100\n",
            "73/73 [==============================] - 0s 550us/sample - loss: 0.0253\n",
            "Epoch 92/100\n",
            "73/73 [==============================] - 0s 519us/sample - loss: 0.0186\n",
            "Epoch 93/100\n",
            "73/73 [==============================] - 0s 501us/sample - loss: 0.0191\n",
            "Epoch 94/100\n",
            "73/73 [==============================] - 0s 533us/sample - loss: 0.0212\n",
            "Epoch 95/100\n",
            "73/73 [==============================] - 0s 564us/sample - loss: 0.0192\n",
            "Epoch 96/100\n",
            "73/73 [==============================] - 0s 469us/sample - loss: 0.0226\n",
            "Epoch 97/100\n",
            "73/73 [==============================] - 0s 459us/sample - loss: 0.0227\n",
            "Epoch 98/100\n",
            "73/73 [==============================] - 0s 598us/sample - loss: 0.0194\n",
            "Epoch 99/100\n",
            "73/73 [==============================] - 0s 594us/sample - loss: 0.0184\n",
            "Epoch 100/100\n",
            "73/73 [==============================] - 0s 495us/sample - loss: 0.0161\n"
          ]
        }
      ],
      "source": [
        "# attention (+LSTM)\n",
        "%pip install keras-self-attention\n",
        "from keras_self_attention import SeqSelfAttention\n",
        "\n",
        "model3 = Sequential()\n",
        "model3.add(LSTM(units=NUM_NEURONS, return_sequences = True, input_shape=(X_train.shape[1],X_train.shape[2])))\n",
        "model3.add(Dropout(DROUP_OUT))\n",
        "model3.add(SeqSelfAttention(attention_activation='sigmoid',attention_width=3, history_only=True, attention_type=SeqSelfAttention.ATTENTION_TYPE_MUL))\n",
        "model3.add(LSTM(units=NUM_NEURONS))\n",
        "model3.add(Dropout(DROUP_OUT))\n",
        "model3.add(Dense(forward_days))\n",
        "model3.compile(loss='mean_squared_error', optimizer='adam')\n",
        "\n",
        "history3 =model3.fit(X_train, Y_train, epochs = EPOCHES, batch_size = BATCH_SIZE)"
      ]
    },
    {
      "cell_type": "markdown",
      "source": [
        "# Summary"
      ],
      "metadata": {
        "id": "SK7-RMHyXFnS"
      }
    },
    {
      "cell_type": "code",
      "execution_count": null,
      "metadata": {
        "colab": {
          "base_uri": "https://localhost:8080/"
        },
        "id": "KzrIP03Abrpb",
        "outputId": "ec469287-c584-4dca-859a-d60dda7d743e"
      },
      "outputs": [
        {
          "output_type": "stream",
          "name": "stderr",
          "text": [
            "/usr/local/lib/python3.7/dist-packages/keras/engine/training_v1.py:2067: UserWarning: `Model.state_updates` will be removed in a future version. This property should not be used in TensorFlow 2.0, as `updates` are applied automatically.\n",
            "  updates=self.state_updates,\n"
          ]
        },
        {
          "output_type": "execute_result",
          "data": {
            "text/plain": [
              "(9, 1)"
            ]
          },
          "metadata": {},
          "execution_count": 28
        }
      ],
      "source": [
        "Xm1=model1.predict(X_validation)\n",
        "Xm1.shape"
      ]
    },
    {
      "cell_type": "code",
      "execution_count": null,
      "metadata": {
        "colab": {
          "base_uri": "https://localhost:8080/"
        },
        "id": "vJK_UKUKzgOl",
        "outputId": "2b8c943e-774d-4778-cefb-9c5361554be8"
      },
      "outputs": [
        {
          "output_type": "execute_result",
          "data": {
            "text/plain": [
              "(9, 1)"
            ]
          },
          "metadata": {},
          "execution_count": 29
        }
      ],
      "source": [
        "Xm2=model2.predict(X_validation)\n",
        "Xm2.shape"
      ]
    },
    {
      "cell_type": "code",
      "execution_count": null,
      "metadata": {
        "colab": {
          "base_uri": "https://localhost:8080/"
        },
        "id": "BhJrolcZFzp8",
        "outputId": "79eb154e-0130-4574-be6c-2fdec03ce21a"
      },
      "outputs": [
        {
          "output_type": "execute_result",
          "data": {
            "text/plain": [
              "(9, 1)"
            ]
          },
          "metadata": {},
          "execution_count": 30
        }
      ],
      "source": [
        "Xm3=model3.predict(X_validation)\n",
        "Xm3.shape"
      ]
    },
    {
      "cell_type": "code",
      "source": [
        "Xm4=model4.predict(X_validation)\n",
        "Xm4.shape"
      ],
      "metadata": {
        "colab": {
          "base_uri": "https://localhost:8080/"
        },
        "id": "gwZBR5rhXKjq",
        "outputId": "b33a5dfb-15fa-4684-84c2-2a4c7ad878cd"
      },
      "execution_count": null,
      "outputs": [
        {
          "output_type": "execute_result",
          "data": {
            "text/plain": [
              "(9, 1)"
            ]
          },
          "metadata": {},
          "execution_count": 31
        }
      ]
    },
    {
      "cell_type": "code",
      "execution_count": null,
      "metadata": {
        "colab": {
          "base_uri": "https://localhost:8080/"
        },
        "id": "9Ef-OEENQR6X",
        "outputId": "e551bd1f-49b7-4ea0-9aa5-65358b29f25e"
      },
      "outputs": [
        {
          "output_type": "stream",
          "name": "stdout",
          "text": [
            "[[0.3201869 ]\n",
            " [0.338841  ]\n",
            " [0.34441683]\n",
            " [0.3355632 ]\n",
            " [0.30157495]\n",
            " [0.27438223]\n",
            " [0.2636918 ]\n",
            " [0.2785882 ]\n",
            " [0.30669287]]\n",
            "[[0.37461334]\n",
            " [0.27595052]\n",
            " [0.22656173]\n",
            " [0.24055731]\n",
            " [0.2909872 ]\n",
            " [0.3248115 ]\n",
            " [0.35585538]\n",
            " [0.35705388]\n",
            " [0.33494714]]\n",
            "[[0.36505675]\n",
            " [0.34785128]\n",
            " [0.29790667]\n",
            " [0.24462113]\n",
            " [0.21478704]\n",
            " [0.21749818]\n",
            " [0.25099665]\n",
            " [0.2994885 ]\n",
            " [0.34222272]]\n",
            "[[0.33244875]\n",
            " [0.23984917]\n",
            " [0.21455857]\n",
            " [0.22902097]\n",
            " [0.2527307 ]\n",
            " [0.25013983]\n",
            " [0.2784706 ]\n",
            " [0.2669969 ]\n",
            " [0.25205913]]\n"
          ]
        }
      ],
      "source": [
        "print(Xm1)\n",
        "print(Xm2)\n",
        "print(Xm3)\n",
        "print(Xm4)"
      ]
    },
    {
      "cell_type": "code",
      "execution_count": null,
      "metadata": {
        "id": "hJmVAsMYQcjw",
        "colab": {
          "base_uri": "https://localhost:8080/"
        },
        "outputId": "4d84b8c4-737c-4fc2-85e2-841458d3b0e4"
      },
      "outputs": [
        {
          "output_type": "execute_result",
          "data": {
            "text/plain": [
              "array([[2634.560059],\n",
              "       [2639.399902],\n",
              "       [2666.939941],\n",
              "       [2669.909912],\n",
              "       [2648.050049],\n",
              "       [2654.800049],\n",
              "       [2635.669922],\n",
              "       [2629.72998 ],\n",
              "       [2663.419922]])"
            ]
          },
          "metadata": {},
          "execution_count": 33
        }
      ],
      "source": [
        "Y_validation = Y_validation.reshape(-1,1)\n",
        "m_Y_validation = scaler.inverse_transform(Y_validation)\n",
        "m_Y_validation"
      ]
    },
    {
      "cell_type": "code",
      "execution_count": null,
      "metadata": {
        "colab": {
          "base_uri": "https://localhost:8080/"
        },
        "id": "G_U-w8dTzgIA",
        "outputId": "bcdd73aa-7f55-4248-cf8f-8d1c9ae5a93e"
      },
      "outputs": [
        {
          "output_type": "execute_result",
          "data": {
            "text/plain": [
              "(9, 1)"
            ]
          },
          "metadata": {},
          "execution_count": 34
        }
      ],
      "source": [
        "Y_validation.reshape(-1,1)\n",
        "Y_validation.shape"
      ]
    },
    {
      "cell_type": "code",
      "execution_count": null,
      "metadata": {
        "colab": {
          "base_uri": "https://localhost:8080/"
        },
        "id": "yv9HZtA1zgCh",
        "outputId": "ce327f3e-8d86-41b4-cd8b-14d716ce1081"
      },
      "outputs": [
        {
          "output_type": "stream",
          "name": "stdout",
          "text": [
            "[[2674.453 ]\n",
            " [2679.8975]\n",
            " [2681.525 ]\n",
            " [2678.9407]\n",
            " [2669.0208]\n",
            " [2661.0837]\n",
            " [2657.9639]\n",
            " [2662.3118]\n",
            " [2670.5146]]\n",
            "[[2690.3384]\n",
            " [2661.5417]\n",
            " [2647.1267]\n",
            " [2651.2114]\n",
            " [2665.9304]\n",
            " [2675.8027]\n",
            " [2684.8635]\n",
            " [2685.2134]\n",
            " [2678.761 ]]\n",
            "[[2687.5493]\n",
            " [2682.5273]\n",
            " [2667.9502]\n",
            " [2652.3977]\n",
            " [2643.6897]\n",
            " [2644.4812]\n",
            " [2654.2585]\n",
            " [2668.4116]\n",
            " [2680.8845]]\n",
            "[[2678.032 ]\n",
            " [2651.005 ]\n",
            " [2643.6233]\n",
            " [2647.8445]\n",
            " [2654.7644]\n",
            " [2654.0083]\n",
            " [2662.277 ]\n",
            " [2658.9282]\n",
            " [2654.5686]]\n"
          ]
        }
      ],
      "source": [
        "m1_prediction = scaler.inverse_transform(Xm1)\n",
        "m2_prediction = scaler.inverse_transform(Xm2)\n",
        "m3_prediction = scaler.inverse_transform(Xm3)\n",
        "m4_prediction = scaler.inverse_transform(Xm4)\n",
        "\n",
        "print(m1_prediction)\n",
        "print(m2_prediction)\n",
        "print(m3_prediction)\n",
        "print(m4_prediction)"
      ]
    },
    {
      "cell_type": "markdown",
      "metadata": {
        "id": "ujUEmUDg3xpT"
      },
      "source": [
        "# level 0 model 2 validation unscaled output => m2_prediction"
      ]
    },
    {
      "cell_type": "code",
      "execution_count": null,
      "metadata": {
        "id": "7Ug2yWVxEPwl"
      },
      "outputs": [],
      "source": [
        "# getting test data output"
      ]
    },
    {
      "cell_type": "code",
      "execution_count": null,
      "metadata": {
        "colab": {
          "base_uri": "https://localhost:8080/"
        },
        "id": "QaShQLqTay7e",
        "outputId": "674a6628-dedc-447e-884b-b265d0147909"
      },
      "outputs": [
        {
          "output_type": "execute_result",
          "data": {
            "text/plain": [
              "(9, 1)"
            ]
          },
          "metadata": {},
          "execution_count": 37
        }
      ],
      "source": [
        "Xmt1=model1.predict(X_test)\n",
        "Xmt1.shape"
      ]
    },
    {
      "cell_type": "code",
      "execution_count": null,
      "metadata": {
        "colab": {
          "base_uri": "https://localhost:8080/"
        },
        "id": "jstIRnd2EQUI",
        "outputId": "7a32fd59-6d3c-4479-8c58-8312f05e79fc"
      },
      "outputs": [
        {
          "output_type": "execute_result",
          "data": {
            "text/plain": [
              "(9, 1)"
            ]
          },
          "metadata": {},
          "execution_count": 38
        }
      ],
      "source": [
        "Xmt2=model2.predict(X_test)\n",
        "Xmt2.shape"
      ]
    },
    {
      "cell_type": "code",
      "execution_count": null,
      "metadata": {
        "colab": {
          "base_uri": "https://localhost:8080/"
        },
        "id": "bvzovUD4HBBf",
        "outputId": "68e311a2-9fc2-4598-d1d2-d39009321c19"
      },
      "outputs": [
        {
          "output_type": "execute_result",
          "data": {
            "text/plain": [
              "(9, 1)"
            ]
          },
          "metadata": {},
          "execution_count": 39
        }
      ],
      "source": [
        "Xmt3=model3.predict(X_test)\n",
        "Xmt3.shape"
      ]
    },
    {
      "cell_type": "code",
      "source": [
        "Xmt4=model4.predict(X_test)\n",
        "Xmt4.shape"
      ],
      "metadata": {
        "colab": {
          "base_uri": "https://localhost:8080/"
        },
        "id": "66q3SDY5Xbas",
        "outputId": "9e6eb0fa-d49b-44ad-c899-42bf5ab1a0d1"
      },
      "execution_count": null,
      "outputs": [
        {
          "output_type": "execute_result",
          "data": {
            "text/plain": [
              "(9, 1)"
            ]
          },
          "metadata": {},
          "execution_count": 40
        }
      ]
    },
    {
      "cell_type": "code",
      "execution_count": null,
      "metadata": {
        "colab": {
          "base_uri": "https://localhost:8080/"
        },
        "id": "hipluEHDEQa7",
        "outputId": "7a11a1cb-7481-4545-af33-228617748ae0"
      },
      "outputs": [
        {
          "output_type": "execute_result",
          "data": {
            "text/plain": [
              "(9,)"
            ]
          },
          "metadata": {},
          "execution_count": 41
        }
      ],
      "source": [
        "Y_test.reshape(-1,1)\n",
        "Y_test.shape"
      ]
    },
    {
      "cell_type": "code",
      "execution_count": null,
      "metadata": {
        "id": "r4IvUdS4EQYO"
      },
      "outputs": [],
      "source": [
        "m1_x_test = scaler.inverse_transform(Xmt1)\n",
        "m2_x_test = scaler.inverse_transform(Xmt2)\n",
        "m3_x_test = scaler.inverse_transform(Xmt3)\n",
        "m4_x_test = scaler.inverse_transform(Xmt4)"
      ]
    },
    {
      "cell_type": "code",
      "execution_count": null,
      "metadata": {
        "colab": {
          "base_uri": "https://localhost:8080/"
        },
        "id": "b7AzgzxRR10e",
        "outputId": "39a0887e-1f0a-4b61-9dcd-c2c7cc6c9320"
      },
      "outputs": [
        {
          "output_type": "execute_result",
          "data": {
            "text/plain": [
              "array([[2734.7788],\n",
              "       [2731.794 ],\n",
              "       [2722.668 ],\n",
              "       [2712.209 ],\n",
              "       [2712.4292],\n",
              "       [2717.2478],\n",
              "       [2717.167 ],\n",
              "       [2719.066 ],\n",
              "       [2713.425 ]], dtype=float32)"
            ]
          },
          "metadata": {},
          "execution_count": 43
        }
      ],
      "source": [
        "m1_x_test"
      ]
    },
    {
      "cell_type": "code",
      "execution_count": null,
      "metadata": {
        "colab": {
          "base_uri": "https://localhost:8080/"
        },
        "id": "1jyjCd0jR0oX",
        "outputId": "822c4ca4-05d5-4ab8-fd4c-0bdbec368f9b"
      },
      "outputs": [
        {
          "output_type": "execute_result",
          "data": {
            "text/plain": [
              "array([[2716.1418],\n",
              "       [2720.0764],\n",
              "       [2724.202 ],\n",
              "       [2723.0215],\n",
              "       [2718.903 ],\n",
              "       [2715.7388],\n",
              "       [2710.3655],\n",
              "       [2712.9397],\n",
              "       [2711.8274]], dtype=float32)"
            ]
          },
          "metadata": {},
          "execution_count": 44
        }
      ],
      "source": [
        "m2_x_test"
      ]
    },
    {
      "cell_type": "code",
      "execution_count": null,
      "metadata": {
        "colab": {
          "base_uri": "https://localhost:8080/"
        },
        "id": "EzzEorFRHcZ9",
        "outputId": "9dbf8299-4c0b-4e28-a8bb-3e5516388088"
      },
      "outputs": [
        {
          "output_type": "execute_result",
          "data": {
            "text/plain": [
              "array([[2712.976 ],\n",
              "       [2704.9458],\n",
              "       [2700.0134],\n",
              "       [2696.9324],\n",
              "       [2699.8992],\n",
              "       [2703.3171],\n",
              "       [2701.1592],\n",
              "       [2698.7236],\n",
              "       [2690.097 ]], dtype=float32)"
            ]
          },
          "metadata": {},
          "execution_count": 45
        }
      ],
      "source": [
        "m3_x_test"
      ]
    },
    {
      "cell_type": "code",
      "source": [
        "m4_x_test"
      ],
      "metadata": {
        "colab": {
          "base_uri": "https://localhost:8080/"
        },
        "id": "-w6VVcSQXhcC",
        "outputId": "f34d8717-5d4e-4b38-ebc7-a5a0f663593d"
      },
      "execution_count": null,
      "outputs": [
        {
          "output_type": "execute_result",
          "data": {
            "text/plain": [
              "array([[2712.2866],\n",
              "       [2719.2246],\n",
              "       [2720.9802],\n",
              "       [2720.1958],\n",
              "       [2718.6624],\n",
              "       [2717.4211],\n",
              "       [2707.3235],\n",
              "       [2713.5327],\n",
              "       [2708.1416]], dtype=float32)"
            ]
          },
          "metadata": {},
          "execution_count": 46
        }
      ]
    },
    {
      "cell_type": "code",
      "execution_count": null,
      "metadata": {
        "id": "kp2WeKC_EQQ7",
        "colab": {
          "base_uri": "https://localhost:8080/"
        },
        "outputId": "e75a8422-5a13-47a6-f9a0-dee6fba9f10d"
      },
      "outputs": [
        {
          "output_type": "execute_result",
          "data": {
            "text/plain": [
              "array([[2733.01001 ],\n",
              "       [2724.439941],\n",
              "       [2733.290039],\n",
              "       [2727.76001 ],\n",
              "       [2721.330078],\n",
              "       [2689.860107],\n",
              "       [2724.01001 ],\n",
              "       [2705.27002 ],\n",
              "       [2734.620117]])"
            ]
          },
          "metadata": {},
          "execution_count": 47
        }
      ],
      "source": [
        "Y_test = Y_test.reshape(-1,1)\n",
        "m_Y_test = scaler.inverse_transform(Y_test)\n",
        "m_Y_test"
      ]
    },
    {
      "cell_type": "code",
      "execution_count": null,
      "metadata": {
        "colab": {
          "base_uri": "https://localhost:8080/"
        },
        "id": "Iy_CCijaR7QS",
        "outputId": "64a596b2-624c-4e59-f579-1b1b483453ef"
      },
      "outputs": [
        {
          "output_type": "stream",
          "name": "stdout",
          "text": [
            "level 0 model 1 test MSE  214.17432570587002\n",
            "level 0 model 2 test MSE  205.41379135056266\n",
            "level 0 model 3 test MSE  669.6402252292226\n",
            "level 0 model 4 test MSE  275.5509708139059\n"
          ]
        }
      ],
      "source": [
        "from sklearn.metrics import mean_squared_error\n",
        "\n",
        "level0_model1_test_mse = mean_squared_error(m1_x_test, m_Y_test)\n",
        "print(\"level 0 model 1 test MSE \", level0_model1_test_mse)\n",
        "\n",
        "level0_model2_test_mse = mean_squared_error(m2_x_test, m_Y_test)\n",
        "print(\"level 0 model 2 test MSE \", level0_model2_test_mse)\n",
        "\n",
        "level0_model3_test_mse = mean_squared_error(m3_x_test, m_Y_test)\n",
        "print(\"level 0 model 3 test MSE \", level0_model3_test_mse)\n",
        "\n",
        "level0_model4_test_mse = mean_squared_error(m4_x_test, m_Y_test)\n",
        "print(\"level 0 model 4 test MSE \", level0_model4_test_mse)"
      ]
    },
    {
      "cell_type": "code",
      "execution_count": null,
      "metadata": {
        "id": "evrpxWh3mlNm"
      },
      "outputs": [],
      "source": []
    },
    {
      "cell_type": "code",
      "execution_count": null,
      "metadata": {
        "id": "Uq-ZixDlHmHR"
      },
      "outputs": [],
      "source": []
    },
    {
      "cell_type": "code",
      "source": [],
      "metadata": {
        "id": "ifo61tGkXsQL"
      },
      "execution_count": null,
      "outputs": []
    },
    {
      "cell_type": "markdown",
      "metadata": {
        "id": "2LKkKkni6oT-"
      },
      "source": [
        "# now train level 1 model with level 0 models' output"
      ]
    },
    {
      "cell_type": "code",
      "execution_count": null,
      "metadata": {
        "colab": {
          "base_uri": "https://localhost:8080/"
        },
        "id": "sD4ebszktkwC",
        "outputId": "08d0c7da-4df6-4924-b5ab-7abc62002262"
      },
      "outputs": [
        {
          "output_type": "execute_result",
          "data": {
            "text/plain": [
              "array([[0.18350648],\n",
              "       [0.20008866],\n",
              "       [0.29444584],\n",
              "       [0.3046215 ],\n",
              "       [0.22972564],\n",
              "       [0.25285236],\n",
              "       [0.18730908],\n",
              "       [0.16695776],\n",
              "       [0.28238561]])"
            ]
          },
          "metadata": {},
          "execution_count": 49
        }
      ],
      "source": [
        "Y_validation"
      ]
    },
    {
      "cell_type": "code",
      "execution_count": null,
      "metadata": {
        "colab": {
          "base_uri": "https://localhost:8080/"
        },
        "id": "R9efU4r-G8Bl",
        "outputId": "ca277020-3b26-4a48-ebc7-5e767a4689ed"
      },
      "outputs": [
        {
          "output_type": "execute_result",
          "data": {
            "text/plain": [
              "array([[2634.560059],\n",
              "       [2639.399902],\n",
              "       [2666.939941],\n",
              "       [2669.909912],\n",
              "       [2648.050049],\n",
              "       [2654.800049],\n",
              "       [2635.669922],\n",
              "       [2629.72998 ],\n",
              "       [2663.419922]])"
            ]
          },
          "metadata": {},
          "execution_count": 50
        }
      ],
      "source": [
        "m_Y_validation"
      ]
    },
    {
      "cell_type": "code",
      "execution_count": null,
      "metadata": {
        "id": "F0uzCuUq6nCx"
      },
      "outputs": [],
      "source": [
        "import tensorflow as tf\n",
        "from tensorflow import keras\n",
        "model_ensemble = keras.Sequential([\n",
        "    keras.layers.Flatten(input_shape=(4,)),\n",
        "    keras.layers.Dense(18, activation='relu'),\n",
        "    keras.layers.Dense(9, activation='relu'),\n",
        "    # keras.layers.Dense(4, activation='relu'),\n",
        "    # yucen: change from 2 to 3\n",
        "    # zhiqi: change from 3 to 4\n",
        "    keras.layers.Dense(4, activation='relu'),\n",
        "    keras.layers.Dense(1)\n",
        "])"
      ]
    },
    {
      "cell_type": "code",
      "execution_count": null,
      "metadata": {
        "id": "LA6Ogib_6nLB"
      },
      "outputs": [],
      "source": [
        "model_ensemble.compile(optimizer='rmsprop', loss='mean_squared_error', metrics=['mae'])"
      ]
    },
    {
      "cell_type": "code",
      "execution_count": null,
      "metadata": {
        "id": "c5Hjh1WdTxh3"
      },
      "outputs": [],
      "source": [
        "scaler = MinMaxScaler()\n",
        "normalized_x_validation1 = scaler.fit_transform(m1_prediction)\n",
        "normalized_x_validation2 = scaler.fit_transform(m2_prediction)\n",
        "normalized_x_validation3 = scaler.fit_transform(m3_prediction)\n",
        "normalized_x_validation4 = scaler.fit_transform(m4_prediction)\n",
        "\n",
        "normalized_y_validation = scaler.fit_transform(m_Y_validation)"
      ]
    },
    {
      "cell_type": "code",
      "execution_count": null,
      "metadata": {
        "colab": {
          "base_uri": "https://localhost:8080/"
        },
        "id": "CaY0FyBHVYBC",
        "outputId": "d9c9f7db-ee47-4657-ff83-7b1d8e0135eb"
      },
      "outputs": [
        {
          "output_type": "execute_result",
          "data": {
            "text/plain": [
              "(9, 4)"
            ]
          },
          "metadata": {},
          "execution_count": 54
        }
      ],
      "source": [
        "level1_train_data = np.concatenate((normalized_x_validation1, \n",
        "                                  normalized_x_validation2, \n",
        "                                  normalized_x_validation3,\n",
        "                                  normalized_x_validation4), \n",
        "                                 axis=-1)\n",
        "level1_train_data.shape"
      ]
    },
    {
      "cell_type": "markdown",
      "metadata": {
        "id": "oH1yI_je8cN8"
      },
      "source": []
    },
    {
      "cell_type": "code",
      "execution_count": null,
      "metadata": {
        "colab": {
          "base_uri": "https://localhost:8080/"
        },
        "id": "IL2a6LmM6nQR",
        "outputId": "4302b102-a7c7-4eaa-d577-c964afea0cb5"
      },
      "outputs": [
        {
          "output_type": "stream",
          "name": "stdout",
          "text": [
            "Train on 9 samples\n",
            "Epoch 1/100\n",
            "9/9 [==============================] - 0s 28ms/sample - loss: 0.2625 - mean_absolute_error: 0.3922\n",
            "Epoch 2/100\n",
            "9/9 [==============================] - 0s 2ms/sample - loss: 0.2270 - mean_absolute_error: 0.3868\n",
            "Epoch 3/100\n",
            "9/9 [==============================] - 0s 2ms/sample - loss: 0.2104 - mean_absolute_error: 0.3738\n",
            "Epoch 4/100\n",
            "9/9 [==============================] - 0s 2ms/sample - loss: 0.1978 - mean_absolute_error: 0.3698\n",
            "Epoch 5/100\n",
            "9/9 [==============================] - 0s 2ms/sample - loss: 0.1910 - mean_absolute_error: 0.3643\n",
            "Epoch 6/100\n",
            "9/9 [==============================] - 0s 2ms/sample - loss: 0.1862 - mean_absolute_error: 0.3641\n",
            "Epoch 7/100\n",
            "9/9 [==============================] - 0s 2ms/sample - loss: 0.1821 - mean_absolute_error: 0.3594\n",
            "Epoch 8/100\n",
            "9/9 [==============================] - 0s 2ms/sample - loss: 0.1734 - mean_absolute_error: 0.3603\n",
            "Epoch 9/100\n",
            "9/9 [==============================] - 0s 2ms/sample - loss: 0.1710 - mean_absolute_error: 0.3569\n",
            "Epoch 10/100\n",
            "9/9 [==============================] - 0s 2ms/sample - loss: 0.1677 - mean_absolute_error: 0.3557\n",
            "Epoch 11/100\n",
            "9/9 [==============================] - 0s 4ms/sample - loss: 0.1662 - mean_absolute_error: 0.3503\n",
            "Epoch 12/100\n",
            "9/9 [==============================] - 0s 3ms/sample - loss: 0.1609 - mean_absolute_error: 0.3563\n",
            "Epoch 13/100\n",
            "9/9 [==============================] - 0s 1ms/sample - loss: 0.1590 - mean_absolute_error: 0.3491\n",
            "Epoch 14/100\n",
            "9/9 [==============================] - 0s 2ms/sample - loss: 0.1585 - mean_absolute_error: 0.3516\n",
            "Epoch 15/100\n",
            "9/9 [==============================] - 0s 1ms/sample - loss: 0.1507 - mean_absolute_error: 0.3410\n",
            "Epoch 16/100\n",
            "9/9 [==============================] - 0s 1ms/sample - loss: 0.1504 - mean_absolute_error: 0.3424\n",
            "Epoch 17/100\n",
            "9/9 [==============================] - 0s 1ms/sample - loss: 0.1471 - mean_absolute_error: 0.3455\n",
            "Epoch 18/100\n",
            "9/9 [==============================] - 0s 1ms/sample - loss: 0.1451 - mean_absolute_error: 0.3428\n",
            "Epoch 19/100\n",
            "9/9 [==============================] - 0s 1ms/sample - loss: 0.1448 - mean_absolute_error: 0.3443\n",
            "Epoch 20/100\n",
            "9/9 [==============================] - 0s 1ms/sample - loss: 0.1398 - mean_absolute_error: 0.3423\n",
            "Epoch 21/100\n",
            "9/9 [==============================] - 0s 2ms/sample - loss: 0.1349 - mean_absolute_error: 0.3383\n",
            "Epoch 22/100\n",
            "9/9 [==============================] - 0s 2ms/sample - loss: 0.1368 - mean_absolute_error: 0.3377\n",
            "Epoch 23/100\n",
            "9/9 [==============================] - 0s 2ms/sample - loss: 0.1317 - mean_absolute_error: 0.3297\n",
            "Epoch 24/100\n",
            "9/9 [==============================] - 0s 4ms/sample - loss: 0.1300 - mean_absolute_error: 0.3293\n",
            "Epoch 25/100\n",
            "9/9 [==============================] - 0s 2ms/sample - loss: 0.1278 - mean_absolute_error: 0.3256\n",
            "Epoch 26/100\n",
            "9/9 [==============================] - 0s 3ms/sample - loss: 0.1272 - mean_absolute_error: 0.3236\n",
            "Epoch 27/100\n",
            "9/9 [==============================] - 0s 2ms/sample - loss: 0.1274 - mean_absolute_error: 0.3257\n",
            "Epoch 28/100\n",
            "9/9 [==============================] - 0s 2ms/sample - loss: 0.1225 - mean_absolute_error: 0.3149\n",
            "Epoch 29/100\n",
            "9/9 [==============================] - 0s 3ms/sample - loss: 0.1194 - mean_absolute_error: 0.3169\n",
            "Epoch 30/100\n",
            "9/9 [==============================] - 0s 2ms/sample - loss: 0.1172 - mean_absolute_error: 0.3065\n",
            "Epoch 31/100\n",
            "9/9 [==============================] - 0s 7ms/sample - loss: 0.1143 - mean_absolute_error: 0.3105\n",
            "Epoch 32/100\n",
            "9/9 [==============================] - 0s 2ms/sample - loss: 0.1125 - mean_absolute_error: 0.3112\n",
            "Epoch 33/100\n",
            "9/9 [==============================] - 0s 2ms/sample - loss: 0.1139 - mean_absolute_error: 0.3065\n",
            "Epoch 34/100\n",
            "9/9 [==============================] - 0s 1ms/sample - loss: 0.1109 - mean_absolute_error: 0.3079\n",
            "Epoch 35/100\n",
            "9/9 [==============================] - 0s 2ms/sample - loss: 0.1070 - mean_absolute_error: 0.3058\n",
            "Epoch 36/100\n",
            "9/9 [==============================] - 0s 1ms/sample - loss: 0.1097 - mean_absolute_error: 0.3104\n",
            "Epoch 37/100\n",
            "9/9 [==============================] - 0s 2ms/sample - loss: 0.1025 - mean_absolute_error: 0.2973\n",
            "Epoch 38/100\n",
            "9/9 [==============================] - 0s 2ms/sample - loss: 0.1000 - mean_absolute_error: 0.2933\n",
            "Epoch 39/100\n",
            "9/9 [==============================] - 0s 2ms/sample - loss: 0.1008 - mean_absolute_error: 0.2913\n",
            "Epoch 40/100\n",
            "9/9 [==============================] - 0s 3ms/sample - loss: 0.0980 - mean_absolute_error: 0.2959\n",
            "Epoch 41/100\n",
            "9/9 [==============================] - 0s 2ms/sample - loss: 0.0968 - mean_absolute_error: 0.2911\n",
            "Epoch 42/100\n",
            "9/9 [==============================] - 0s 4ms/sample - loss: 0.0939 - mean_absolute_error: 0.2873\n",
            "Epoch 43/100\n",
            "9/9 [==============================] - 0s 5ms/sample - loss: 0.0964 - mean_absolute_error: 0.2849\n",
            "Epoch 44/100\n",
            "9/9 [==============================] - 0s 2ms/sample - loss: 0.0971 - mean_absolute_error: 0.2856\n",
            "Epoch 45/100\n",
            "9/9 [==============================] - 0s 2ms/sample - loss: 0.0938 - mean_absolute_error: 0.2780\n",
            "Epoch 46/100\n",
            "9/9 [==============================] - 0s 3ms/sample - loss: 0.0910 - mean_absolute_error: 0.2804\n",
            "Epoch 47/100\n",
            "9/9 [==============================] - 0s 3ms/sample - loss: 0.0891 - mean_absolute_error: 0.2768\n",
            "Epoch 48/100\n",
            "9/9 [==============================] - 0s 2ms/sample - loss: 0.0907 - mean_absolute_error: 0.2751\n",
            "Epoch 49/100\n",
            "9/9 [==============================] - 0s 3ms/sample - loss: 0.0894 - mean_absolute_error: 0.2702\n",
            "Epoch 50/100\n",
            "9/9 [==============================] - 0s 9ms/sample - loss: 0.0870 - mean_absolute_error: 0.2713\n",
            "Epoch 51/100\n",
            "9/9 [==============================] - 0s 2ms/sample - loss: 0.0867 - mean_absolute_error: 0.2675\n",
            "Epoch 52/100\n",
            "9/9 [==============================] - 0s 3ms/sample - loss: 0.0839 - mean_absolute_error: 0.2673\n",
            "Epoch 53/100\n",
            "9/9 [==============================] - 0s 3ms/sample - loss: 0.0862 - mean_absolute_error: 0.2697\n",
            "Epoch 54/100\n",
            "9/9 [==============================] - 0s 2ms/sample - loss: 0.0809 - mean_absolute_error: 0.2588\n",
            "Epoch 55/100\n",
            "9/9 [==============================] - 0s 3ms/sample - loss: 0.0813 - mean_absolute_error: 0.2564\n",
            "Epoch 56/100\n",
            "9/9 [==============================] - 0s 2ms/sample - loss: 0.0841 - mean_absolute_error: 0.2621\n",
            "Epoch 57/100\n",
            "9/9 [==============================] - 0s 2ms/sample - loss: 0.0780 - mean_absolute_error: 0.2536\n",
            "Epoch 58/100\n",
            "9/9 [==============================] - 0s 3ms/sample - loss: 0.0810 - mean_absolute_error: 0.2432\n",
            "Epoch 59/100\n",
            "9/9 [==============================] - 0s 3ms/sample - loss: 0.0755 - mean_absolute_error: 0.2487\n",
            "Epoch 60/100\n",
            "9/9 [==============================] - 0s 2ms/sample - loss: 0.0763 - mean_absolute_error: 0.2495\n",
            "Epoch 61/100\n",
            "9/9 [==============================] - 0s 6ms/sample - loss: 0.0781 - mean_absolute_error: 0.2433\n",
            "Epoch 62/100\n",
            "9/9 [==============================] - 0s 2ms/sample - loss: 0.0768 - mean_absolute_error: 0.2424\n",
            "Epoch 63/100\n",
            "9/9 [==============================] - 0s 2ms/sample - loss: 0.0755 - mean_absolute_error: 0.2304\n",
            "Epoch 64/100\n",
            "9/9 [==============================] - 0s 1ms/sample - loss: 0.0725 - mean_absolute_error: 0.2378\n",
            "Epoch 65/100\n",
            "9/9 [==============================] - 0s 1ms/sample - loss: 0.0769 - mean_absolute_error: 0.2391\n",
            "Epoch 66/100\n",
            "9/9 [==============================] - 0s 2ms/sample - loss: 0.0764 - mean_absolute_error: 0.2400\n",
            "Epoch 67/100\n",
            "9/9 [==============================] - 0s 1ms/sample - loss: 0.0732 - mean_absolute_error: 0.2337\n",
            "Epoch 68/100\n",
            "9/9 [==============================] - 0s 1ms/sample - loss: 0.0738 - mean_absolute_error: 0.2350\n",
            "Epoch 69/100\n",
            "9/9 [==============================] - 0s 2ms/sample - loss: 0.0712 - mean_absolute_error: 0.2219\n",
            "Epoch 70/100\n",
            "9/9 [==============================] - 0s 3ms/sample - loss: 0.0703 - mean_absolute_error: 0.2185\n",
            "Epoch 71/100\n",
            "9/9 [==============================] - 0s 2ms/sample - loss: 0.0698 - mean_absolute_error: 0.2222\n",
            "Epoch 72/100\n",
            "9/9 [==============================] - 0s 1ms/sample - loss: 0.0720 - mean_absolute_error: 0.2281\n",
            "Epoch 73/100\n",
            "9/9 [==============================] - 0s 3ms/sample - loss: 0.0708 - mean_absolute_error: 0.2306\n",
            "Epoch 74/100\n",
            "9/9 [==============================] - 0s 2ms/sample - loss: 0.0688 - mean_absolute_error: 0.2269\n",
            "Epoch 75/100\n",
            "9/9 [==============================] - 0s 3ms/sample - loss: 0.0694 - mean_absolute_error: 0.2249\n",
            "Epoch 76/100\n",
            "9/9 [==============================] - 0s 2ms/sample - loss: 0.0677 - mean_absolute_error: 0.2173\n",
            "Epoch 77/100\n",
            "9/9 [==============================] - 0s 3ms/sample - loss: 0.0686 - mean_absolute_error: 0.2182\n",
            "Epoch 78/100\n",
            "9/9 [==============================] - 0s 4ms/sample - loss: 0.0703 - mean_absolute_error: 0.2145\n",
            "Epoch 79/100\n",
            "9/9 [==============================] - 0s 2ms/sample - loss: 0.0678 - mean_absolute_error: 0.2168\n",
            "Epoch 80/100\n",
            "9/9 [==============================] - 0s 2ms/sample - loss: 0.0668 - mean_absolute_error: 0.2041\n",
            "Epoch 81/100\n",
            "9/9 [==============================] - 0s 1ms/sample - loss: 0.0681 - mean_absolute_error: 0.2153\n",
            "Epoch 82/100\n",
            "9/9 [==============================] - 0s 2ms/sample - loss: 0.0678 - mean_absolute_error: 0.2165\n",
            "Epoch 83/100\n",
            "9/9 [==============================] - 0s 4ms/sample - loss: 0.0690 - mean_absolute_error: 0.2181\n",
            "Epoch 84/100\n",
            "9/9 [==============================] - 0s 2ms/sample - loss: 0.0672 - mean_absolute_error: 0.2137\n",
            "Epoch 85/100\n",
            "9/9 [==============================] - 0s 2ms/sample - loss: 0.0671 - mean_absolute_error: 0.2198\n",
            "Epoch 86/100\n",
            "9/9 [==============================] - 0s 2ms/sample - loss: 0.0649 - mean_absolute_error: 0.2110\n",
            "Epoch 87/100\n",
            "9/9 [==============================] - 0s 1ms/sample - loss: 0.0667 - mean_absolute_error: 0.2081\n",
            "Epoch 88/100\n",
            "9/9 [==============================] - 0s 2ms/sample - loss: 0.0657 - mean_absolute_error: 0.2146\n",
            "Epoch 89/100\n",
            "9/9 [==============================] - 0s 3ms/sample - loss: 0.0634 - mean_absolute_error: 0.2054\n",
            "Epoch 90/100\n",
            "9/9 [==============================] - 0s 3ms/sample - loss: 0.0641 - mean_absolute_error: 0.2050\n",
            "Epoch 91/100\n",
            "9/9 [==============================] - 0s 2ms/sample - loss: 0.0635 - mean_absolute_error: 0.2048\n",
            "Epoch 92/100\n",
            "9/9 [==============================] - 0s 2ms/sample - loss: 0.0648 - mean_absolute_error: 0.2080\n",
            "Epoch 93/100\n",
            "9/9 [==============================] - 0s 3ms/sample - loss: 0.0662 - mean_absolute_error: 0.2050\n",
            "Epoch 94/100\n",
            "9/9 [==============================] - 0s 2ms/sample - loss: 0.0662 - mean_absolute_error: 0.2098\n",
            "Epoch 95/100\n",
            "9/9 [==============================] - 0s 3ms/sample - loss: 0.0650 - mean_absolute_error: 0.2003\n",
            "Epoch 96/100\n",
            "9/9 [==============================] - 0s 2ms/sample - loss: 0.0640 - mean_absolute_error: 0.2039\n",
            "Epoch 97/100\n",
            "9/9 [==============================] - 0s 2ms/sample - loss: 0.0626 - mean_absolute_error: 0.2018\n",
            "Epoch 98/100\n",
            "9/9 [==============================] - 0s 2ms/sample - loss: 0.0632 - mean_absolute_error: 0.1947\n",
            "Epoch 99/100\n",
            "9/9 [==============================] - 0s 2ms/sample - loss: 0.0646 - mean_absolute_error: 0.2073\n",
            "Epoch 100/100\n",
            "9/9 [==============================] - 0s 2ms/sample - loss: 0.0636 - mean_absolute_error: 0.1992\n"
          ]
        },
        {
          "output_type": "execute_result",
          "data": {
            "text/plain": [
              "<keras.callbacks.History at 0x7f7c757acfd0>"
            ]
          },
          "metadata": {},
          "execution_count": 55
        }
      ],
      "source": [
        "model_ensemble.fit(level1_train_data, normalized_y_validation, epochs=100, batch_size=2)"
      ]
    },
    {
      "cell_type": "code",
      "execution_count": null,
      "metadata": {
        "id": "2hgymgqFUBUw"
      },
      "outputs": [],
      "source": [
        "normalized_x_test1 = scaler.fit_transform(m1_x_test)\n",
        "normalized_x_test2 = scaler.fit_transform(m2_x_test)\n",
        "normalized_x_test3 = scaler.fit_transform(m3_x_test)\n",
        "normalized_x_test4 = scaler.fit_transform(m4_x_test)"
      ]
    },
    {
      "cell_type": "code",
      "execution_count": null,
      "metadata": {
        "colab": {
          "base_uri": "https://localhost:8080/"
        },
        "id": "DCMh9uXTVltn",
        "outputId": "b0f645f9-34fe-499f-ac57-1f23ce91c1f8"
      },
      "outputs": [
        {
          "output_type": "execute_result",
          "data": {
            "text/plain": [
              "(9, 4)"
            ]
          },
          "metadata": {},
          "execution_count": 57
        }
      ],
      "source": [
        "level1_test_data=np.concatenate(\n",
        "    (normalized_x_test1, \n",
        "     normalized_x_test2, \n",
        "     normalized_x_test3,\n",
        "     normalized_x_test4),\n",
        "     axis=-1)\n",
        "level1_test_data.shape"
      ]
    },
    {
      "cell_type": "code",
      "execution_count": null,
      "metadata": {
        "colab": {
          "base_uri": "https://localhost:8080/"
        },
        "id": "Sb78OZOoTheA",
        "outputId": "bc11921f-3d25-4a0c-b4f2-e8a149e38c68"
      },
      "outputs": [
        {
          "output_type": "stream",
          "name": "stderr",
          "text": [
            "/usr/local/lib/python3.7/dist-packages/keras/engine/training_v1.py:2067: UserWarning: `Model.state_updates` will be removed in a future version. This property should not be used in TensorFlow 2.0, as `updates` are applied automatically.\n",
            "  updates=self.state_updates,\n"
          ]
        },
        {
          "output_type": "execute_result",
          "data": {
            "text/plain": [
              "(9, 1)"
            ]
          },
          "metadata": {},
          "execution_count": 58
        }
      ],
      "source": [
        "Xt_ensemble =model_ensemble.predict(level1_test_data)\n",
        "Xt_ensemble.shape"
      ]
    },
    {
      "cell_type": "code",
      "execution_count": null,
      "metadata": {
        "id": "zcuJLsCzUMEV"
      },
      "outputs": [],
      "source": [
        "predicted_stock_price = scaler.inverse_transform(Xt_ensemble)"
      ]
    },
    {
      "cell_type": "code",
      "execution_count": null,
      "metadata": {
        "colab": {
          "base_uri": "https://localhost:8080/"
        },
        "id": "tyibT7JKThmM",
        "outputId": "26392b17-223d-45ce-f76e-e8aba4b8ad4f"
      },
      "outputs": [
        {
          "output_type": "stream",
          "name": "stdout",
          "text": [
            "Blending Ensemble MSE:  268.58666876927003\n"
          ]
        }
      ],
      "source": [
        "mse = mean_squared_error(predicted_stock_price, m_Y_test)\n",
        "print(\"Blending Ensemble MSE: \", mse)"
      ]
    },
    {
      "cell_type": "code",
      "execution_count": null,
      "metadata": {
        "colab": {
          "base_uri": "https://localhost:8080/"
        },
        "id": "zCSKUHMWW2iV",
        "outputId": "14fb4bcb-f808-4f44-eb21-3656e9bbb231"
      },
      "outputs": [
        {
          "output_type": "execute_result",
          "data": {
            "text/plain": [
              "array([[2715.7678],\n",
              "       [2715.2344],\n",
              "       [2712.4229],\n",
              "       [2709.6865],\n",
              "       [2709.7778],\n",
              "       [2710.936 ],\n",
              "       [2712.1396],\n",
              "       [2712.7227],\n",
              "       [2712.2805]], dtype=float32)"
            ]
          },
          "metadata": {},
          "execution_count": 61
        }
      ],
      "source": [
        "predicted_stock_price"
      ]
    },
    {
      "cell_type": "markdown",
      "source": [
        "# Tables & Charts"
      ],
      "metadata": {
        "id": "Oxx6CYJIbsPs"
      }
    },
    {
      "cell_type": "code",
      "source": [
        "from sklearn.metrics import classification_report, accuracy_score\n",
        "\n",
        "def format_score(y_tf, Y_tf, y, Y):\n",
        "  report = classification_report(y_tf, Y_tf, output_dict=True)\n",
        "  label = 'weighted avg'\n",
        "  mpa = round(float(1 - sum(abs(Y-y) / Y) / len(y)), 6)\n",
        "  mda = accuracy_score(y_tf, Y_tf)\n",
        "  return [mpa, report[label]['precision'], report[label]['recall'], report[label]['f1-score'], mda]\n",
        "\n",
        "m_trends = np.zeros((5, len(m1_x_test) - 1))\n",
        "actual_trends = np.zeros(len(m1_x_test) - 1)\n",
        "for i in range(1, len(m1_x_test)):\n",
        "  m_trends[0][i - 1] = m1_x_test[i] > m1_x_test[i - 1]\n",
        "  m_trends[1][i - 1] = m2_x_test[i] > m2_x_test[i - 1]\n",
        "  m_trends[2][i - 1] = m3_x_test[i] > m3_x_test[i - 1]\n",
        "  m_trends[3][i - 1] = m4_x_test[i] > m4_x_test[i - 1]\n",
        "  m_trends[4][i - 1] = predicted_stock_price[i] > predicted_stock_price[i - 1]\n",
        "  actual_trends[i - 1] = m_Y_test[i] > m_Y_test[i - 1]\n",
        "\n",
        "m1_scores = format_score(m_trends[0], actual_trends, m1_x_test, m_Y_test)\n",
        "m2_scores = format_score(m_trends[1], actual_trends, m2_x_test, m_Y_test)\n",
        "m3_scores = format_score(m_trends[2], actual_trends, m3_x_test, m_Y_test)\n",
        "m4_scores = format_score(m_trends[3], actual_trends, m4_x_test, m_Y_test)\n",
        "m_ensemble_scores = format_score(m_trends[4], actual_trends, predicted_stock_price, m_Y_test)"
      ],
      "metadata": {
        "id": "JIzJW46LfnIg"
      },
      "execution_count": null,
      "outputs": []
    },
    {
      "cell_type": "code",
      "source": [
        "# Table\n",
        "# MSE, MPA, Precision, Recall, F1-score, MDA\n",
        "data = [\n",
        "    [level0_model1_test_mse, level0_model2_test_mse, level0_model3_test_mse, level0_model4_test_mse, mse],\n",
        "    [m1_scores[0], m2_scores[0], m3_scores[0], m4_scores[0], m_ensemble_scores[0]],\n",
        "    [m1_scores[1], m2_scores[1], m3_scores[1], m4_scores[1], m_ensemble_scores[1]],\n",
        "    [m1_scores[2], m2_scores[2], m3_scores[2], m4_scores[2], m_ensemble_scores[2]],\n",
        "    [m1_scores[3], m2_scores[3], m3_scores[3], m4_scores[3], m_ensemble_scores[3]],\n",
        "    [m1_scores[4], m2_scores[4], m3_scores[4], m4_scores[4], m_ensemble_scores[4]],\n",
        "    \n",
        "]\n",
        "\n",
        "df_metrics = pd.DataFrame(data=data, index=['MSE', 'MPA', 'Precision', 'Recall', 'F1-score', 'MDA'], columns=[\"LSTM\", \"GRU\", \"Attention\", \"CNN_LSTM\", \"Blending Ensemble\"])\n",
        "print(df_metrics)\n",
        "# LSTM, GRU, CNN_LSTM, Attention, blending_ensemble"
      ],
      "metadata": {
        "colab": {
          "base_uri": "https://localhost:8080/"
        },
        "id": "OdupNalIcaKt",
        "outputId": "930fc377-d598-420d-b399-77cbf438f90d"
      },
      "execution_count": null,
      "outputs": [
        {
          "output_type": "stream",
          "name": "stdout",
          "text": [
            "                 LSTM         GRU   Attention    CNN_LSTM  Blending Ensemble\n",
            "MSE        214.174326  205.413791  669.640225  275.550971         268.586669\n",
            "MPA          0.995361    0.995608    0.991341    0.994793           0.994299\n",
            "Precision    0.250000    0.500000    0.450000    0.500000           0.366667\n",
            "Recall       0.250000    0.500000    0.375000    0.500000           0.375000\n",
            "F1-score     0.250000    0.500000    0.409091    0.500000           0.365079\n",
            "MDA          0.250000    0.500000    0.375000    0.500000           0.375000\n"
          ]
        }
      ]
    },
    {
      "cell_type": "code",
      "source": [
        "# Charts\n",
        "fig = plt.figure(figsize = (15, 5))\n",
        "\n",
        "starting_time_idx = 85\n",
        "models = [\"LSTM\", \"GRU\", \"Attention\", \"CNN_LSTM\", \"Blending Ensemble\"]\n",
        "colors = ['tab:orange', 'tab:green', 'tab:red', 'tab:purple', 'tab:grey']\n",
        "results = [m1_x_test, m2_x_test, m3_x_test, m4_x_test, predicted_stock_price]\n",
        "# Actual Stock\n",
        "plt.plot(df2.index[starting_time_idx:], df2['Adj Close'][starting_time_idx:], label = 'Actual Stock', c = 'tab:blue')\n",
        "# Prediction\n",
        "for i, r in enumerate(results):\n",
        "    plt.plot(test_data.index[-9:], r, linestyle='dashed', label = '%s' % (models[i]), c = colors[i])\n",
        "\n",
        "plt.xticks(df2.index[starting_time_idx::10], df2.index[starting_time_idx::10])\n",
        "plt.legend()\n",
        "plt.show()"
      ],
      "metadata": {
        "colab": {
          "base_uri": "https://localhost:8080/",
          "height": 324
        },
        "id": "VFFWJrQ_ccMX",
        "outputId": "12f8318c-700b-4cf2-bcc4-c9263bf440ac"
      },
      "execution_count": null,
      "outputs": [
        {
          "output_type": "display_data",
          "data": {
            "text/plain": [
              "<Figure size 1080x360 with 1 Axes>"
            ],
            "image/png": "[encoded data removed]"
          },
          "metadata": {
            "needs_background": "light"
          }
        }
      ]
    }
  ],
  "metadata": {
    "colab": {
      "provenance": []
    },
    "kernelspec": {
      "display_name": "Python 3.8.8 ('base')",
      "language": "python",
      "name": "python3"
    },
    "language_info": {
      "codemirror_mode": {
        "name": "ipython",
        "version": 3
      },
      "file_extension": ".py",
      "mimetype": "text/x-python",
      "name": "python",
      "nbconvert_exporter": "python",
      "pygments_lexer": "ipython3",
      "version": "3.8.8"
    },
    "vscode": {
      "interpreter": {
        "hash": "30855fca1de1a9e76fb191234c06e457444d085aee49bba65a45b68036adabaf"
      }
    }
  },
  "nbformat": 4,
  "nbformat_minor": 0
}